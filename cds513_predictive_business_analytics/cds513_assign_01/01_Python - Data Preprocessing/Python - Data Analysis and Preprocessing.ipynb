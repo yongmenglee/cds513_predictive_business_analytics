{
 "cells": [
  {
   "cell_type": "markdown",
   "metadata": {},
   "source": [
    "# CDS513 Assignment 1: Recommendation System in Python"
   ]
  },
  {
   "cell_type": "markdown",
   "metadata": {},
   "source": [
    "*Opening Note:*\n",
    "\n",
    "*This is a notebook to generate readings for RapidMiner input.*"
   ]
  },
  {
   "cell_type": "markdown",
   "metadata": {},
   "source": [
    "## Overview\n",
    "\n",
    "**1. [Problem Background](#background)**\n",
    "\n",
    "**2. [Dataset Description](#data)**\n",
    "- ***2.1. [File 1: `ratings.csv`](#data-ratings)***\n",
    "- ***2.2. [File 2: `movies.csv`](#data-movies)***\n",
    "- ***2.3. [File 3: `personality-data.csv`](#data-personality)***  \n",
    "  <br/>\n",
    "  \n",
    "**3. [Data Analysis](#analysis)**\n",
    "\n",
    "**4. [Data Preprocessing](#preprocessing)**\n",
    "- ***4.1. [Remove Duplicates](#preprocessing-dup)***\n",
    "- ***4.2. [Reduce Amount of Ratings Data](#preprocessing-reduce)***\n",
    "  - 4.2.1. [Filter by rating year](#preprocessing-year)\n",
    "  - 4.2.2. [Filter ratings by movie count](#preprocessing-movie-count)\n",
    "  - 4.2.3. [Filter ratings by user count](#preprocessing-user-count)\n",
    "  - 4.2.4. [Train-test split](#preprocess-split)\n",
    "- ***4.3. [Generate Attributes for Movies](#preprocess-movie-attr)***\n",
    "- ***4.4. [Generate Attributes for Users](#preprocess-user-attr)***"
   ]
  },
  {
   "cell_type": "markdown",
   "metadata": {},
   "source": [
    "Import necessary packages for Recommender System."
   ]
  },
  {
   "cell_type": "code",
   "execution_count": 1,
   "metadata": {},
   "outputs": [],
   "source": [
    "import numpy as np\n",
    "import pandas as pd\n",
    "import matplotlib.pyplot as plt\n",
    "import seaborn as sns\n",
    "import scipy\n",
    "import sklearn\n",
    "\n",
    "from collections import defaultdict\n",
    "\n",
    "from sklearn.model_selection import train_test_split\n",
    "from sklearn.metrics.pairwise import cosine_similarity\n",
    "\n",
    "# And more."
   ]
  },
  {
   "cell_type": "markdown",
   "metadata": {},
   "source": [
    "Change numeric representation of float numbers in Pandas DataFrame."
   ]
  },
  {
   "cell_type": "code",
   "execution_count": 2,
   "metadata": {},
   "outputs": [],
   "source": [
    "pd.set_option('display.float_format', lambda x: '%2.4f' % x)"
   ]
  },
  {
   "cell_type": "markdown",
   "metadata": {},
   "source": [
    "***\n",
    "\n",
    "# 1. Problem Background <a name=\"background\"></a>\n",
    "\n",
    "<div style=\"text-align:center\">=== Refer to the Assignment 1 Report. ===</div>"
   ]
  },
  {
   "cell_type": "markdown",
   "metadata": {},
   "source": [
    "# 2. Dataset Description <a name=\"data\"></a>\n",
    "\n",
    "About the data: Personality 2018. Available at: https://grouplens.org/datasets/personality-2018/\n",
    "\n",
    "Inspect the following file: `ratings.csv` ~and `personality-data.csv`~"
   ]
  },
  {
   "cell_type": "markdown",
   "metadata": {},
   "source": [
    "## 2.1. File 1: `ratings.csv` <a name=\"data-ratings\"></a>\n",
    "\n",
    "Define the root directory to access the data."
   ]
  },
  {
   "cell_type": "code",
   "execution_count": 3,
   "metadata": {},
   "outputs": [],
   "source": [
    "DIRECTORY = 'data'"
   ]
  },
  {
   "cell_type": "markdown",
   "metadata": {},
   "source": [
    "Load the data from `ratings.csv` into a Pandas DataFrame called `df_ratings` using [`read_csv()`](https://pandas.pydata.org/docs/reference/api/pandas.read_csv.html#pandas-read-csv) function. Set the parameter `skipinitialspace=True` when reading data from file: \n",
    "\n",
    "According to the documentation of the Pandas `read_csv()` function.\n",
    "\n",
    "\n",
    "> **skipinitialspacebool : *default False***<br />\n",
    "> - Skip spaces after delimiter."
   ]
  },
  {
   "cell_type": "code",
   "execution_count": 4,
   "metadata": {},
   "outputs": [],
   "source": [
    "file_ratings = f\"{DIRECTORY}\\\\ratings.csv\"\n",
    "df_ratings = pd.read_csv(file_ratings, skipinitialspace=True)"
   ]
  },
  {
   "cell_type": "markdown",
   "metadata": {},
   "source": [
    "Inspect the first 5 rows of `df_ratings` DataFrame."
   ]
  },
  {
   "cell_type": "code",
   "execution_count": 5,
   "metadata": {
    "scrolled": true
   },
   "outputs": [
    {
     "data": {
      "text/html": [
       "<div>\n",
       "<style scoped>\n",
       "    .dataframe tbody tr th:only-of-type {\n",
       "        vertical-align: middle;\n",
       "    }\n",
       "\n",
       "    .dataframe tbody tr th {\n",
       "        vertical-align: top;\n",
       "    }\n",
       "\n",
       "    .dataframe thead th {\n",
       "        text-align: right;\n",
       "    }\n",
       "</style>\n",
       "<table border=\"1\" class=\"dataframe\">\n",
       "  <thead>\n",
       "    <tr style=\"text-align: right;\">\n",
       "      <th></th>\n",
       "      <th>useri</th>\n",
       "      <th>movie_id</th>\n",
       "      <th>rating</th>\n",
       "      <th>tstamp</th>\n",
       "    </tr>\n",
       "  </thead>\n",
       "  <tbody>\n",
       "    <tr>\n",
       "      <th>0</th>\n",
       "      <td>8e7cebf9a234c064b75016249f2ac65e</td>\n",
       "      <td>1</td>\n",
       "      <td>5.0000</td>\n",
       "      <td>2001-09-10 17:19:56</td>\n",
       "    </tr>\n",
       "    <tr>\n",
       "      <th>1</th>\n",
       "      <td>8e7cebf9a234c064b75016249f2ac65e</td>\n",
       "      <td>2</td>\n",
       "      <td>4.0000</td>\n",
       "      <td>2001-09-28 11:34:55</td>\n",
       "    </tr>\n",
       "    <tr>\n",
       "      <th>2</th>\n",
       "      <td>8e7cebf9a234c064b75016249f2ac65e</td>\n",
       "      <td>3</td>\n",
       "      <td>4.0000</td>\n",
       "      <td>2001-09-28 11:42:50</td>\n",
       "    </tr>\n",
       "    <tr>\n",
       "      <th>3</th>\n",
       "      <td>8e7cebf9a234c064b75016249f2ac65e</td>\n",
       "      <td>5</td>\n",
       "      <td>5.0000</td>\n",
       "      <td>2001-09-28 11:27:30</td>\n",
       "    </tr>\n",
       "    <tr>\n",
       "      <th>4</th>\n",
       "      <td>8e7cebf9a234c064b75016249f2ac65e</td>\n",
       "      <td>6</td>\n",
       "      <td>4.0000</td>\n",
       "      <td>2002-01-07 18:12:02</td>\n",
       "    </tr>\n",
       "  </tbody>\n",
       "</table>\n",
       "</div>"
      ],
      "text/plain": [
       "                              useri  movie_id  rating               tstamp \n",
       "0  8e7cebf9a234c064b75016249f2ac65e         1  5.0000  2001-09-10 17:19:56 \n",
       "1  8e7cebf9a234c064b75016249f2ac65e         2  4.0000  2001-09-28 11:34:55 \n",
       "2  8e7cebf9a234c064b75016249f2ac65e         3  4.0000  2001-09-28 11:42:50 \n",
       "3  8e7cebf9a234c064b75016249f2ac65e         5  5.0000  2001-09-28 11:27:30 \n",
       "4  8e7cebf9a234c064b75016249f2ac65e         6  4.0000  2002-01-07 18:12:02 "
      ]
     },
     "metadata": {},
     "output_type": "display_data"
    },
    {
     "data": {
      "text/plain": [
       "(1028751, 4)"
      ]
     },
     "metadata": {},
     "output_type": "display_data"
    }
   ],
   "source": [
    "display(df_ratings.head(5))\n",
    "display(df_ratings.shape)"
   ]
  },
  {
   "cell_type": "markdown",
   "metadata": {},
   "source": [
    "**Note:** The `ratings.csv` file consists of 1,028,751 records."
   ]
  },
  {
   "cell_type": "markdown",
   "metadata": {},
   "source": [
    "Rename the columns of `df_ratings` DataFrame for more convenient data manipulations."
   ]
  },
  {
   "cell_type": "code",
   "execution_count": 6,
   "metadata": {
    "scrolled": true
   },
   "outputs": [
    {
     "data": {
      "text/plain": [
       "Index(['user_id', 'movie_id', 'rating', 'timestamp'], dtype='object')"
      ]
     },
     "execution_count": 6,
     "metadata": {},
     "output_type": "execute_result"
    }
   ],
   "source": [
    "df_ratings.columns = ['user_id', 'movie_id', 'rating', 'timestamp']\n",
    "df_ratings.columns"
   ]
  },
  {
   "cell_type": "markdown",
   "metadata": {},
   "source": [
    "**Note:** The file `ratings.csv` contains 4 columns:\n",
    "- `user_id`\n",
    "- `movie_id`\n",
    "- `rating`\n",
    "- `timestamp`\n",
    "\n",
    "The first 3 columns `user_id`, `movie_id`, `ratings` will be used for collaborative filtering.\n",
    "\n",
    "> Perform train-test split using `stratified` for simplicity."
   ]
  },
  {
   "cell_type": "markdown",
   "metadata": {},
   "source": [
    "Inspect the description of `df_ratings` DataFrame, including the types of its columns."
   ]
  },
  {
   "cell_type": "code",
   "execution_count": 7,
   "metadata": {},
   "outputs": [
    {
     "name": "stdout",
     "output_type": "stream",
     "text": [
      "<class 'pandas.core.frame.DataFrame'>\n",
      "RangeIndex: 1028751 entries, 0 to 1028750\n",
      "Data columns (total 4 columns):\n",
      " #   Column     Non-Null Count    Dtype  \n",
      "---  ------     --------------    -----  \n",
      " 0   user_id    1028751 non-null  object \n",
      " 1   movie_id   1028751 non-null  int64  \n",
      " 2   rating     1028751 non-null  float64\n",
      " 3   timestamp  1028751 non-null  object \n",
      "dtypes: float64(1), int64(1), object(2)\n",
      "memory usage: 31.4+ MB\n"
     ]
    }
   ],
   "source": [
    "df_ratings.info()"
   ]
  },
  {
   "cell_type": "markdown",
   "metadata": {},
   "source": [
    "**Note:** There is no missing values in `df_ratings` DataFrame."
   ]
  },
  {
   "cell_type": "markdown",
   "metadata": {},
   "source": [
    "Inspect the values of the string columns in `df_ratings` DataFrame."
   ]
  },
  {
   "cell_type": "code",
   "execution_count": 8,
   "metadata": {
    "scrolled": true
   },
   "outputs": [
    {
     "data": {
      "text/html": [
       "<div>\n",
       "<style scoped>\n",
       "    .dataframe tbody tr th:only-of-type {\n",
       "        vertical-align: middle;\n",
       "    }\n",
       "\n",
       "    .dataframe tbody tr th {\n",
       "        vertical-align: top;\n",
       "    }\n",
       "\n",
       "    .dataframe thead th {\n",
       "        text-align: right;\n",
       "    }\n",
       "</style>\n",
       "<table border=\"1\" class=\"dataframe\">\n",
       "  <thead>\n",
       "    <tr style=\"text-align: right;\">\n",
       "      <th></th>\n",
       "      <th>user_id</th>\n",
       "      <th>timestamp</th>\n",
       "    </tr>\n",
       "  </thead>\n",
       "  <tbody>\n",
       "    <tr>\n",
       "      <th>count</th>\n",
       "      <td>1028751</td>\n",
       "      <td>1028751</td>\n",
       "    </tr>\n",
       "    <tr>\n",
       "      <th>unique</th>\n",
       "      <td>1820</td>\n",
       "      <td>964488</td>\n",
       "    </tr>\n",
       "    <tr>\n",
       "      <th>top</th>\n",
       "      <td>1a4926479ca0b4c42df6cefb89aa59d9</td>\n",
       "      <td>2016-04-23 12:32:53</td>\n",
       "    </tr>\n",
       "    <tr>\n",
       "      <th>freq</th>\n",
       "      <td>9286</td>\n",
       "      <td>106</td>\n",
       "    </tr>\n",
       "  </tbody>\n",
       "</table>\n",
       "</div>"
      ],
      "text/plain": [
       "                                 user_id             timestamp\n",
       "count                            1028751               1028751\n",
       "unique                              1820                964488\n",
       "top     1a4926479ca0b4c42df6cefb89aa59d9  2016-04-23 12:32:53 \n",
       "freq                                9286                   106"
      ]
     },
     "execution_count": 8,
     "metadata": {},
     "output_type": "execute_result"
    }
   ],
   "source": [
    "df_ratings.describe(include=[object])"
   ]
  },
  {
   "cell_type": "markdown",
   "metadata": {},
   "source": [
    "##### User ID\n",
    "\n",
    "- The total number of ratings are **1,028,751**.\n",
    "- The number of unique users are **1,820**.\n",
    "- The user who rates the most number of movies is **1a4926479ca0b4c42df6cefb89aa59d9**, with a total of **9,286** movies rated. "
   ]
  },
  {
   "cell_type": "markdown",
   "metadata": {},
   "source": [
    "Inspect the values of the numeric columns in `df_ratings` DataFrame."
   ]
  },
  {
   "cell_type": "code",
   "execution_count": 9,
   "metadata": {},
   "outputs": [
    {
     "data": {
      "text/html": [
       "<div>\n",
       "<style scoped>\n",
       "    .dataframe tbody tr th:only-of-type {\n",
       "        vertical-align: middle;\n",
       "    }\n",
       "\n",
       "    .dataframe tbody tr th {\n",
       "        vertical-align: top;\n",
       "    }\n",
       "\n",
       "    .dataframe thead th {\n",
       "        text-align: right;\n",
       "    }\n",
       "</style>\n",
       "<table border=\"1\" class=\"dataframe\">\n",
       "  <thead>\n",
       "    <tr style=\"text-align: right;\">\n",
       "      <th></th>\n",
       "      <th>movie_id</th>\n",
       "      <th>rating</th>\n",
       "    </tr>\n",
       "  </thead>\n",
       "  <tbody>\n",
       "    <tr>\n",
       "      <th>count</th>\n",
       "      <td>1028751.0000</td>\n",
       "      <td>1028751.0000</td>\n",
       "    </tr>\n",
       "    <tr>\n",
       "      <th>mean</th>\n",
       "      <td>40838.2487</td>\n",
       "      <td>3.3702</td>\n",
       "    </tr>\n",
       "    <tr>\n",
       "      <th>std</th>\n",
       "      <td>48445.3473</td>\n",
       "      <td>1.0101</td>\n",
       "    </tr>\n",
       "    <tr>\n",
       "      <th>min</th>\n",
       "      <td>1.0000</td>\n",
       "      <td>0.5000</td>\n",
       "    </tr>\n",
       "    <tr>\n",
       "      <th>25%</th>\n",
       "      <td>2628.0000</td>\n",
       "      <td>3.0000</td>\n",
       "    </tr>\n",
       "    <tr>\n",
       "      <th>50%</th>\n",
       "      <td>7361.0000</td>\n",
       "      <td>3.5000</td>\n",
       "    </tr>\n",
       "    <tr>\n",
       "      <th>75%</th>\n",
       "      <td>74754.0000</td>\n",
       "      <td>4.0000</td>\n",
       "    </tr>\n",
       "    <tr>\n",
       "      <th>max</th>\n",
       "      <td>198117.0000</td>\n",
       "      <td>5.0000</td>\n",
       "    </tr>\n",
       "  </tbody>\n",
       "</table>\n",
       "</div>"
      ],
      "text/plain": [
       "          movie_id       rating\n",
       "count 1028751.0000 1028751.0000\n",
       "mean    40838.2487       3.3702\n",
       "std     48445.3473       1.0101\n",
       "min         1.0000       0.5000\n",
       "25%      2628.0000       3.0000\n",
       "50%      7361.0000       3.5000\n",
       "75%     74754.0000       4.0000\n",
       "max    198117.0000       5.0000"
      ]
     },
     "execution_count": 9,
     "metadata": {},
     "output_type": "execute_result"
    }
   ],
   "source": [
    "df_ratings.describe(include=[np.number])"
   ]
  },
  {
   "cell_type": "markdown",
   "metadata": {},
   "source": [
    "##### Ratings\n",
    "\n",
    "- The minimum and maximum ratings given by the users are **0.5** and **5.0** respectively.\n",
    "- More than **50%** of the total ratings given by the users are **3.5** and above.\n",
    "\n",
    "##### Movies\n",
    "\n",
    "- The movie ID ranges from **1** to **198117**. "
   ]
  },
  {
   "cell_type": "markdown",
   "metadata": {},
   "source": [
    "Run the following cell to answer the two questions below:\n",
    "- How many unique users and the corresponding number of movies they have rated?\n",
    "- How many unique movies and the corresponding number of ratings received?"
   ]
  },
  {
   "cell_type": "code",
   "execution_count": 10,
   "metadata": {},
   "outputs": [
    {
     "name": "stdout",
     "output_type": "stream",
     "text": [
      "# unique users: 1820\n",
      "Number of ratings given by the users:\n",
      "===\n",
      "1a4926479ca0b4c42df6cefb89aa59d9    9286\n",
      "030001ac2145a938b07e686a35a2d638    8663\n",
      "5251c36a5e4898da28a44a17b065a6b6    7940\n",
      "b54372490fb6e3ccace51c0e3541db08    6743\n",
      "8e7cebf9a234c064b75016249f2ac65e    6419\n",
      "                                    ... \n",
      "c8e7cc901691e1af1acca7bd18008748      15\n",
      "b907feed50762a0a68d150a4a5a876fb      15\n",
      "1a281dc93cf31e7df7c675af254d3a33      15\n",
      "26a31aa56d3ea83b8afb08dfec49b0b3      15\n",
      "93877243a753b9448d522d016dac6a00       2\n",
      "Name: user_id, Length: 1820, dtype: int64\n",
      "\n",
      "# unique movies: 35196\n",
      "Number of ratings received by the movies:\n",
      "===\n",
      "2571      1555\n",
      "79132     1454\n",
      "356       1416\n",
      "4993      1408\n",
      "2959      1384\n",
      "          ... \n",
      "152282       1\n",
      "139988       1\n",
      "84665        1\n",
      "125613       1\n",
      "84691        1\n",
      "Name: movie_id, Length: 35196, dtype: int64\n"
     ]
    }
   ],
   "source": [
    "print(f\"# unique users: {df_ratings['user_id'].nunique()}\")\n",
    "print(\"Number of ratings given by the users:\\n===\")\n",
    "print(df_ratings['user_id'].value_counts())\n",
    "\n",
    "print(f\"\\n# unique movies: {df_ratings['movie_id'].nunique()}\")\n",
    "print(\"Number of ratings received by the movies:\\n===\")\n",
    "print(df_ratings['movie_id'].value_counts())"
   ]
  },
  {
   "cell_type": "markdown",
   "metadata": {},
   "source": [
    "#### Visualization: Long-tail problem / Sparsity\n",
    "\n",
    "Generate density plots to visualize the long-tail problem."
   ]
  },
  {
   "cell_type": "code",
   "execution_count": 11,
   "metadata": {},
   "outputs": [
    {
     "data": {
      "image/png": "[encoded data removed]",
      "text/plain": [
       "<Figure size 1440x576 with 1 Axes>"
      ]
     },
     "metadata": {
      "needs_background": "light"
     },
     "output_type": "display_data"
    }
   ],
   "source": [
    "plt.figure(figsize=(20, 8))\n",
    "\n",
    "# sns.kdeplot(df_ratings['useri'].value_counts())\n",
    "df_ratings['user_id'].value_counts().plot(kind='density')\n",
    "plt.title('Density plot: User density vs Number of movies rated')\n",
    "plt.xlabel('Number of movies rated')\n",
    "plt.xlim(xmin=0)\n",
    "plt.ylim(ymin=0)\n",
    "plt.show()"
   ]
  },
  {
   "cell_type": "markdown",
   "metadata": {},
   "source": [
    "**Note:** For the density plot: User density vs Number of movies rated\n",
    "\n",
    "Most users rate less than 2,000 movies, a very small number of users rates more than 8,000 movies. In particular:\n",
    "\n",
    "- User `1a4926479ca0b4c42df6cefb89aa59d9` has rated 9286 movies.\n",
    "- User `030001ac2145a938b07e686a35a2d638` has rated 8663 movies."
   ]
  },
  {
   "cell_type": "code",
   "execution_count": 12,
   "metadata": {
    "scrolled": false
   },
   "outputs": [
    {
     "data": {
      "image/png": "[encoded data removed]",
      "text/plain": [
       "<Figure size 1440x576 with 1 Axes>"
      ]
     },
     "metadata": {
      "needs_background": "light"
     },
     "output_type": "display_data"
    }
   ],
   "source": [
    "plt.figure(figsize=(20, 8))\n",
    "\n",
    "df_ratings['movie_id'].value_counts().plot(kind='density')\n",
    "plt.title('Density plot: Movie density vs Number of ratings received')\n",
    "plt.xlabel('Number of ratings received')\n",
    "plt.xlim(xmin=0)\n",
    "plt.ylim(ymin=0)\n",
    "plt.show()"
   ]
  },
  {
   "cell_type": "markdown",
   "metadata": {},
   "source": [
    "**Note:**\n",
    "For the density plot: Movie density vs Number of ratings received\n",
    "\n",
    "Most movies receive less than 500 ratings, a very small number of movies receives more than 1,000 ratings. Some examples of movie receiving more than 1,000 ratings are `2571`, `79132`, `356`, `4993`, and `2959`. "
   ]
  },
  {
   "cell_type": "markdown",
   "metadata": {},
   "source": [
    "#### Visualization: Occurrences of each rating\n",
    "\n",
    "Inspect the occurrences of each rating in the `df_ratings` DataFrame."
   ]
  },
  {
   "cell_type": "code",
   "execution_count": 13,
   "metadata": {
    "scrolled": true
   },
   "outputs": [
    {
     "data": {
      "text/plain": [
       "4.0000    239177\n",
       "3.5000    198997\n",
       "3.0000    190944\n",
       "4.5000    101245\n",
       "2.5000     86004\n",
       "5.0000     72279\n",
       "2.0000     67028\n",
       "1.0000     26397\n",
       "1.5000     25279\n",
       "0.5000     21401\n",
       "Name: rating, dtype: int64"
      ]
     },
     "execution_count": 13,
     "metadata": {},
     "output_type": "execute_result"
    }
   ],
   "source": [
    "df_ratings['rating'].value_counts()"
   ]
  },
  {
   "cell_type": "markdown",
   "metadata": {},
   "source": [
    "Generate bar plot to visualize the occurrence of each rating value in the `df_ratings` DataFrame."
   ]
  },
  {
   "cell_type": "code",
   "execution_count": 14,
   "metadata": {},
   "outputs": [
    {
     "data": {
      "image/png": "[encoded data removed]",
      "text/plain": [
       "<Figure size 1440x576 with 1 Axes>"
      ]
     },
     "metadata": {
      "needs_background": "light"
     },
     "output_type": "display_data"
    }
   ],
   "source": [
    "plt.figure(figsize=(20, 8))\n",
    "\n",
    "# sns.kdeplot(df_ratings['useri'].value_counts())\n",
    "df_ratings['rating'].value_counts().sort_index().plot(kind='bar')\n",
    "plt.title('Bar Plot: Occurrences vs. Rating Values')\n",
    "plt.xlabel('Number of movies rated')\n",
    "# plt.xlim(xmin=0)\n",
    "plt.ylim(ymin=0)\n",
    "plt.show()"
   ]
  },
  {
   "cell_type": "markdown",
   "metadata": {},
   "source": [
    "**Note:** For the bar plot: Occurrences vs Rating values\n",
    "\n",
    "The highest rating of all user rating received across all movies is 4.0, with more than 200k ratings."
   ]
  },
  {
   "cell_type": "markdown",
   "metadata": {},
   "source": [
    "## 2.2. File 2: `movies.csv` <a name=\"data-movies\"></a>\n",
    "\n",
    "This file is one of the MovieLens datasets downloaded from GroupLens website: https://grouplens.org/datasets/movielens/.\n",
    "\n",
    "Load the data from `movies.csv` into a Pandas DataFrame called `df_movies` using [`read_csv()`](https://pandas.pydata.org/docs/reference/api/pandas.read_csv.html#pandas-read-csv) function. "
   ]
  },
  {
   "cell_type": "code",
   "execution_count": 15,
   "metadata": {},
   "outputs": [],
   "source": [
    "file_movies = f\"{DIRECTORY}\\\\movies.csv\"\n",
    "df_movies = pd.read_csv(file_movies, skipinitialspace=True)"
   ]
  },
  {
   "cell_type": "code",
   "execution_count": 16,
   "metadata": {
    "scrolled": true
   },
   "outputs": [
    {
     "data": {
      "text/html": [
       "<div>\n",
       "<style scoped>\n",
       "    .dataframe tbody tr th:only-of-type {\n",
       "        vertical-align: middle;\n",
       "    }\n",
       "\n",
       "    .dataframe tbody tr th {\n",
       "        vertical-align: top;\n",
       "    }\n",
       "\n",
       "    .dataframe thead th {\n",
       "        text-align: right;\n",
       "    }\n",
       "</style>\n",
       "<table border=\"1\" class=\"dataframe\">\n",
       "  <thead>\n",
       "    <tr style=\"text-align: right;\">\n",
       "      <th></th>\n",
       "      <th>movieId</th>\n",
       "      <th>title</th>\n",
       "      <th>genres</th>\n",
       "    </tr>\n",
       "  </thead>\n",
       "  <tbody>\n",
       "    <tr>\n",
       "      <th>0</th>\n",
       "      <td>1</td>\n",
       "      <td>Toy Story (1995)</td>\n",
       "      <td>Adventure|Animation|Children|Comedy|Fantasy</td>\n",
       "    </tr>\n",
       "    <tr>\n",
       "      <th>1</th>\n",
       "      <td>2</td>\n",
       "      <td>Jumanji (1995)</td>\n",
       "      <td>Adventure|Children|Fantasy</td>\n",
       "    </tr>\n",
       "    <tr>\n",
       "      <th>2</th>\n",
       "      <td>3</td>\n",
       "      <td>Grumpier Old Men (1995)</td>\n",
       "      <td>Comedy|Romance</td>\n",
       "    </tr>\n",
       "    <tr>\n",
       "      <th>3</th>\n",
       "      <td>4</td>\n",
       "      <td>Waiting to Exhale (1995)</td>\n",
       "      <td>Comedy|Drama|Romance</td>\n",
       "    </tr>\n",
       "    <tr>\n",
       "      <th>4</th>\n",
       "      <td>5</td>\n",
       "      <td>Father of the Bride Part II (1995)</td>\n",
       "      <td>Comedy</td>\n",
       "    </tr>\n",
       "  </tbody>\n",
       "</table>\n",
       "</div>"
      ],
      "text/plain": [
       "   movieId                               title  \\\n",
       "0        1                    Toy Story (1995)   \n",
       "1        2                      Jumanji (1995)   \n",
       "2        3             Grumpier Old Men (1995)   \n",
       "3        4            Waiting to Exhale (1995)   \n",
       "4        5  Father of the Bride Part II (1995)   \n",
       "\n",
       "                                        genres  \n",
       "0  Adventure|Animation|Children|Comedy|Fantasy  \n",
       "1                   Adventure|Children|Fantasy  \n",
       "2                               Comedy|Romance  \n",
       "3                         Comedy|Drama|Romance  \n",
       "4                                       Comedy  "
      ]
     },
     "metadata": {},
     "output_type": "display_data"
    },
    {
     "data": {
      "text/plain": [
       "(62423, 3)"
      ]
     },
     "metadata": {},
     "output_type": "display_data"
    }
   ],
   "source": [
    "display(df_movies.head(5))\n",
    "display(df_movies.shape)"
   ]
  },
  {
   "cell_type": "markdown",
   "metadata": {},
   "source": [
    "**Note:** There are 62,423 rows of data - before filtering duplicated values."
   ]
  },
  {
   "cell_type": "markdown",
   "metadata": {},
   "source": [
    "Check the info of the `df_movies` data frame."
   ]
  },
  {
   "cell_type": "code",
   "execution_count": 17,
   "metadata": {},
   "outputs": [
    {
     "name": "stdout",
     "output_type": "stream",
     "text": [
      "<class 'pandas.core.frame.DataFrame'>\n",
      "RangeIndex: 62423 entries, 0 to 62422\n",
      "Data columns (total 3 columns):\n",
      " #   Column   Non-Null Count  Dtype \n",
      "---  ------   --------------  ----- \n",
      " 0   movieId  62423 non-null  int64 \n",
      " 1   title    62423 non-null  object\n",
      " 2   genres   62423 non-null  object\n",
      "dtypes: int64(1), object(2)\n",
      "memory usage: 1.4+ MB\n"
     ]
    }
   ],
   "source": [
    "df_movies.info()"
   ]
  },
  {
   "cell_type": "markdown",
   "metadata": {},
   "source": [
    "**Note:** There are no missing values."
   ]
  },
  {
   "cell_type": "code",
   "execution_count": 18,
   "metadata": {},
   "outputs": [
    {
     "data": {
      "text/html": [
       "<div>\n",
       "<style scoped>\n",
       "    .dataframe tbody tr th:only-of-type {\n",
       "        vertical-align: middle;\n",
       "    }\n",
       "\n",
       "    .dataframe tbody tr th {\n",
       "        vertical-align: top;\n",
       "    }\n",
       "\n",
       "    .dataframe thead th {\n",
       "        text-align: right;\n",
       "    }\n",
       "</style>\n",
       "<table border=\"1\" class=\"dataframe\">\n",
       "  <thead>\n",
       "    <tr style=\"text-align: right;\">\n",
       "      <th></th>\n",
       "      <th>movieId</th>\n",
       "    </tr>\n",
       "  </thead>\n",
       "  <tbody>\n",
       "    <tr>\n",
       "      <th>count</th>\n",
       "      <td>62423.0000</td>\n",
       "    </tr>\n",
       "    <tr>\n",
       "      <th>mean</th>\n",
       "      <td>122220.3876</td>\n",
       "    </tr>\n",
       "    <tr>\n",
       "      <th>std</th>\n",
       "      <td>63264.7448</td>\n",
       "    </tr>\n",
       "    <tr>\n",
       "      <th>min</th>\n",
       "      <td>1.0000</td>\n",
       "    </tr>\n",
       "    <tr>\n",
       "      <th>25%</th>\n",
       "      <td>82146.5000</td>\n",
       "    </tr>\n",
       "    <tr>\n",
       "      <th>50%</th>\n",
       "      <td>138022.0000</td>\n",
       "    </tr>\n",
       "    <tr>\n",
       "      <th>75%</th>\n",
       "      <td>173222.0000</td>\n",
       "    </tr>\n",
       "    <tr>\n",
       "      <th>max</th>\n",
       "      <td>209171.0000</td>\n",
       "    </tr>\n",
       "  </tbody>\n",
       "</table>\n",
       "</div>"
      ],
      "text/plain": [
       "          movieId\n",
       "count  62423.0000\n",
       "mean  122220.3876\n",
       "std    63264.7448\n",
       "min        1.0000\n",
       "25%    82146.5000\n",
       "50%   138022.0000\n",
       "75%   173222.0000\n",
       "max   209171.0000"
      ]
     },
     "execution_count": 18,
     "metadata": {},
     "output_type": "execute_result"
    }
   ],
   "source": [
    "df_movies.describe()"
   ]
  },
  {
   "cell_type": "code",
   "execution_count": 19,
   "metadata": {},
   "outputs": [
    {
     "data": {
      "text/html": [
       "<div>\n",
       "<style scoped>\n",
       "    .dataframe tbody tr th:only-of-type {\n",
       "        vertical-align: middle;\n",
       "    }\n",
       "\n",
       "    .dataframe tbody tr th {\n",
       "        vertical-align: top;\n",
       "    }\n",
       "\n",
       "    .dataframe thead th {\n",
       "        text-align: right;\n",
       "    }\n",
       "</style>\n",
       "<table border=\"1\" class=\"dataframe\">\n",
       "  <thead>\n",
       "    <tr style=\"text-align: right;\">\n",
       "      <th></th>\n",
       "      <th>title</th>\n",
       "      <th>genres</th>\n",
       "    </tr>\n",
       "  </thead>\n",
       "  <tbody>\n",
       "    <tr>\n",
       "      <th>count</th>\n",
       "      <td>62423</td>\n",
       "      <td>62423</td>\n",
       "    </tr>\n",
       "    <tr>\n",
       "      <th>unique</th>\n",
       "      <td>62325</td>\n",
       "      <td>1639</td>\n",
       "    </tr>\n",
       "    <tr>\n",
       "      <th>top</th>\n",
       "      <td>Slow Burn (2000)</td>\n",
       "      <td>Drama</td>\n",
       "    </tr>\n",
       "    <tr>\n",
       "      <th>freq</th>\n",
       "      <td>2</td>\n",
       "      <td>9056</td>\n",
       "    </tr>\n",
       "  </tbody>\n",
       "</table>\n",
       "</div>"
      ],
      "text/plain": [
       "                   title genres\n",
       "count              62423  62423\n",
       "unique             62325   1639\n",
       "top     Slow Burn (2000)  Drama\n",
       "freq                   2   9056"
      ]
     },
     "execution_count": 19,
     "metadata": {},
     "output_type": "execute_result"
    }
   ],
   "source": [
    "df_movies.describe(include=[object])"
   ]
  },
  {
   "cell_type": "code",
   "execution_count": 20,
   "metadata": {},
   "outputs": [
    {
     "name": "stdout",
     "output_type": "stream",
     "text": [
      "# unique movie IDs: 62423\n",
      "Number of movies by ID:\n",
      "===\n",
      "133119    1\n",
      "166788    1\n",
      "80818     1\n",
      "205745    1\n",
      "76720     1\n",
      "         ..\n",
      "50802     1\n",
      "56945     1\n",
      "142959    1\n",
      "140910    1\n",
      "131072    1\n",
      "Name: movieId, Length: 62423, dtype: int64\n",
      "\n",
      "# unique movie titles: 62325\n",
      "Number of movies by title:\n",
      "===\n",
      "Slow Burn (2000)                                     2\n",
      "Good People (2014)                                   2\n",
      "Truth (2015)                                         2\n",
      "Noise (2007)                                         2\n",
      "The Connection (2014)                                2\n",
      "                                                    ..\n",
      "Seeds of Death: Unveiling the Lies of GMOs (2012)    1\n",
      "Tectonic Plate (2016)                                1\n",
      "Tu£sday (2008)                                       1\n",
      "Son of the Bride (Hijo de la novia, El) (2001)       1\n",
      "Deadline - U.S.A. (1952)                             1\n",
      "Name: title, Length: 62325, dtype: int64\n"
     ]
    }
   ],
   "source": [
    "print(f\"# unique movie IDs: {df_movies['movieId'].nunique()}\")\n",
    "print(\"Number of movies by ID:\\n===\")\n",
    "print(df_movies['movieId'].value_counts())\n",
    "\n",
    "print(f\"\\n# unique movie titles: {df_movies['title'].nunique()}\")\n",
    "print(\"Number of movies by title:\\n===\")\n",
    "print(df_movies['title'].value_counts())"
   ]
  },
  {
   "cell_type": "markdown",
   "metadata": {},
   "source": [
    "**Note:** Some of the movies are recorded twice using different `movieId`s. Let's identify those movies."
   ]
  },
  {
   "cell_type": "code",
   "execution_count": 21,
   "metadata": {},
   "outputs": [
    {
     "data": {
      "text/plain": [
       "['Slow Burn (2000)',\n",
       " 'Good People (2014)',\n",
       " 'Truth (2015)',\n",
       " 'Noise (2007)',\n",
       " 'The Connection (2014)']"
      ]
     },
     "execution_count": 21,
     "metadata": {},
     "output_type": "execute_result"
    }
   ],
   "source": [
    "movie_n_appearance = df_movies['title'].value_counts() > 1\n",
    "movie_n_appearance_list = list(movie_n_appearance[movie_n_appearance].index)\n",
    "\n",
    "movie_n_appearance_list[:5]"
   ]
  },
  {
   "cell_type": "markdown",
   "metadata": {},
   "source": [
    "After inspection, it is concluded that there is possibility to have two movies with the same title in the `df_movies` DataFrame. For example, 'Frozen (2010)' appears twice in the DataFrame."
   ]
  },
  {
   "cell_type": "code",
   "execution_count": 22,
   "metadata": {},
   "outputs": [
    {
     "data": {
      "text/html": [
       "<div>\n",
       "<style scoped>\n",
       "    .dataframe tbody tr th:only-of-type {\n",
       "        vertical-align: middle;\n",
       "    }\n",
       "\n",
       "    .dataframe tbody tr th {\n",
       "        vertical-align: top;\n",
       "    }\n",
       "\n",
       "    .dataframe thead th {\n",
       "        text-align: right;\n",
       "    }\n",
       "</style>\n",
       "<table border=\"1\" class=\"dataframe\">\n",
       "  <thead>\n",
       "    <tr style=\"text-align: right;\">\n",
       "      <th></th>\n",
       "      <th>movieId</th>\n",
       "      <th>title</th>\n",
       "      <th>genres</th>\n",
       "    </tr>\n",
       "  </thead>\n",
       "  <tbody>\n",
       "    <tr>\n",
       "      <th>14424</th>\n",
       "      <td>75395</td>\n",
       "      <td>Frozen (2010)</td>\n",
       "      <td>Drama|Horror|Thriller</td>\n",
       "    </tr>\n",
       "    <tr>\n",
       "      <th>23647</th>\n",
       "      <td>118818</td>\n",
       "      <td>Frozen (2010)</td>\n",
       "      <td>Fantasy|Romance</td>\n",
       "    </tr>\n",
       "  </tbody>\n",
       "</table>\n",
       "</div>"
      ],
      "text/plain": [
       "       movieId          title                 genres\n",
       "14424    75395  Frozen (2010)  Drama|Horror|Thriller\n",
       "23647   118818  Frozen (2010)        Fantasy|Romance"
      ]
     },
     "execution_count": 22,
     "metadata": {},
     "output_type": "execute_result"
    }
   ],
   "source": [
    "df_movies[df_movies['title'] == 'Frozen (2010)']"
   ]
  },
  {
   "cell_type": "markdown",
   "metadata": {},
   "source": [
    "These two movies have the same title and were released on 2010. After investigation, it is most likely that:\n",
    "\n",
    "- 'Frozen (2010)' with `movieId = 75395` refers to an American film: https://en.wikipedia.org/wiki/Frozen_(2010_American_film)\n",
    "- 'Frozen (2010)' with `movieId = 118818` refers to a Hong Kong film: https://en.wikipedia.org/wiki/Frozen_(2010_Hong_Kong_film)\n",
    "\n",
    "Thus, it is safe to keep the assumption that each row of the `df_movies` DataFrame consists of entirely different movies from each other, even though they have the same title and release year. "
   ]
  },
  {
   "cell_type": "markdown",
   "metadata": {},
   "source": [
    "## 2.3 File 3: `personality-data.csv` <a name=\"data-personality\"></a>\n",
    "\n",
    "The `personality-data.csv` file consists of five columns indicating the assessment result of the user's personality:\n",
    "\n",
    "- `openness`\n",
    "- `agreeableness`\n",
    "- `emotional_stability`\n",
    "- `conscientiousness`\n",
    "- `extraversion`\n",
    "\n",
    "This information will be used for user attribute-based recommender system.\n",
    "\n",
    "Load the data from `personality-data.csv` into a Pandas DataFrame called `df_personality` using [`read_csv()`](https://pandas.pydata.org/docs/reference/api/pandas.read_csv.html#pandas-read-csv) function. "
   ]
  },
  {
   "cell_type": "code",
   "execution_count": 23,
   "metadata": {},
   "outputs": [],
   "source": [
    "file_personality = f\"{DIRECTORY}\\\\personality-data.csv\"\n",
    "df_personality = pd.read_csv(file_personality, skipinitialspace=True)"
   ]
  },
  {
   "cell_type": "markdown",
   "metadata": {},
   "source": [
    "Inspect the first 5 rows of `df_personality` DataFrame."
   ]
  },
  {
   "cell_type": "code",
   "execution_count": 24,
   "metadata": {},
   "outputs": [
    {
     "data": {
      "text/html": [
       "<div>\n",
       "<style scoped>\n",
       "    .dataframe tbody tr th:only-of-type {\n",
       "        vertical-align: middle;\n",
       "    }\n",
       "\n",
       "    .dataframe tbody tr th {\n",
       "        vertical-align: top;\n",
       "    }\n",
       "\n",
       "    .dataframe thead th {\n",
       "        text-align: right;\n",
       "    }\n",
       "</style>\n",
       "<table border=\"1\" class=\"dataframe\">\n",
       "  <thead>\n",
       "    <tr style=\"text-align: right;\">\n",
       "      <th></th>\n",
       "      <th>userid</th>\n",
       "      <th>openness</th>\n",
       "      <th>agreeableness</th>\n",
       "      <th>emotional_stability</th>\n",
       "      <th>conscientiousness</th>\n",
       "      <th>extraversion</th>\n",
       "      <th>assigned metric</th>\n",
       "      <th>assigned condition</th>\n",
       "      <th>movie_1</th>\n",
       "      <th>predicted_rating_1</th>\n",
       "      <th>...</th>\n",
       "      <th>movie_9</th>\n",
       "      <th>predicted_rating_9</th>\n",
       "      <th>movie_10</th>\n",
       "      <th>predicted_rating_10</th>\n",
       "      <th>movie_11</th>\n",
       "      <th>predicted_rating_11</th>\n",
       "      <th>movie_12</th>\n",
       "      <th>predicted_rating_12</th>\n",
       "      <th>is_personalized</th>\n",
       "      <th>enjoy_watching</th>\n",
       "    </tr>\n",
       "  </thead>\n",
       "  <tbody>\n",
       "    <tr>\n",
       "      <th>0</th>\n",
       "      <td>8e7cebf9a234c064b75016249f2ac65e</td>\n",
       "      <td>5.0000</td>\n",
       "      <td>2.0000</td>\n",
       "      <td>3.0000</td>\n",
       "      <td>2.5000</td>\n",
       "      <td>6.5000</td>\n",
       "      <td>serendipity</td>\n",
       "      <td>high</td>\n",
       "      <td>77658</td>\n",
       "      <td>4.4105</td>\n",
       "      <td>...</td>\n",
       "      <td>120138</td>\n",
       "      <td>4.2448</td>\n",
       "      <td>121372</td>\n",
       "      <td>4.3960</td>\n",
       "      <td>127152</td>\n",
       "      <td>4.1205</td>\n",
       "      <td>95311</td>\n",
       "      <td>4.0538</td>\n",
       "      <td>4</td>\n",
       "      <td>4</td>\n",
       "    </tr>\n",
       "    <tr>\n",
       "      <th>1</th>\n",
       "      <td>77c7d756a093150d4377720abeaeef76</td>\n",
       "      <td>7.0000</td>\n",
       "      <td>4.0000</td>\n",
       "      <td>6.0000</td>\n",
       "      <td>5.5000</td>\n",
       "      <td>4.0000</td>\n",
       "      <td>all</td>\n",
       "      <td>default</td>\n",
       "      <td>94959</td>\n",
       "      <td>4.2073</td>\n",
       "      <td>...</td>\n",
       "      <td>56782</td>\n",
       "      <td>4.0196</td>\n",
       "      <td>5618</td>\n",
       "      <td>3.9640</td>\n",
       "      <td>969</td>\n",
       "      <td>4.1742</td>\n",
       "      <td>1232</td>\n",
       "      <td>4.3349</td>\n",
       "      <td>2</td>\n",
       "      <td>3</td>\n",
       "    </tr>\n",
       "    <tr>\n",
       "      <th>2</th>\n",
       "      <td>b7e8a92987a530cc368719a0e60e26a3</td>\n",
       "      <td>4.0000</td>\n",
       "      <td>3.0000</td>\n",
       "      <td>4.5000</td>\n",
       "      <td>2.0000</td>\n",
       "      <td>2.5000</td>\n",
       "      <td>serendipity</td>\n",
       "      <td>medium</td>\n",
       "      <td>110501</td>\n",
       "      <td>4.8681</td>\n",
       "      <td>...</td>\n",
       "      <td>2288</td>\n",
       "      <td>4.8232</td>\n",
       "      <td>3307</td>\n",
       "      <td>4.6768</td>\n",
       "      <td>1172</td>\n",
       "      <td>4.6493</td>\n",
       "      <td>1212</td>\n",
       "      <td>4.7450</td>\n",
       "      <td>2</td>\n",
       "      <td>2</td>\n",
       "    </tr>\n",
       "    <tr>\n",
       "      <th>3</th>\n",
       "      <td>92561f21446e017dd6b68b94b23ad5b7</td>\n",
       "      <td>5.5000</td>\n",
       "      <td>5.5000</td>\n",
       "      <td>4.0000</td>\n",
       "      <td>4.5000</td>\n",
       "      <td>4.0000</td>\n",
       "      <td>popularity</td>\n",
       "      <td>medium</td>\n",
       "      <td>2905</td>\n",
       "      <td>4.5264</td>\n",
       "      <td>...</td>\n",
       "      <td>3030</td>\n",
       "      <td>4.4257</td>\n",
       "      <td>1281</td>\n",
       "      <td>4.4799</td>\n",
       "      <td>940</td>\n",
       "      <td>4.3551</td>\n",
       "      <td>905</td>\n",
       "      <td>4.3179</td>\n",
       "      <td>3</td>\n",
       "      <td>3</td>\n",
       "    </tr>\n",
       "    <tr>\n",
       "      <th>4</th>\n",
       "      <td>030001ac2145a938b07e686a35a2d638</td>\n",
       "      <td>5.5000</td>\n",
       "      <td>5.5000</td>\n",
       "      <td>3.5000</td>\n",
       "      <td>4.5000</td>\n",
       "      <td>2.5000</td>\n",
       "      <td>popularity</td>\n",
       "      <td>medium</td>\n",
       "      <td>2905</td>\n",
       "      <td>4.5264</td>\n",
       "      <td>...</td>\n",
       "      <td>3030</td>\n",
       "      <td>4.4257</td>\n",
       "      <td>1281</td>\n",
       "      <td>4.4799</td>\n",
       "      <td>940</td>\n",
       "      <td>4.3551</td>\n",
       "      <td>905</td>\n",
       "      <td>4.3179</td>\n",
       "      <td>2</td>\n",
       "      <td>3</td>\n",
       "    </tr>\n",
       "  </tbody>\n",
       "</table>\n",
       "<p>5 rows × 34 columns</p>\n",
       "</div>"
      ],
      "text/plain": [
       "                             userid  openness  agreeableness  \\\n",
       "0  8e7cebf9a234c064b75016249f2ac65e    5.0000         2.0000   \n",
       "1  77c7d756a093150d4377720abeaeef76    7.0000         4.0000   \n",
       "2  b7e8a92987a530cc368719a0e60e26a3    4.0000         3.0000   \n",
       "3  92561f21446e017dd6b68b94b23ad5b7    5.5000         5.5000   \n",
       "4  030001ac2145a938b07e686a35a2d638    5.5000         5.5000   \n",
       "\n",
       "   emotional_stability  conscientiousness  extraversion assigned metric  \\\n",
       "0               3.0000             2.5000        6.5000     serendipity   \n",
       "1               6.0000             5.5000        4.0000             all   \n",
       "2               4.5000             2.0000        2.5000     serendipity   \n",
       "3               4.0000             4.5000        4.0000      popularity   \n",
       "4               3.5000             4.5000        2.5000      popularity   \n",
       "\n",
       "  assigned condition  movie_1  predicted_rating_1  ...  movie_9  \\\n",
       "0               high    77658              4.4105  ...   120138   \n",
       "1            default    94959              4.2073  ...    56782   \n",
       "2             medium   110501              4.8681  ...     2288   \n",
       "3             medium     2905              4.5264  ...     3030   \n",
       "4             medium     2905              4.5264  ...     3030   \n",
       "\n",
       "   predicted_rating_9  movie_10  predicted_rating_10  movie_11  \\\n",
       "0              4.2448    121372               4.3960    127152   \n",
       "1              4.0196      5618               3.9640       969   \n",
       "2              4.8232      3307               4.6768      1172   \n",
       "3              4.4257      1281               4.4799       940   \n",
       "4              4.4257      1281               4.4799       940   \n",
       "\n",
       "   predicted_rating_11  movie_12  predicted_rating_12  is_personalized  \\\n",
       "0               4.1205     95311               4.0538                4   \n",
       "1               4.1742      1232               4.3349                2   \n",
       "2               4.6493      1212               4.7450                2   \n",
       "3               4.3551       905               4.3179                3   \n",
       "4               4.3551       905               4.3179                2   \n",
       "\n",
       "   enjoy_watching   \n",
       "0                4  \n",
       "1                3  \n",
       "2                2  \n",
       "3                3  \n",
       "4                3  \n",
       "\n",
       "[5 rows x 34 columns]"
      ]
     },
     "execution_count": 24,
     "metadata": {},
     "output_type": "execute_result"
    }
   ],
   "source": [
    "df_personality.head()"
   ]
  },
  {
   "cell_type": "markdown",
   "metadata": {},
   "source": [
    "Create new DataFrame: `df_personality_reduced` to extract only information about the user's personality."
   ]
  },
  {
   "cell_type": "code",
   "execution_count": 25,
   "metadata": {},
   "outputs": [
    {
     "data": {
      "text/html": [
       "<div>\n",
       "<style scoped>\n",
       "    .dataframe tbody tr th:only-of-type {\n",
       "        vertical-align: middle;\n",
       "    }\n",
       "\n",
       "    .dataframe tbody tr th {\n",
       "        vertical-align: top;\n",
       "    }\n",
       "\n",
       "    .dataframe thead th {\n",
       "        text-align: right;\n",
       "    }\n",
       "</style>\n",
       "<table border=\"1\" class=\"dataframe\">\n",
       "  <thead>\n",
       "    <tr style=\"text-align: right;\">\n",
       "      <th></th>\n",
       "      <th>userid</th>\n",
       "      <th>openness</th>\n",
       "      <th>conscientiousness</th>\n",
       "      <th>extraversion</th>\n",
       "      <th>agreeableness</th>\n",
       "      <th>emotional_stability</th>\n",
       "    </tr>\n",
       "  </thead>\n",
       "  <tbody>\n",
       "    <tr>\n",
       "      <th>0</th>\n",
       "      <td>8e7cebf9a234c064b75016249f2ac65e</td>\n",
       "      <td>5.0000</td>\n",
       "      <td>2.5000</td>\n",
       "      <td>6.5000</td>\n",
       "      <td>2.0000</td>\n",
       "      <td>3.0000</td>\n",
       "    </tr>\n",
       "    <tr>\n",
       "      <th>1</th>\n",
       "      <td>77c7d756a093150d4377720abeaeef76</td>\n",
       "      <td>7.0000</td>\n",
       "      <td>5.5000</td>\n",
       "      <td>4.0000</td>\n",
       "      <td>4.0000</td>\n",
       "      <td>6.0000</td>\n",
       "    </tr>\n",
       "    <tr>\n",
       "      <th>2</th>\n",
       "      <td>b7e8a92987a530cc368719a0e60e26a3</td>\n",
       "      <td>4.0000</td>\n",
       "      <td>2.0000</td>\n",
       "      <td>2.5000</td>\n",
       "      <td>3.0000</td>\n",
       "      <td>4.5000</td>\n",
       "    </tr>\n",
       "    <tr>\n",
       "      <th>3</th>\n",
       "      <td>92561f21446e017dd6b68b94b23ad5b7</td>\n",
       "      <td>5.5000</td>\n",
       "      <td>4.5000</td>\n",
       "      <td>4.0000</td>\n",
       "      <td>5.5000</td>\n",
       "      <td>4.0000</td>\n",
       "    </tr>\n",
       "    <tr>\n",
       "      <th>4</th>\n",
       "      <td>030001ac2145a938b07e686a35a2d638</td>\n",
       "      <td>5.5000</td>\n",
       "      <td>4.5000</td>\n",
       "      <td>2.5000</td>\n",
       "      <td>5.5000</td>\n",
       "      <td>3.5000</td>\n",
       "    </tr>\n",
       "  </tbody>\n",
       "</table>\n",
       "</div>"
      ],
      "text/plain": [
       "                             userid  openness  conscientiousness  \\\n",
       "0  8e7cebf9a234c064b75016249f2ac65e    5.0000             2.5000   \n",
       "1  77c7d756a093150d4377720abeaeef76    7.0000             5.5000   \n",
       "2  b7e8a92987a530cc368719a0e60e26a3    4.0000             2.0000   \n",
       "3  92561f21446e017dd6b68b94b23ad5b7    5.5000             4.5000   \n",
       "4  030001ac2145a938b07e686a35a2d638    5.5000             4.5000   \n",
       "\n",
       "   extraversion  agreeableness  emotional_stability  \n",
       "0        6.5000         2.0000               3.0000  \n",
       "1        4.0000         4.0000               6.0000  \n",
       "2        2.5000         3.0000               4.5000  \n",
       "3        4.0000         5.5000               4.0000  \n",
       "4        2.5000         5.5000               3.5000  "
      ]
     },
     "execution_count": 25,
     "metadata": {},
     "output_type": "execute_result"
    }
   ],
   "source": [
    "list_personality = ['openness', 'conscientiousness', 'extraversion', 'agreeableness', 'emotional_stability']\n",
    "\n",
    "df_personality_reduced = df_personality[['userid'] + [p for p in list_personality]]\n",
    "df_personality_reduced.head()"
   ]
  },
  {
   "cell_type": "markdown",
   "metadata": {},
   "source": [
    "Inspect the information of `df_personality_reduced` DataFrame."
   ]
  },
  {
   "cell_type": "code",
   "execution_count": 26,
   "metadata": {},
   "outputs": [
    {
     "name": "stdout",
     "output_type": "stream",
     "text": [
      "<class 'pandas.core.frame.DataFrame'>\n",
      "RangeIndex: 1834 entries, 0 to 1833\n",
      "Data columns (total 6 columns):\n",
      " #   Column               Non-Null Count  Dtype  \n",
      "---  ------               --------------  -----  \n",
      " 0   userid               1834 non-null   object \n",
      " 1   openness             1834 non-null   float64\n",
      " 2   conscientiousness    1834 non-null   float64\n",
      " 3   extraversion         1834 non-null   float64\n",
      " 4   agreeableness        1834 non-null   float64\n",
      " 5   emotional_stability  1834 non-null   float64\n",
      "dtypes: float64(5), object(1)\n",
      "memory usage: 86.1+ KB\n"
     ]
    }
   ],
   "source": [
    "df_personality_reduced.info()"
   ]
  },
  {
   "cell_type": "code",
   "execution_count": 27,
   "metadata": {},
   "outputs": [
    {
     "data": {
      "text/html": [
       "<div>\n",
       "<style scoped>\n",
       "    .dataframe tbody tr th:only-of-type {\n",
       "        vertical-align: middle;\n",
       "    }\n",
       "\n",
       "    .dataframe tbody tr th {\n",
       "        vertical-align: top;\n",
       "    }\n",
       "\n",
       "    .dataframe thead th {\n",
       "        text-align: right;\n",
       "    }\n",
       "</style>\n",
       "<table border=\"1\" class=\"dataframe\">\n",
       "  <thead>\n",
       "    <tr style=\"text-align: right;\">\n",
       "      <th></th>\n",
       "      <th>openness</th>\n",
       "      <th>conscientiousness</th>\n",
       "      <th>extraversion</th>\n",
       "      <th>agreeableness</th>\n",
       "      <th>emotional_stability</th>\n",
       "    </tr>\n",
       "  </thead>\n",
       "  <tbody>\n",
       "    <tr>\n",
       "      <th>count</th>\n",
       "      <td>1834.0000</td>\n",
       "      <td>1834.0000</td>\n",
       "      <td>1834.0000</td>\n",
       "      <td>1834.0000</td>\n",
       "      <td>1834.0000</td>\n",
       "    </tr>\n",
       "    <tr>\n",
       "      <th>mean</th>\n",
       "      <td>5.3765</td>\n",
       "      <td>4.6625</td>\n",
       "      <td>3.4856</td>\n",
       "      <td>4.2159</td>\n",
       "      <td>4.5616</td>\n",
       "    </tr>\n",
       "    <tr>\n",
       "      <th>std</th>\n",
       "      <td>1.0428</td>\n",
       "      <td>1.3115</td>\n",
       "      <td>1.4685</td>\n",
       "      <td>1.1379</td>\n",
       "      <td>1.3925</td>\n",
       "    </tr>\n",
       "    <tr>\n",
       "      <th>min</th>\n",
       "      <td>1.0000</td>\n",
       "      <td>1.0000</td>\n",
       "      <td>1.0000</td>\n",
       "      <td>1.0000</td>\n",
       "      <td>1.0000</td>\n",
       "    </tr>\n",
       "    <tr>\n",
       "      <th>25%</th>\n",
       "      <td>4.5000</td>\n",
       "      <td>4.0000</td>\n",
       "      <td>2.5000</td>\n",
       "      <td>3.5000</td>\n",
       "      <td>3.5000</td>\n",
       "    </tr>\n",
       "    <tr>\n",
       "      <th>50%</th>\n",
       "      <td>5.5000</td>\n",
       "      <td>4.5000</td>\n",
       "      <td>3.5000</td>\n",
       "      <td>4.0000</td>\n",
       "      <td>4.5000</td>\n",
       "    </tr>\n",
       "    <tr>\n",
       "      <th>75%</th>\n",
       "      <td>6.0000</td>\n",
       "      <td>5.5000</td>\n",
       "      <td>4.5000</td>\n",
       "      <td>5.0000</td>\n",
       "      <td>5.5000</td>\n",
       "    </tr>\n",
       "    <tr>\n",
       "      <th>max</th>\n",
       "      <td>7.0000</td>\n",
       "      <td>7.0000</td>\n",
       "      <td>7.0000</td>\n",
       "      <td>7.0000</td>\n",
       "      <td>7.0000</td>\n",
       "    </tr>\n",
       "  </tbody>\n",
       "</table>\n",
       "</div>"
      ],
      "text/plain": [
       "       openness  conscientiousness  extraversion  agreeableness  \\\n",
       "count 1834.0000          1834.0000     1834.0000      1834.0000   \n",
       "mean     5.3765             4.6625        3.4856         4.2159   \n",
       "std      1.0428             1.3115        1.4685         1.1379   \n",
       "min      1.0000             1.0000        1.0000         1.0000   \n",
       "25%      4.5000             4.0000        2.5000         3.5000   \n",
       "50%      5.5000             4.5000        3.5000         4.0000   \n",
       "75%      6.0000             5.5000        4.5000         5.0000   \n",
       "max      7.0000             7.0000        7.0000         7.0000   \n",
       "\n",
       "       emotional_stability  \n",
       "count            1834.0000  \n",
       "mean                4.5616  \n",
       "std                 1.3925  \n",
       "min                 1.0000  \n",
       "25%                 3.5000  \n",
       "50%                 4.5000  \n",
       "75%                 5.5000  \n",
       "max                 7.0000  "
      ]
     },
     "execution_count": 27,
     "metadata": {},
     "output_type": "execute_result"
    }
   ],
   "source": [
    "df_personality_reduced.describe()"
   ]
  },
  {
   "cell_type": "markdown",
   "metadata": {},
   "source": [
    "Plot the distribution of each user personality."
   ]
  },
  {
   "cell_type": "code",
   "execution_count": 28,
   "metadata": {},
   "outputs": [
    {
     "data": {
      "image/png": "[encoded data removed]",
      "text/plain": [
       "<Figure size 432x288 with 1 Axes>"
      ]
     },
     "metadata": {
      "needs_background": "light"
     },
     "output_type": "display_data"
    },
    {
     "data": {
      "image/png": "[encoded data removed]",
      "text/plain": [
       "<Figure size 432x288 with 1 Axes>"
      ]
     },
     "metadata": {
      "needs_background": "light"
     },
     "output_type": "display_data"
    },
    {
     "data": {
      "image/png": "[encoded data removed]",
      "text/plain": [
       "<Figure size 432x288 with 1 Axes>"
      ]
     },
     "metadata": {
      "needs_background": "light"
     },
     "output_type": "display_data"
    },
    {
     "data": {
      "image/png": "[encoded data removed]",
      "text/plain": [
       "<Figure size 432x288 with 1 Axes>"
      ]
     },
     "metadata": {
      "needs_background": "light"
     },
     "output_type": "display_data"
    },
    {
     "data": {
      "image/png": "[encoded data removed]",
      "text/plain": [
       "<Figure size 432x288 with 1 Axes>"
      ]
     },
     "metadata": {
      "needs_background": "light"
     },
     "output_type": "display_data"
    }
   ],
   "source": [
    "for p in list_personality:\n",
    "    df_personality_reduced[p].value_counts().sort_index().plot(kind='bar')\n",
    "    plt.title(f\"Distribution of personality: {p}\")\n",
    "    plt.show()"
   ]
  },
  {
   "cell_type": "markdown",
   "metadata": {},
   "source": [
    "# 3. Data Analysis <a name=\"analysis\"></a>"
   ]
  },
  {
   "cell_type": "markdown",
   "metadata": {},
   "source": [
    "#### Ratings from `rating.csv`"
   ]
  },
  {
   "cell_type": "markdown",
   "metadata": {},
   "source": [
    "Generate `pair_rating`: list of strings with user and movie pairs from `df_ratings` separated by underscore \"_\"."
   ]
  },
  {
   "cell_type": "code",
   "execution_count": 29,
   "metadata": {},
   "outputs": [
    {
     "name": "stdout",
     "output_type": "stream",
     "text": [
      "# user-movie pairs: 1028751\n"
     ]
    }
   ],
   "source": [
    "pair_rating = [\n",
    "    f\"{user}_{movie}\" for user, movie in \n",
    "    zip(df_ratings['user_id'], df_ratings['movie_id'])\n",
    "]\n",
    "\n",
    "num_pair_rating = len(pair_rating)\n",
    "print(f\"# user-movie pairs: {num_pair_rating}\")"
   ]
  },
  {
   "cell_type": "markdown",
   "metadata": {},
   "source": [
    "Generate `pair_rating_dup`: list of duplicated entries from `pair_rating`."
   ]
  },
  {
   "cell_type": "code",
   "execution_count": 30,
   "metadata": {
    "scrolled": false
   },
   "outputs": [
    {
     "name": "stdout",
     "output_type": "stream",
     "text": [
      "How many duplicated entries are there?\n",
      "Answer: 5221\n",
      "\n",
      "What are the duplicated entries?\n"
     ]
    },
    {
     "data": {
      "text/plain": [
       "['4638502dc978788ec9d44e64e43a6757_1',\n",
       " '4638502dc978788ec9d44e64e43a6757_19',\n",
       " '4638502dc978788ec9d44e64e43a6757_110',\n",
       " '4638502dc978788ec9d44e64e43a6757_176',\n",
       " '4638502dc978788ec9d44e64e43a6757_223',\n",
       " '4638502dc978788ec9d44e64e43a6757_224',\n",
       " '4638502dc978788ec9d44e64e43a6757_260',\n",
       " '4638502dc978788ec9d44e64e43a6757_293',\n",
       " '4638502dc978788ec9d44e64e43a6757_296',\n",
       " '4638502dc978788ec9d44e64e43a6757_337',\n",
       " '4638502dc978788ec9d44e64e43a6757_344',\n",
       " '4638502dc978788ec9d44e64e43a6757_356',\n",
       " '4638502dc978788ec9d44e64e43a6757_858',\n",
       " '4638502dc978788ec9d44e64e43a6757_1196',\n",
       " '4638502dc978788ec9d44e64e43a6757_1213',\n",
       " '4638502dc978788ec9d44e64e43a6757_1221',\n",
       " '4638502dc978788ec9d44e64e43a6757_1236',\n",
       " '4638502dc978788ec9d44e64e43a6757_1265',\n",
       " '4638502dc978788ec9d44e64e43a6757_1597',\n",
       " '4638502dc978788ec9d44e64e43a6757_1729',\n",
       " '4638502dc978788ec9d44e64e43a6757_2060',\n",
       " '4638502dc978788ec9d44e64e43a6757_2291',\n",
       " '4638502dc978788ec9d44e64e43a6757_2297',\n",
       " '4638502dc978788ec9d44e64e43a6757_2541',\n",
       " '4638502dc978788ec9d44e64e43a6757_2571',\n",
       " '4638502dc978788ec9d44e64e43a6757_2580',\n",
       " '4638502dc978788ec9d44e64e43a6757_2628',\n",
       " '4638502dc978788ec9d44e64e43a6757_2762',\n",
       " '4638502dc978788ec9d44e64e43a6757_2959',\n",
       " '4638502dc978788ec9d44e64e43a6757_3252',\n",
       " '4638502dc978788ec9d44e64e43a6757_4014',\n",
       " '4638502dc978788ec9d44e64e43a6757_4718',\n",
       " '4638502dc978788ec9d44e64e43a6757_4878',\n",
       " '4638502dc978788ec9d44e64e43a6757_4886',\n",
       " '4638502dc978788ec9d44e64e43a6757_4973',\n",
       " '4638502dc978788ec9d44e64e43a6757_5066',\n",
       " '4638502dc978788ec9d44e64e43a6757_5110',\n",
       " '4638502dc978788ec9d44e64e43a6757_5128',\n",
       " '4638502dc978788ec9d44e64e43a6757_5297',\n",
       " '4638502dc978788ec9d44e64e43a6757_5378',\n",
       " '4638502dc978788ec9d44e64e43a6757_5445',\n",
       " '4638502dc978788ec9d44e64e43a6757_5477',\n",
       " '4638502dc978788ec9d44e64e43a6757_5530',\n",
       " '4638502dc978788ec9d44e64e43a6757_5617',\n",
       " '4638502dc978788ec9d44e64e43a6757_5792',\n",
       " '4638502dc978788ec9d44e64e43a6757_5903',\n",
       " '4638502dc978788ec9d44e64e43a6757_6188',\n",
       " '4638502dc978788ec9d44e64e43a6757_6377',\n",
       " '4638502dc978788ec9d44e64e43a6757_6538',\n",
       " '4638502dc978788ec9d44e64e43a6757_6586']"
      ]
     },
     "metadata": {},
     "output_type": "display_data"
    }
   ],
   "source": [
    "# Defining the dict\n",
    "d = defaultdict(lambda: 0)\n",
    "\n",
    "for pair in pair_rating:\n",
    "    d[pair] += 1\n",
    "\n",
    "pair_rating_dup = [key for key, val in d.items() if val > 1]\n",
    "\n",
    "print(\"How many duplicated entries are there?\")\n",
    "print(f\"Answer: {len(pair_rating_dup)}\\n\")\n",
    "\n",
    "print(\"What are the duplicated entries?\")\n",
    "display(pair_rating_dup[:50])"
   ]
  },
  {
   "cell_type": "markdown",
   "metadata": {},
   "source": [
    "Generate `user_rating_dup`: extract duplicated users from `pair_rating_dup`."
   ]
  },
  {
   "cell_type": "code",
   "execution_count": 31,
   "metadata": {
    "scrolled": true
   },
   "outputs": [
    {
     "data": {
      "text/plain": [
       "{'01e4e18e2e21b84ee1c5813fd5d3797f',\n",
       " '3e0c0afd46ee7366f328ddf1dae83479',\n",
       " '4638502dc978788ec9d44e64e43a6757',\n",
       " '5e82ce34f999ec0dbd2859b8b04dfcbf',\n",
       " '75a54727bffcbbb561da9d3eb604f28e',\n",
       " '9ba0ccf0a69ae15c85d1b289baa4d494',\n",
       " 'c56613815b9f708eb9df7eb6afd42a49'}"
      ]
     },
     "metadata": {},
     "output_type": "display_data"
    }
   ],
   "source": [
    "# Display user with duplicated entries\n",
    "user_rating_dup = set(user for user, _ in (pair.split(sep=\"_\") for pair in pair_rating_dup))\n",
    "display(user_rating_dup)"
   ]
  },
  {
   "cell_type": "markdown",
   "metadata": {},
   "source": [
    "**Note:** The 5,221 duplicated ratings are from 7 users in the `df_rating` DataFrame."
   ]
  },
  {
   "cell_type": "markdown",
   "metadata": {},
   "source": [
    "# 4. Data Preprocessing <a name=\"preprocessing\"></a>"
   ]
  },
  {
   "cell_type": "markdown",
   "metadata": {},
   "source": [
    "Generate dictionary for the user identifier in RapidMiner."
   ]
  },
  {
   "cell_type": "markdown",
   "metadata": {},
   "source": [
    "## 4.1. Remove Duplicates <a name=\"preprocessing-dup\"></a>\n",
    "\n",
    "Remove duplicated values from each DataFrame using Pandas [`drop_duplicates()`](https://pandas.pydata.org/docs/reference/api/pandas.DataFrame.drop_duplicates.html) function.\n",
    "\n",
    "- `df_ratings` → `df_ratings_unique`"
   ]
  },
  {
   "cell_type": "code",
   "execution_count": 32,
   "metadata": {},
   "outputs": [
    {
     "name": "stdout",
     "output_type": "stream",
     "text": [
      "New DataFrame:\n"
     ]
    },
    {
     "data": {
      "text/html": [
       "<div>\n",
       "<style scoped>\n",
       "    .dataframe tbody tr th:only-of-type {\n",
       "        vertical-align: middle;\n",
       "    }\n",
       "\n",
       "    .dataframe tbody tr th {\n",
       "        vertical-align: top;\n",
       "    }\n",
       "\n",
       "    .dataframe thead th {\n",
       "        text-align: right;\n",
       "    }\n",
       "</style>\n",
       "<table border=\"1\" class=\"dataframe\">\n",
       "  <thead>\n",
       "    <tr style=\"text-align: right;\">\n",
       "      <th></th>\n",
       "      <th>user_id</th>\n",
       "      <th>movie_id</th>\n",
       "      <th>rating</th>\n",
       "      <th>timestamp</th>\n",
       "    </tr>\n",
       "  </thead>\n",
       "  <tbody>\n",
       "    <tr>\n",
       "      <th>0</th>\n",
       "      <td>8e7cebf9a234c064b75016249f2ac65e</td>\n",
       "      <td>1</td>\n",
       "      <td>5.0000</td>\n",
       "      <td>2001-09-10 17:19:56</td>\n",
       "    </tr>\n",
       "    <tr>\n",
       "      <th>1</th>\n",
       "      <td>8e7cebf9a234c064b75016249f2ac65e</td>\n",
       "      <td>2</td>\n",
       "      <td>4.0000</td>\n",
       "      <td>2001-09-28 11:34:55</td>\n",
       "    </tr>\n",
       "    <tr>\n",
       "      <th>2</th>\n",
       "      <td>8e7cebf9a234c064b75016249f2ac65e</td>\n",
       "      <td>3</td>\n",
       "      <td>4.0000</td>\n",
       "      <td>2001-09-28 11:42:50</td>\n",
       "    </tr>\n",
       "    <tr>\n",
       "      <th>3</th>\n",
       "      <td>8e7cebf9a234c064b75016249f2ac65e</td>\n",
       "      <td>5</td>\n",
       "      <td>5.0000</td>\n",
       "      <td>2001-09-28 11:27:30</td>\n",
       "    </tr>\n",
       "    <tr>\n",
       "      <th>4</th>\n",
       "      <td>8e7cebf9a234c064b75016249f2ac65e</td>\n",
       "      <td>6</td>\n",
       "      <td>4.0000</td>\n",
       "      <td>2002-01-07 18:12:02</td>\n",
       "    </tr>\n",
       "  </tbody>\n",
       "</table>\n",
       "</div>"
      ],
      "text/plain": [
       "                            user_id  movie_id  rating             timestamp\n",
       "0  8e7cebf9a234c064b75016249f2ac65e         1  5.0000  2001-09-10 17:19:56 \n",
       "1  8e7cebf9a234c064b75016249f2ac65e         2  4.0000  2001-09-28 11:34:55 \n",
       "2  8e7cebf9a234c064b75016249f2ac65e         3  4.0000  2001-09-28 11:42:50 \n",
       "3  8e7cebf9a234c064b75016249f2ac65e         5  5.0000  2001-09-28 11:27:30 \n",
       "4  8e7cebf9a234c064b75016249f2ac65e         6  4.0000  2002-01-07 18:12:02 "
      ]
     },
     "metadata": {},
     "output_type": "display_data"
    },
    {
     "name": "stdout",
     "output_type": "stream",
     "text": [
      "Shape (before): (1028751, 4)\n",
      "Shape (after): (1020429, 4)\n"
     ]
    }
   ],
   "source": [
    "df_ratings_unique = df_ratings.drop_duplicates(ignore_index=True)\n",
    "\n",
    "print(\"New DataFrame:\")\n",
    "display(df_ratings_unique.head())\n",
    "\n",
    "print(f\"Shape (before): {df_ratings.shape}\")\n",
    "print(f\"Shape (after): {df_ratings_unique.shape}\")"
   ]
  },
  {
   "cell_type": "markdown",
   "metadata": {},
   "source": [
    "## 4.2. Reduce Amount of Ratings Data <a name=\"preprocessing-reduce\"></a>\n",
    "\n",
    "This step is very essential to reduce the dimension of the utility matrix. Recall `df_ratings_unique` by displaying its first 5 rows."
   ]
  },
  {
   "cell_type": "code",
   "execution_count": 33,
   "metadata": {},
   "outputs": [
    {
     "data": {
      "text/html": [
       "<div>\n",
       "<style scoped>\n",
       "    .dataframe tbody tr th:only-of-type {\n",
       "        vertical-align: middle;\n",
       "    }\n",
       "\n",
       "    .dataframe tbody tr th {\n",
       "        vertical-align: top;\n",
       "    }\n",
       "\n",
       "    .dataframe thead th {\n",
       "        text-align: right;\n",
       "    }\n",
       "</style>\n",
       "<table border=\"1\" class=\"dataframe\">\n",
       "  <thead>\n",
       "    <tr style=\"text-align: right;\">\n",
       "      <th></th>\n",
       "      <th>user_id</th>\n",
       "      <th>movie_id</th>\n",
       "      <th>rating</th>\n",
       "      <th>timestamp</th>\n",
       "    </tr>\n",
       "  </thead>\n",
       "  <tbody>\n",
       "    <tr>\n",
       "      <th>0</th>\n",
       "      <td>8e7cebf9a234c064b75016249f2ac65e</td>\n",
       "      <td>1</td>\n",
       "      <td>5.0000</td>\n",
       "      <td>2001-09-10 17:19:56</td>\n",
       "    </tr>\n",
       "    <tr>\n",
       "      <th>1</th>\n",
       "      <td>8e7cebf9a234c064b75016249f2ac65e</td>\n",
       "      <td>2</td>\n",
       "      <td>4.0000</td>\n",
       "      <td>2001-09-28 11:34:55</td>\n",
       "    </tr>\n",
       "    <tr>\n",
       "      <th>2</th>\n",
       "      <td>8e7cebf9a234c064b75016249f2ac65e</td>\n",
       "      <td>3</td>\n",
       "      <td>4.0000</td>\n",
       "      <td>2001-09-28 11:42:50</td>\n",
       "    </tr>\n",
       "    <tr>\n",
       "      <th>3</th>\n",
       "      <td>8e7cebf9a234c064b75016249f2ac65e</td>\n",
       "      <td>5</td>\n",
       "      <td>5.0000</td>\n",
       "      <td>2001-09-28 11:27:30</td>\n",
       "    </tr>\n",
       "    <tr>\n",
       "      <th>4</th>\n",
       "      <td>8e7cebf9a234c064b75016249f2ac65e</td>\n",
       "      <td>6</td>\n",
       "      <td>4.0000</td>\n",
       "      <td>2002-01-07 18:12:02</td>\n",
       "    </tr>\n",
       "  </tbody>\n",
       "</table>\n",
       "</div>"
      ],
      "text/plain": [
       "                            user_id  movie_id  rating             timestamp\n",
       "0  8e7cebf9a234c064b75016249f2ac65e         1  5.0000  2001-09-10 17:19:56 \n",
       "1  8e7cebf9a234c064b75016249f2ac65e         2  4.0000  2001-09-28 11:34:55 \n",
       "2  8e7cebf9a234c064b75016249f2ac65e         3  4.0000  2001-09-28 11:42:50 \n",
       "3  8e7cebf9a234c064b75016249f2ac65e         5  5.0000  2001-09-28 11:27:30 \n",
       "4  8e7cebf9a234c064b75016249f2ac65e         6  4.0000  2002-01-07 18:12:02 "
      ]
     },
     "execution_count": 33,
     "metadata": {},
     "output_type": "execute_result"
    }
   ],
   "source": [
    "df_ratings_unique.head()"
   ]
  },
  {
   "cell_type": "markdown",
   "metadata": {},
   "source": [
    "Use Pandas [`nunique()`](https://pandas.pydata.org/docs/reference/api/pandas.Series.nunique.html) function to inspect number of unique users and movies in the `df_ratings_unique` DataFrame."
   ]
  },
  {
   "cell_type": "code",
   "execution_count": 34,
   "metadata": {},
   "outputs": [
    {
     "name": "stdout",
     "output_type": "stream",
     "text": [
      "# unique users: 1820\n",
      "# unique movies: 35196\n"
     ]
    }
   ],
   "source": [
    "print(f\"# unique users: {df_ratings_unique['user_id'].nunique()}\")\n",
    "print(f\"# unique movies: {df_ratings_unique['movie_id'].nunique()}\")"
   ]
  },
  {
   "cell_type": "markdown",
   "metadata": {},
   "source": [
    "**Note:** Since there are **35,196 movies** in the utility matrix, the cosine similarity matrix for item comparison will have **35,196 rows** and **35,196 columns** respectively, which requires too much computational power to construct and takes too long to get the computations done!\n",
    "\n",
    "The following steps deal with this issue by reducing the amount of data to be processed."
   ]
  },
  {
   "cell_type": "markdown",
   "metadata": {},
   "source": [
    "### 4.2.1. Filter by rating year <a name=\"preprocessing-year\"></a>\n",
    "\n",
    "Extract `year` from the `timestamp` column by using Pandas `apply()` function.  \n",
    "Note that the `timestamp` column stores values of `str` type, not any date type. We keep it as it is for convenient manipulation."
   ]
  },
  {
   "cell_type": "code",
   "execution_count": 35,
   "metadata": {
    "scrolled": true
   },
   "outputs": [
    {
     "name": "stderr",
     "output_type": "stream",
     "text": [
      "<ipython-input-35-26fd4dd52719>:1: SettingWithCopyWarning: \n",
      "A value is trying to be set on a copy of a slice from a DataFrame.\n",
      "Try using .loc[row_indexer,col_indexer] = value instead\n",
      "\n",
      "See the caveats in the documentation: https://pandas.pydata.org/pandas-docs/stable/user_guide/indexing.html#returning-a-view-versus-a-copy\n",
      "  df_ratings_unique['rating_year'] = (df_ratings_unique['timestamp']\n"
     ]
    },
    {
     "data": {
      "text/html": [
       "<div>\n",
       "<style scoped>\n",
       "    .dataframe tbody tr th:only-of-type {\n",
       "        vertical-align: middle;\n",
       "    }\n",
       "\n",
       "    .dataframe tbody tr th {\n",
       "        vertical-align: top;\n",
       "    }\n",
       "\n",
       "    .dataframe thead th {\n",
       "        text-align: right;\n",
       "    }\n",
       "</style>\n",
       "<table border=\"1\" class=\"dataframe\">\n",
       "  <thead>\n",
       "    <tr style=\"text-align: right;\">\n",
       "      <th></th>\n",
       "      <th>user_id</th>\n",
       "      <th>movie_id</th>\n",
       "      <th>rating</th>\n",
       "      <th>timestamp</th>\n",
       "      <th>rating_year</th>\n",
       "    </tr>\n",
       "  </thead>\n",
       "  <tbody>\n",
       "    <tr>\n",
       "      <th>0</th>\n",
       "      <td>8e7cebf9a234c064b75016249f2ac65e</td>\n",
       "      <td>1</td>\n",
       "      <td>5.0000</td>\n",
       "      <td>2001-09-10 17:19:56</td>\n",
       "      <td>2001</td>\n",
       "    </tr>\n",
       "    <tr>\n",
       "      <th>1</th>\n",
       "      <td>8e7cebf9a234c064b75016249f2ac65e</td>\n",
       "      <td>2</td>\n",
       "      <td>4.0000</td>\n",
       "      <td>2001-09-28 11:34:55</td>\n",
       "      <td>2001</td>\n",
       "    </tr>\n",
       "    <tr>\n",
       "      <th>2</th>\n",
       "      <td>8e7cebf9a234c064b75016249f2ac65e</td>\n",
       "      <td>3</td>\n",
       "      <td>4.0000</td>\n",
       "      <td>2001-09-28 11:42:50</td>\n",
       "      <td>2001</td>\n",
       "    </tr>\n",
       "    <tr>\n",
       "      <th>3</th>\n",
       "      <td>8e7cebf9a234c064b75016249f2ac65e</td>\n",
       "      <td>5</td>\n",
       "      <td>5.0000</td>\n",
       "      <td>2001-09-28 11:27:30</td>\n",
       "      <td>2001</td>\n",
       "    </tr>\n",
       "    <tr>\n",
       "      <th>4</th>\n",
       "      <td>8e7cebf9a234c064b75016249f2ac65e</td>\n",
       "      <td>6</td>\n",
       "      <td>4.0000</td>\n",
       "      <td>2002-01-07 18:12:02</td>\n",
       "      <td>2002</td>\n",
       "    </tr>\n",
       "  </tbody>\n",
       "</table>\n",
       "</div>"
      ],
      "text/plain": [
       "                            user_id  movie_id  rating             timestamp  \\\n",
       "0  8e7cebf9a234c064b75016249f2ac65e         1  5.0000  2001-09-10 17:19:56    \n",
       "1  8e7cebf9a234c064b75016249f2ac65e         2  4.0000  2001-09-28 11:34:55    \n",
       "2  8e7cebf9a234c064b75016249f2ac65e         3  4.0000  2001-09-28 11:42:50    \n",
       "3  8e7cebf9a234c064b75016249f2ac65e         5  5.0000  2001-09-28 11:27:30    \n",
       "4  8e7cebf9a234c064b75016249f2ac65e         6  4.0000  2002-01-07 18:12:02    \n",
       "\n",
       "  rating_year  \n",
       "0        2001  \n",
       "1        2001  \n",
       "2        2001  \n",
       "3        2001  \n",
       "4        2002  "
      ]
     },
     "execution_count": 35,
     "metadata": {},
     "output_type": "execute_result"
    }
   ],
   "source": [
    "df_ratings_unique['rating_year'] = (df_ratings_unique['timestamp']\n",
    "                                    .apply(lambda x: x.split(sep=\"-\")[0])) # shorthand\n",
    "df_ratings_unique.head()"
   ]
  },
  {
   "cell_type": "markdown",
   "metadata": {},
   "source": [
    "Inspect the occurrences of ratings by year by using Pandas `value_counts()` function."
   ]
  },
  {
   "cell_type": "code",
   "execution_count": 36,
   "metadata": {},
   "outputs": [
    {
     "data": {
      "text/plain": [
       "2015    323462\n",
       "2014     76253\n",
       "2016     73526\n",
       "2012     56849\n",
       "2013     52690\n",
       "2017     51811\n",
       "2010     47072\n",
       "2018     42303\n",
       "2011     41343\n",
       "2009     37947\n",
       "2008     31569\n",
       "2005     29129\n",
       "2006     27633\n",
       "2007     26946\n",
       "2004     26354\n",
       "2003     23042\n",
       "2001     15843\n",
       "2002     14069\n",
       "2000     12774\n",
       "1999      5826\n",
       "2019      2467\n",
       "1998      1142\n",
       "1997       379\n",
       "Name: rating_year, dtype: int64"
      ]
     },
     "execution_count": 36,
     "metadata": {},
     "output_type": "execute_result"
    }
   ],
   "source": [
    "df_ratings_unique['rating_year'].value_counts()"
   ]
  },
  {
   "cell_type": "markdown",
   "metadata": {},
   "source": [
    "Visualize the occurrences of ratings by year using a bar plot."
   ]
  },
  {
   "cell_type": "code",
   "execution_count": 37,
   "metadata": {},
   "outputs": [
    {
     "data": {
      "image/png": "[encoded data removed]",
      "text/plain": [
       "<Figure size 1440x576 with 1 Axes>"
      ]
     },
     "metadata": {
      "needs_background": "light"
     },
     "output_type": "display_data"
    }
   ],
   "source": [
    "plt.figure(figsize=(20, 8))\n",
    "\n",
    "df_ratings_unique['rating_year'].value_counts().sort_index().plot(kind='bar')\n",
    "plt.title('Bar Plot: Occurrences vs. Rating Year')\n",
    "plt.xlabel('Number of movies rated')\n",
    "plt.ylim(ymin=0)\n",
    "plt.show()"
   ]
  },
  {
   "cell_type": "markdown",
   "metadata": {},
   "source": [
    "**Note:** The occurrences of ratings in 2015 is the highest in 2015, **exceeding 30,000**. This is also the only year with occurrenes of ratings over 10,000."
   ]
  },
  {
   "cell_type": "markdown",
   "metadata": {},
   "source": [
    "Define `year_threshold` and inspect total number of ratings before `year_threshold` (we will drop at least this much of ratings)."
   ]
  },
  {
   "cell_type": "code",
   "execution_count": 38,
   "metadata": {},
   "outputs": [
    {
     "data": {
      "text/plain": [
       "850322"
      ]
     },
     "execution_count": 38,
     "metadata": {},
     "output_type": "execute_result"
    }
   ],
   "source": [
    "year_threshold = 2016\n",
    "\n",
    "list_rating_is_before_year_threshold = (df_ratings_unique['rating_year']\n",
    "                                        .apply(lambda x: int(x) < year_threshold))\n",
    "\n",
    "list_rating_is_before_year_threshold.sum()"
   ]
  },
  {
   "cell_type": "markdown",
   "metadata": {},
   "source": [
    "Create new DataFrame `df_ratings_new`, which takes only ratings from `year_threshold` and beyond.\n",
    "\n",
    "- `df_ratings_unique` → `df_ratings_new`"
   ]
  },
  {
   "cell_type": "code",
   "execution_count": 39,
   "metadata": {
    "scrolled": false
   },
   "outputs": [
    {
     "data": {
      "text/html": [
       "<div>\n",
       "<style scoped>\n",
       "    .dataframe tbody tr th:only-of-type {\n",
       "        vertical-align: middle;\n",
       "    }\n",
       "\n",
       "    .dataframe tbody tr th {\n",
       "        vertical-align: top;\n",
       "    }\n",
       "\n",
       "    .dataframe thead th {\n",
       "        text-align: right;\n",
       "    }\n",
       "</style>\n",
       "<table border=\"1\" class=\"dataframe\">\n",
       "  <thead>\n",
       "    <tr style=\"text-align: right;\">\n",
       "      <th></th>\n",
       "      <th>user_id</th>\n",
       "      <th>movie_id</th>\n",
       "      <th>rating</th>\n",
       "      <th>timestamp</th>\n",
       "      <th>rating_year</th>\n",
       "    </tr>\n",
       "  </thead>\n",
       "  <tbody>\n",
       "    <tr>\n",
       "      <th>0</th>\n",
       "      <td>8e7cebf9a234c064b75016249f2ac65e</td>\n",
       "      <td>18</td>\n",
       "      <td>2.5000</td>\n",
       "      <td>2017-05-22 17:37:52</td>\n",
       "      <td>2017</td>\n",
       "    </tr>\n",
       "    <tr>\n",
       "      <th>1</th>\n",
       "      <td>8e7cebf9a234c064b75016249f2ac65e</td>\n",
       "      <td>764</td>\n",
       "      <td>3.5000</td>\n",
       "      <td>2017-03-07 19:08:48</td>\n",
       "      <td>2017</td>\n",
       "    </tr>\n",
       "    <tr>\n",
       "      <th>2</th>\n",
       "      <td>8e7cebf9a234c064b75016249f2ac65e</td>\n",
       "      <td>1068</td>\n",
       "      <td>4.0000</td>\n",
       "      <td>2017-08-15 18:37:10</td>\n",
       "      <td>2017</td>\n",
       "    </tr>\n",
       "    <tr>\n",
       "      <th>3</th>\n",
       "      <td>8e7cebf9a234c064b75016249f2ac65e</td>\n",
       "      <td>1088</td>\n",
       "      <td>3.5000</td>\n",
       "      <td>2017-06-23 21:02:15</td>\n",
       "      <td>2017</td>\n",
       "    </tr>\n",
       "    <tr>\n",
       "      <th>4</th>\n",
       "      <td>8e7cebf9a234c064b75016249f2ac65e</td>\n",
       "      <td>1410</td>\n",
       "      <td>3.0000</td>\n",
       "      <td>2016-06-17 21:06:01</td>\n",
       "      <td>2016</td>\n",
       "    </tr>\n",
       "    <tr>\n",
       "      <th>...</th>\n",
       "      <td>...</td>\n",
       "      <td>...</td>\n",
       "      <td>...</td>\n",
       "      <td>...</td>\n",
       "      <td>...</td>\n",
       "    </tr>\n",
       "    <tr>\n",
       "      <th>170102</th>\n",
       "      <td>bad56d9506832cd79d874a6b66b3d813</td>\n",
       "      <td>190939</td>\n",
       "      <td>3.0000</td>\n",
       "      <td>2018-10-13 15:39:03</td>\n",
       "      <td>2018</td>\n",
       "    </tr>\n",
       "    <tr>\n",
       "      <th>170103</th>\n",
       "      <td>bad56d9506832cd79d874a6b66b3d813</td>\n",
       "      <td>192307</td>\n",
       "      <td>3.5000</td>\n",
       "      <td>2018-11-18 16:45:11</td>\n",
       "      <td>2018</td>\n",
       "    </tr>\n",
       "    <tr>\n",
       "      <th>170104</th>\n",
       "      <td>721ea658e148fc0f76ddd6e2b0e02422</td>\n",
       "      <td>53322</td>\n",
       "      <td>4.5000</td>\n",
       "      <td>2016-03-12 06:49:38</td>\n",
       "      <td>2016</td>\n",
       "    </tr>\n",
       "    <tr>\n",
       "      <th>170105</th>\n",
       "      <td>721ea658e148fc0f76ddd6e2b0e02422</td>\n",
       "      <td>54259</td>\n",
       "      <td>4.5000</td>\n",
       "      <td>2016-03-12 06:49:37</td>\n",
       "      <td>2016</td>\n",
       "    </tr>\n",
       "    <tr>\n",
       "      <th>170106</th>\n",
       "      <td>721ea658e148fc0f76ddd6e2b0e02422</td>\n",
       "      <td>61323</td>\n",
       "      <td>2.0000</td>\n",
       "      <td>2016-03-12 06:49:29</td>\n",
       "      <td>2016</td>\n",
       "    </tr>\n",
       "  </tbody>\n",
       "</table>\n",
       "<p>170107 rows × 5 columns</p>\n",
       "</div>"
      ],
      "text/plain": [
       "                                 user_id  movie_id  rating  \\\n",
       "0       8e7cebf9a234c064b75016249f2ac65e        18  2.5000   \n",
       "1       8e7cebf9a234c064b75016249f2ac65e       764  3.5000   \n",
       "2       8e7cebf9a234c064b75016249f2ac65e      1068  4.0000   \n",
       "3       8e7cebf9a234c064b75016249f2ac65e      1088  3.5000   \n",
       "4       8e7cebf9a234c064b75016249f2ac65e      1410  3.0000   \n",
       "...                                  ...       ...     ...   \n",
       "170102  bad56d9506832cd79d874a6b66b3d813    190939  3.0000   \n",
       "170103  bad56d9506832cd79d874a6b66b3d813    192307  3.5000   \n",
       "170104  721ea658e148fc0f76ddd6e2b0e02422     53322  4.5000   \n",
       "170105  721ea658e148fc0f76ddd6e2b0e02422     54259  4.5000   \n",
       "170106  721ea658e148fc0f76ddd6e2b0e02422     61323  2.0000   \n",
       "\n",
       "                   timestamp rating_year  \n",
       "0       2017-05-22 17:37:52         2017  \n",
       "1       2017-03-07 19:08:48         2017  \n",
       "2       2017-08-15 18:37:10         2017  \n",
       "3       2017-06-23 21:02:15         2017  \n",
       "4       2016-06-17 21:06:01         2016  \n",
       "...                      ...         ...  \n",
       "170102  2018-10-13 15:39:03         2018  \n",
       "170103  2018-11-18 16:45:11         2018  \n",
       "170104  2016-03-12 06:49:38         2016  \n",
       "170105  2016-03-12 06:49:37         2016  \n",
       "170106  2016-03-12 06:49:29         2016  \n",
       "\n",
       "[170107 rows x 5 columns]"
      ]
     },
     "execution_count": 39,
     "metadata": {},
     "output_type": "execute_result"
    }
   ],
   "source": [
    "df_ratings_new = df_ratings_unique.copy()\n",
    "df_ratings_new = (df_ratings_new.loc[~list_rating_is_before_year_threshold][:]\n",
    "                  .reset_index(drop=True))\n",
    "\n",
    "df_ratings_new"
   ]
  },
  {
   "cell_type": "markdown",
   "metadata": {},
   "source": [
    "**Note:** We have successfully reduced the number of ratings **from ~1M to 170,107**."
   ]
  },
  {
   "cell_type": "markdown",
   "metadata": {},
   "source": [
    "### 4.2.2. Filter ratings by movie count <a name=\"preprocessing-movie-count\"></a>\n",
    "\n",
    "Use Pandas [`nunique()`](https://pandas.pydata.org/docs/reference/api/pandas.Series.nunique.html) function to inspect occurrences of movies in the `df_ratings_new` DataFrame."
   ]
  },
  {
   "cell_type": "code",
   "execution_count": 40,
   "metadata": {},
   "outputs": [
    {
     "name": "stdout",
     "output_type": "stream",
     "text": [
      "# unique users: 1183\n",
      "# unique movies: 23558\n"
     ]
    }
   ],
   "source": [
    "print(f\"# unique users: {df_ratings_new['user_id'].nunique()}\")\n",
    "print(f\"# unique movies: {df_ratings_new['movie_id'].nunique()}\")"
   ]
  },
  {
   "cell_type": "markdown",
   "metadata": {},
   "source": [
    "Inspect number of ratings received by each movie."
   ]
  },
  {
   "cell_type": "code",
   "execution_count": 41,
   "metadata": {
    "scrolled": true
   },
   "outputs": [
    {
     "data": {
      "text/plain": [
       "movie_id\n",
       "122904    617\n",
       "122886    538\n",
       "164179    534\n",
       "134130    477\n",
       "152081    429\n",
       "         ... \n",
       "123647      1\n",
       "123591      1\n",
       "123589      1\n",
       "123573      1\n",
       "99448       1\n",
       "Name: rating, Length: 23558, dtype: int64"
      ]
     },
     "execution_count": 41,
     "metadata": {},
     "output_type": "execute_result"
    }
   ],
   "source": [
    "movie_ratings_count = df_ratings_new.groupby('movie_id')['rating'].count().sort_values(ascending=False)\n",
    "movie_ratings_count"
   ]
  },
  {
   "cell_type": "markdown",
   "metadata": {},
   "source": [
    "**Note:** The movie that receives the highest number of ratings is `122904`, which has total number of 617 ratings."
   ]
  },
  {
   "cell_type": "markdown",
   "metadata": {},
   "source": [
    "Set threshold for occurrences of movies to be processed by the recommender system.\n",
    "\n",
    "- `MOVIE_THRESHOLD`: A movie with less than `MOVIE_THRESHOLD` ratings will be removed."
   ]
  },
  {
   "cell_type": "code",
   "execution_count": 42,
   "metadata": {},
   "outputs": [
    {
     "data": {
      "text/plain": [
       "3781"
      ]
     },
     "execution_count": 42,
     "metadata": {},
     "output_type": "execute_result"
    }
   ],
   "source": [
    "MOVIE_THRESHOLD = 10\n",
    "\n",
    "movie_ratings_count_above_threshold = (movie_ratings_count >= MOVIE_THRESHOLD)\n",
    "movie_ratings_count_above_threshold.sum()"
   ]
  },
  {
   "cell_type": "markdown",
   "metadata": {},
   "source": [
    "Create new Pandas DataFrame `df_recent_ratings_n_hot_movies`, which stores only ratings for movies filtered by threshold value for occurrences of movies.\n",
    "\n",
    "- `df_ratings_new` $\\rightarrow$ `df_ratings_hot_movies`"
   ]
  },
  {
   "cell_type": "code",
   "execution_count": 43,
   "metadata": {},
   "outputs": [
    {
     "data": {
      "text/html": [
       "<div>\n",
       "<style scoped>\n",
       "    .dataframe tbody tr th:only-of-type {\n",
       "        vertical-align: middle;\n",
       "    }\n",
       "\n",
       "    .dataframe tbody tr th {\n",
       "        vertical-align: top;\n",
       "    }\n",
       "\n",
       "    .dataframe thead th {\n",
       "        text-align: right;\n",
       "    }\n",
       "</style>\n",
       "<table border=\"1\" class=\"dataframe\">\n",
       "  <thead>\n",
       "    <tr style=\"text-align: right;\">\n",
       "      <th></th>\n",
       "      <th>user_id</th>\n",
       "      <th>movie_id</th>\n",
       "      <th>rating</th>\n",
       "      <th>timestamp</th>\n",
       "      <th>rating_year</th>\n",
       "    </tr>\n",
       "  </thead>\n",
       "  <tbody>\n",
       "    <tr>\n",
       "      <th>0</th>\n",
       "      <td>8e7cebf9a234c064b75016249f2ac65e</td>\n",
       "      <td>18</td>\n",
       "      <td>2.5000</td>\n",
       "      <td>2017-05-22 17:37:52</td>\n",
       "      <td>2017</td>\n",
       "    </tr>\n",
       "    <tr>\n",
       "      <th>1</th>\n",
       "      <td>8e7cebf9a234c064b75016249f2ac65e</td>\n",
       "      <td>1088</td>\n",
       "      <td>3.5000</td>\n",
       "      <td>2017-06-23 21:02:15</td>\n",
       "      <td>2017</td>\n",
       "    </tr>\n",
       "    <tr>\n",
       "      <th>2</th>\n",
       "      <td>8e7cebf9a234c064b75016249f2ac65e</td>\n",
       "      <td>1665</td>\n",
       "      <td>2.5000</td>\n",
       "      <td>2017-09-18 21:51:20</td>\n",
       "      <td>2017</td>\n",
       "    </tr>\n",
       "    <tr>\n",
       "      <th>3</th>\n",
       "      <td>8e7cebf9a234c064b75016249f2ac65e</td>\n",
       "      <td>2642</td>\n",
       "      <td>1.0000</td>\n",
       "      <td>2017-01-05 17:33:43</td>\n",
       "      <td>2017</td>\n",
       "    </tr>\n",
       "    <tr>\n",
       "      <th>4</th>\n",
       "      <td>8e7cebf9a234c064b75016249f2ac65e</td>\n",
       "      <td>2643</td>\n",
       "      <td>2.5000</td>\n",
       "      <td>2018-11-03 15:39:11</td>\n",
       "      <td>2018</td>\n",
       "    </tr>\n",
       "    <tr>\n",
       "      <th>...</th>\n",
       "      <td>...</td>\n",
       "      <td>...</td>\n",
       "      <td>...</td>\n",
       "      <td>...</td>\n",
       "      <td>...</td>\n",
       "    </tr>\n",
       "    <tr>\n",
       "      <th>124850</th>\n",
       "      <td>bad56d9506832cd79d874a6b66b3d813</td>\n",
       "      <td>190939</td>\n",
       "      <td>3.0000</td>\n",
       "      <td>2018-10-13 15:39:03</td>\n",
       "      <td>2018</td>\n",
       "    </tr>\n",
       "    <tr>\n",
       "      <th>124851</th>\n",
       "      <td>bad56d9506832cd79d874a6b66b3d813</td>\n",
       "      <td>192307</td>\n",
       "      <td>3.5000</td>\n",
       "      <td>2018-11-18 16:45:11</td>\n",
       "      <td>2018</td>\n",
       "    </tr>\n",
       "    <tr>\n",
       "      <th>124852</th>\n",
       "      <td>721ea658e148fc0f76ddd6e2b0e02422</td>\n",
       "      <td>53322</td>\n",
       "      <td>4.5000</td>\n",
       "      <td>2016-03-12 06:49:38</td>\n",
       "      <td>2016</td>\n",
       "    </tr>\n",
       "    <tr>\n",
       "      <th>124853</th>\n",
       "      <td>721ea658e148fc0f76ddd6e2b0e02422</td>\n",
       "      <td>54259</td>\n",
       "      <td>4.5000</td>\n",
       "      <td>2016-03-12 06:49:37</td>\n",
       "      <td>2016</td>\n",
       "    </tr>\n",
       "    <tr>\n",
       "      <th>124854</th>\n",
       "      <td>721ea658e148fc0f76ddd6e2b0e02422</td>\n",
       "      <td>61323</td>\n",
       "      <td>2.0000</td>\n",
       "      <td>2016-03-12 06:49:29</td>\n",
       "      <td>2016</td>\n",
       "    </tr>\n",
       "  </tbody>\n",
       "</table>\n",
       "<p>124855 rows × 5 columns</p>\n",
       "</div>"
      ],
      "text/plain": [
       "                                 user_id  movie_id  rating  \\\n",
       "0       8e7cebf9a234c064b75016249f2ac65e        18  2.5000   \n",
       "1       8e7cebf9a234c064b75016249f2ac65e      1088  3.5000   \n",
       "2       8e7cebf9a234c064b75016249f2ac65e      1665  2.5000   \n",
       "3       8e7cebf9a234c064b75016249f2ac65e      2642  1.0000   \n",
       "4       8e7cebf9a234c064b75016249f2ac65e      2643  2.5000   \n",
       "...                                  ...       ...     ...   \n",
       "124850  bad56d9506832cd79d874a6b66b3d813    190939  3.0000   \n",
       "124851  bad56d9506832cd79d874a6b66b3d813    192307  3.5000   \n",
       "124852  721ea658e148fc0f76ddd6e2b0e02422     53322  4.5000   \n",
       "124853  721ea658e148fc0f76ddd6e2b0e02422     54259  4.5000   \n",
       "124854  721ea658e148fc0f76ddd6e2b0e02422     61323  2.0000   \n",
       "\n",
       "                   timestamp rating_year  \n",
       "0       2017-05-22 17:37:52         2017  \n",
       "1       2017-06-23 21:02:15         2017  \n",
       "2       2017-09-18 21:51:20         2017  \n",
       "3       2017-01-05 17:33:43         2017  \n",
       "4       2018-11-03 15:39:11         2018  \n",
       "...                      ...         ...  \n",
       "124850  2018-10-13 15:39:03         2018  \n",
       "124851  2018-11-18 16:45:11         2018  \n",
       "124852  2016-03-12 06:49:38         2016  \n",
       "124853  2016-03-12 06:49:37         2016  \n",
       "124854  2016-03-12 06:49:29         2016  \n",
       "\n",
       "[124855 rows x 5 columns]"
      ]
     },
     "execution_count": 43,
     "metadata": {},
     "output_type": "execute_result"
    }
   ],
   "source": [
    "movie_list = list(movie_ratings_count_above_threshold[movie_ratings_count_above_threshold].index)\n",
    "\n",
    "df_ratings_hot_movies = df_ratings_new.copy()\n",
    "movie_condition = (df_ratings_hot_movies['movie_id'].apply(lambda x: x in movie_list))\n",
    "\n",
    "df_ratings_hot_movies = (df_ratings_hot_movies[movie_condition].reset_index(drop=True))\n",
    "df_ratings_hot_movies"
   ]
  },
  {
   "cell_type": "markdown",
   "metadata": {},
   "source": [
    "**Note:** We have further reduced the number of ratings **from 170,107 to 124,855**."
   ]
  },
  {
   "cell_type": "markdown",
   "metadata": {},
   "source": [
    "### 4.2.3. Filter ratings by user count <a name=\"preprocessing-user-count\"></a>\n",
    "\n",
    "Inspect the occurrences of ratings by user by using Pandas `value_counts()` function."
   ]
  },
  {
   "cell_type": "code",
   "execution_count": 44,
   "metadata": {},
   "outputs": [
    {
     "data": {
      "text/plain": [
       "9e725a43d8a4e561c0c31b7b8358832e    1331\n",
       "b54372490fb6e3ccace51c0e3541db08    1156\n",
       "ade0ba45447504c98ca80b4959a09dc1    1098\n",
       "4553b9eb63ff23c392c5387e59499443     939\n",
       "69dabc24fcb390fabac897dd18cbf349     851\n",
       "                                    ... \n",
       "8de3f511c82a1a152ff16a986c2884c3       1\n",
       "fc3e3e39a10fe337c5f0e8b982aa9493       1\n",
       "ba2556d5acfa8e942d6d9daff1d3cdf4       1\n",
       "023a329aa33c0b602f63ccfa83a08869       1\n",
       "b682bcc838d091d6a17eceec700f865a       1\n",
       "Name: user_id, Length: 1178, dtype: int64"
      ]
     },
     "execution_count": 44,
     "metadata": {},
     "output_type": "execute_result"
    }
   ],
   "source": [
    "user_ratings_count = df_ratings_hot_movies['user_id'].value_counts()\n",
    "user_ratings_count"
   ]
  },
  {
   "cell_type": "markdown",
   "metadata": {},
   "source": [
    "Define `USER_THRESHOLD`. Then, inspect users with at least `USER_THRESHOLD` ratings."
   ]
  },
  {
   "cell_type": "code",
   "execution_count": 45,
   "metadata": {},
   "outputs": [
    {
     "data": {
      "text/plain": [
       "925"
      ]
     },
     "execution_count": 45,
     "metadata": {},
     "output_type": "execute_result"
    }
   ],
   "source": [
    "USER_THRESHOLD = 20\n",
    "\n",
    "user_ratings_count_above_threshold = (user_ratings_count >= USER_THRESHOLD)\n",
    "user_ratings_count_above_threshold.sum()"
   ]
  },
  {
   "cell_type": "markdown",
   "metadata": {},
   "source": [
    "Create new DataFrame `df_ratings_reduced`, which takes only ratings from users with at least `USER_THRESHOLD` ratings.\n",
    "\n",
    "- `df_ratings_hot_movies` $\\rightarrow$ `df_ratings_reduced`"
   ]
  },
  {
   "cell_type": "code",
   "execution_count": 46,
   "metadata": {
    "scrolled": false
   },
   "outputs": [
    {
     "data": {
      "text/html": [
       "<div>\n",
       "<style scoped>\n",
       "    .dataframe tbody tr th:only-of-type {\n",
       "        vertical-align: middle;\n",
       "    }\n",
       "\n",
       "    .dataframe tbody tr th {\n",
       "        vertical-align: top;\n",
       "    }\n",
       "\n",
       "    .dataframe thead th {\n",
       "        text-align: right;\n",
       "    }\n",
       "</style>\n",
       "<table border=\"1\" class=\"dataframe\">\n",
       "  <thead>\n",
       "    <tr style=\"text-align: right;\">\n",
       "      <th></th>\n",
       "      <th>user_id</th>\n",
       "      <th>movie_id</th>\n",
       "      <th>rating</th>\n",
       "      <th>timestamp</th>\n",
       "      <th>rating_year</th>\n",
       "    </tr>\n",
       "  </thead>\n",
       "  <tbody>\n",
       "    <tr>\n",
       "      <th>0</th>\n",
       "      <td>8e7cebf9a234c064b75016249f2ac65e</td>\n",
       "      <td>18</td>\n",
       "      <td>2.5000</td>\n",
       "      <td>2017-05-22 17:37:52</td>\n",
       "      <td>2017</td>\n",
       "    </tr>\n",
       "    <tr>\n",
       "      <th>1</th>\n",
       "      <td>8e7cebf9a234c064b75016249f2ac65e</td>\n",
       "      <td>1088</td>\n",
       "      <td>3.5000</td>\n",
       "      <td>2017-06-23 21:02:15</td>\n",
       "      <td>2017</td>\n",
       "    </tr>\n",
       "    <tr>\n",
       "      <th>2</th>\n",
       "      <td>8e7cebf9a234c064b75016249f2ac65e</td>\n",
       "      <td>1665</td>\n",
       "      <td>2.5000</td>\n",
       "      <td>2017-09-18 21:51:20</td>\n",
       "      <td>2017</td>\n",
       "    </tr>\n",
       "    <tr>\n",
       "      <th>3</th>\n",
       "      <td>8e7cebf9a234c064b75016249f2ac65e</td>\n",
       "      <td>2642</td>\n",
       "      <td>1.0000</td>\n",
       "      <td>2017-01-05 17:33:43</td>\n",
       "      <td>2017</td>\n",
       "    </tr>\n",
       "    <tr>\n",
       "      <th>4</th>\n",
       "      <td>8e7cebf9a234c064b75016249f2ac65e</td>\n",
       "      <td>2643</td>\n",
       "      <td>2.5000</td>\n",
       "      <td>2018-11-03 15:39:11</td>\n",
       "      <td>2018</td>\n",
       "    </tr>\n",
       "    <tr>\n",
       "      <th>...</th>\n",
       "      <td>...</td>\n",
       "      <td>...</td>\n",
       "      <td>...</td>\n",
       "      <td>...</td>\n",
       "      <td>...</td>\n",
       "    </tr>\n",
       "    <tr>\n",
       "      <th>122528</th>\n",
       "      <td>bad56d9506832cd79d874a6b66b3d813</td>\n",
       "      <td>187595</td>\n",
       "      <td>4.0000</td>\n",
       "      <td>2018-06-01 17:12:03</td>\n",
       "      <td>2018</td>\n",
       "    </tr>\n",
       "    <tr>\n",
       "      <th>122529</th>\n",
       "      <td>bad56d9506832cd79d874a6b66b3d813</td>\n",
       "      <td>188797</td>\n",
       "      <td>3.0000</td>\n",
       "      <td>2018-11-18 16:47:15</td>\n",
       "      <td>2018</td>\n",
       "    </tr>\n",
       "    <tr>\n",
       "      <th>122530</th>\n",
       "      <td>bad56d9506832cd79d874a6b66b3d813</td>\n",
       "      <td>189203</td>\n",
       "      <td>3.5000</td>\n",
       "      <td>2018-06-07 19:20:30</td>\n",
       "      <td>2018</td>\n",
       "    </tr>\n",
       "    <tr>\n",
       "      <th>122531</th>\n",
       "      <td>bad56d9506832cd79d874a6b66b3d813</td>\n",
       "      <td>190939</td>\n",
       "      <td>3.0000</td>\n",
       "      <td>2018-10-13 15:39:03</td>\n",
       "      <td>2018</td>\n",
       "    </tr>\n",
       "    <tr>\n",
       "      <th>122532</th>\n",
       "      <td>bad56d9506832cd79d874a6b66b3d813</td>\n",
       "      <td>192307</td>\n",
       "      <td>3.5000</td>\n",
       "      <td>2018-11-18 16:45:11</td>\n",
       "      <td>2018</td>\n",
       "    </tr>\n",
       "  </tbody>\n",
       "</table>\n",
       "<p>122533 rows × 5 columns</p>\n",
       "</div>"
      ],
      "text/plain": [
       "                                 user_id  movie_id  rating  \\\n",
       "0       8e7cebf9a234c064b75016249f2ac65e        18  2.5000   \n",
       "1       8e7cebf9a234c064b75016249f2ac65e      1088  3.5000   \n",
       "2       8e7cebf9a234c064b75016249f2ac65e      1665  2.5000   \n",
       "3       8e7cebf9a234c064b75016249f2ac65e      2642  1.0000   \n",
       "4       8e7cebf9a234c064b75016249f2ac65e      2643  2.5000   \n",
       "...                                  ...       ...     ...   \n",
       "122528  bad56d9506832cd79d874a6b66b3d813    187595  4.0000   \n",
       "122529  bad56d9506832cd79d874a6b66b3d813    188797  3.0000   \n",
       "122530  bad56d9506832cd79d874a6b66b3d813    189203  3.5000   \n",
       "122531  bad56d9506832cd79d874a6b66b3d813    190939  3.0000   \n",
       "122532  bad56d9506832cd79d874a6b66b3d813    192307  3.5000   \n",
       "\n",
       "                   timestamp rating_year  \n",
       "0       2017-05-22 17:37:52         2017  \n",
       "1       2017-06-23 21:02:15         2017  \n",
       "2       2017-09-18 21:51:20         2017  \n",
       "3       2017-01-05 17:33:43         2017  \n",
       "4       2018-11-03 15:39:11         2018  \n",
       "...                      ...         ...  \n",
       "122528  2018-06-01 17:12:03         2018  \n",
       "122529  2018-11-18 16:47:15         2018  \n",
       "122530  2018-06-07 19:20:30         2018  \n",
       "122531  2018-10-13 15:39:03         2018  \n",
       "122532  2018-11-18 16:45:11         2018  \n",
       "\n",
       "[122533 rows x 5 columns]"
      ]
     },
     "execution_count": 46,
     "metadata": {},
     "output_type": "execute_result"
    }
   ],
   "source": [
    "user_list = list(user_ratings_count_above_threshold[user_ratings_count_above_threshold].index)\n",
    "\n",
    "df_ratings_reduced = df_ratings_hot_movies.copy()\n",
    "user_condition = (df_ratings_reduced['user_id'].apply(lambda x: x in user_list))\n",
    "\n",
    "df_ratings_reduced = df_ratings_reduced[user_condition].reset_index(drop=True)\n",
    "df_ratings_reduced"
   ]
  },
  {
   "cell_type": "markdown",
   "metadata": {},
   "source": [
    "**Note:** We have further reduced the number of ratings **from 124,855 to 122,533**."
   ]
  },
  {
   "cell_type": "markdown",
   "metadata": {},
   "source": [
    "Unique movies from `df_ratings_reduced` DataFrame:"
   ]
  },
  {
   "cell_type": "code",
   "execution_count": 47,
   "metadata": {},
   "outputs": [
    {
     "data": {
      "text/plain": [
       "3781"
      ]
     },
     "execution_count": 47,
     "metadata": {},
     "output_type": "execute_result"
    }
   ],
   "source": [
    "rated_movies = sorted(list(df_ratings_reduced['movie_id'].value_counts().index))\n",
    "len(rated_movies)"
   ]
  },
  {
   "cell_type": "code",
   "execution_count": 48,
   "metadata": {},
   "outputs": [
    {
     "data": {
      "text/html": [
       "<div>\n",
       "<style scoped>\n",
       "    .dataframe tbody tr th:only-of-type {\n",
       "        vertical-align: middle;\n",
       "    }\n",
       "\n",
       "    .dataframe tbody tr th {\n",
       "        vertical-align: top;\n",
       "    }\n",
       "\n",
       "    .dataframe thead th {\n",
       "        text-align: right;\n",
       "    }\n",
       "</style>\n",
       "<table border=\"1\" class=\"dataframe\">\n",
       "  <thead>\n",
       "    <tr style=\"text-align: right;\">\n",
       "      <th></th>\n",
       "      <th>movieId</th>\n",
       "      <th>title</th>\n",
       "      <th>genres</th>\n",
       "    </tr>\n",
       "  </thead>\n",
       "  <tbody>\n",
       "    <tr>\n",
       "      <th>0</th>\n",
       "      <td>1</td>\n",
       "      <td>Toy Story (1995)</td>\n",
       "      <td>Adventure|Animation|Children|Comedy|Fantasy</td>\n",
       "    </tr>\n",
       "    <tr>\n",
       "      <th>1</th>\n",
       "      <td>2</td>\n",
       "      <td>Jumanji (1995)</td>\n",
       "      <td>Adventure|Children|Fantasy</td>\n",
       "    </tr>\n",
       "    <tr>\n",
       "      <th>2</th>\n",
       "      <td>5</td>\n",
       "      <td>Father of the Bride Part II (1995)</td>\n",
       "      <td>Comedy</td>\n",
       "    </tr>\n",
       "    <tr>\n",
       "      <th>3</th>\n",
       "      <td>6</td>\n",
       "      <td>Heat (1995)</td>\n",
       "      <td>Action|Crime|Thriller</td>\n",
       "    </tr>\n",
       "    <tr>\n",
       "      <th>4</th>\n",
       "      <td>7</td>\n",
       "      <td>Sabrina (1995)</td>\n",
       "      <td>Comedy|Romance</td>\n",
       "    </tr>\n",
       "    <tr>\n",
       "      <th>...</th>\n",
       "      <td>...</td>\n",
       "      <td>...</td>\n",
       "      <td>...</td>\n",
       "    </tr>\n",
       "    <tr>\n",
       "      <th>3697</th>\n",
       "      <td>195161</td>\n",
       "      <td>Mary Poppins Returns (2018)</td>\n",
       "      <td>Children|Fantasy</td>\n",
       "    </tr>\n",
       "    <tr>\n",
       "      <th>3698</th>\n",
       "      <td>195497</td>\n",
       "      <td>Vice (2018)</td>\n",
       "      <td>Comedy|Drama</td>\n",
       "    </tr>\n",
       "    <tr>\n",
       "      <th>3699</th>\n",
       "      <td>195777</td>\n",
       "      <td>Mortal Engines (2018)</td>\n",
       "      <td>Sci-Fi</td>\n",
       "    </tr>\n",
       "    <tr>\n",
       "      <th>3700</th>\n",
       "      <td>195823</td>\n",
       "      <td>The Christmas Chronicles (2018)</td>\n",
       "      <td>Adventure|Children|Comedy|Fantasy</td>\n",
       "    </tr>\n",
       "    <tr>\n",
       "      <th>3701</th>\n",
       "      <td>196997</td>\n",
       "      <td>Black Mirror: Bandersnatch (2018)</td>\n",
       "      <td>Drama|Mystery|Sci-Fi|Thriller</td>\n",
       "    </tr>\n",
       "  </tbody>\n",
       "</table>\n",
       "<p>3702 rows × 3 columns</p>\n",
       "</div>"
      ],
      "text/plain": [
       "      movieId                               title  \\\n",
       "0           1                    Toy Story (1995)   \n",
       "1           2                      Jumanji (1995)   \n",
       "2           5  Father of the Bride Part II (1995)   \n",
       "3           6                         Heat (1995)   \n",
       "4           7                      Sabrina (1995)   \n",
       "...       ...                                 ...   \n",
       "3697   195161         Mary Poppins Returns (2018)   \n",
       "3698   195497                         Vice (2018)   \n",
       "3699   195777               Mortal Engines (2018)   \n",
       "3700   195823     The Christmas Chronicles (2018)   \n",
       "3701   196997   Black Mirror: Bandersnatch (2018)   \n",
       "\n",
       "                                           genres  \n",
       "0     Adventure|Animation|Children|Comedy|Fantasy  \n",
       "1                      Adventure|Children|Fantasy  \n",
       "2                                          Comedy  \n",
       "3                           Action|Crime|Thriller  \n",
       "4                                  Comedy|Romance  \n",
       "...                                           ...  \n",
       "3697                             Children|Fantasy  \n",
       "3698                                 Comedy|Drama  \n",
       "3699                                       Sci-Fi  \n",
       "3700            Adventure|Children|Comedy|Fantasy  \n",
       "3701                Drama|Mystery|Sci-Fi|Thriller  \n",
       "\n",
       "[3702 rows x 3 columns]"
      ]
     },
     "execution_count": 48,
     "metadata": {},
     "output_type": "execute_result"
    }
   ],
   "source": [
    "df_movies_reduced = df_movies[df_movies['movieId'].apply(lambda x: x in rated_movies)].reset_index(drop=True)\n",
    "df_movies_reduced"
   ]
  },
  {
   "cell_type": "markdown",
   "metadata": {},
   "source": [
    "In RapidMiner, each movie must have at least one attribute ID associated to the movie. Therefore, movies without attributes are removed from the `df_ratings_reduced` DataFrame."
   ]
  },
  {
   "cell_type": "code",
   "execution_count": 49,
   "metadata": {},
   "outputs": [
    {
     "data": {
      "text/html": [
       "<div>\n",
       "<style scoped>\n",
       "    .dataframe tbody tr th:only-of-type {\n",
       "        vertical-align: middle;\n",
       "    }\n",
       "\n",
       "    .dataframe tbody tr th {\n",
       "        vertical-align: top;\n",
       "    }\n",
       "\n",
       "    .dataframe thead th {\n",
       "        text-align: right;\n",
       "    }\n",
       "</style>\n",
       "<table border=\"1\" class=\"dataframe\">\n",
       "  <thead>\n",
       "    <tr style=\"text-align: right;\">\n",
       "      <th></th>\n",
       "      <th>user_id</th>\n",
       "      <th>movie_id</th>\n",
       "      <th>rating</th>\n",
       "      <th>timestamp</th>\n",
       "      <th>rating_year</th>\n",
       "    </tr>\n",
       "  </thead>\n",
       "  <tbody>\n",
       "    <tr>\n",
       "      <th>0</th>\n",
       "      <td>8e7cebf9a234c064b75016249f2ac65e</td>\n",
       "      <td>18</td>\n",
       "      <td>2.5000</td>\n",
       "      <td>2017-05-22 17:37:52</td>\n",
       "      <td>2017</td>\n",
       "    </tr>\n",
       "    <tr>\n",
       "      <th>1</th>\n",
       "      <td>8e7cebf9a234c064b75016249f2ac65e</td>\n",
       "      <td>1088</td>\n",
       "      <td>3.5000</td>\n",
       "      <td>2017-06-23 21:02:15</td>\n",
       "      <td>2017</td>\n",
       "    </tr>\n",
       "    <tr>\n",
       "      <th>2</th>\n",
       "      <td>8e7cebf9a234c064b75016249f2ac65e</td>\n",
       "      <td>1665</td>\n",
       "      <td>2.5000</td>\n",
       "      <td>2017-09-18 21:51:20</td>\n",
       "      <td>2017</td>\n",
       "    </tr>\n",
       "    <tr>\n",
       "      <th>3</th>\n",
       "      <td>8e7cebf9a234c064b75016249f2ac65e</td>\n",
       "      <td>2642</td>\n",
       "      <td>1.0000</td>\n",
       "      <td>2017-01-05 17:33:43</td>\n",
       "      <td>2017</td>\n",
       "    </tr>\n",
       "    <tr>\n",
       "      <th>4</th>\n",
       "      <td>8e7cebf9a234c064b75016249f2ac65e</td>\n",
       "      <td>2643</td>\n",
       "      <td>2.5000</td>\n",
       "      <td>2018-11-03 15:39:11</td>\n",
       "      <td>2018</td>\n",
       "    </tr>\n",
       "  </tbody>\n",
       "</table>\n",
       "</div>"
      ],
      "text/plain": [
       "                            user_id  movie_id  rating             timestamp  \\\n",
       "0  8e7cebf9a234c064b75016249f2ac65e        18  2.5000  2017-05-22 17:37:52    \n",
       "1  8e7cebf9a234c064b75016249f2ac65e      1088  3.5000  2017-06-23 21:02:15    \n",
       "2  8e7cebf9a234c064b75016249f2ac65e      1665  2.5000  2017-09-18 21:51:20    \n",
       "3  8e7cebf9a234c064b75016249f2ac65e      2642  1.0000  2017-01-05 17:33:43    \n",
       "4  8e7cebf9a234c064b75016249f2ac65e      2643  2.5000  2018-11-03 15:39:11    \n",
       "\n",
       "  rating_year  \n",
       "0        2017  \n",
       "1        2017  \n",
       "2        2017  \n",
       "3        2017  \n",
       "4        2018  "
      ]
     },
     "execution_count": 49,
     "metadata": {},
     "output_type": "execute_result"
    }
   ],
   "source": [
    "df_ratings_reduced.head()"
   ]
  },
  {
   "cell_type": "code",
   "execution_count": 50,
   "metadata": {},
   "outputs": [
    {
     "data": {
      "text/plain": [
       "3702"
      ]
     },
     "execution_count": 50,
     "metadata": {},
     "output_type": "execute_result"
    }
   ],
   "source": [
    "movie_with_genres = list(df_movies_reduced['movieId'].value_counts().index)\n",
    "len(movie_with_genres)"
   ]
  },
  {
   "cell_type": "code",
   "execution_count": 51,
   "metadata": {},
   "outputs": [
    {
     "data": {
      "text/html": [
       "<div>\n",
       "<style scoped>\n",
       "    .dataframe tbody tr th:only-of-type {\n",
       "        vertical-align: middle;\n",
       "    }\n",
       "\n",
       "    .dataframe tbody tr th {\n",
       "        vertical-align: top;\n",
       "    }\n",
       "\n",
       "    .dataframe thead th {\n",
       "        text-align: right;\n",
       "    }\n",
       "</style>\n",
       "<table border=\"1\" class=\"dataframe\">\n",
       "  <thead>\n",
       "    <tr style=\"text-align: right;\">\n",
       "      <th></th>\n",
       "      <th>user_id</th>\n",
       "      <th>movie_id</th>\n",
       "      <th>rating</th>\n",
       "      <th>timestamp</th>\n",
       "      <th>rating_year</th>\n",
       "    </tr>\n",
       "  </thead>\n",
       "  <tbody>\n",
       "    <tr>\n",
       "      <th>0</th>\n",
       "      <td>8e7cebf9a234c064b75016249f2ac65e</td>\n",
       "      <td>18</td>\n",
       "      <td>2.5000</td>\n",
       "      <td>2017-05-22 17:37:52</td>\n",
       "      <td>2017</td>\n",
       "    </tr>\n",
       "    <tr>\n",
       "      <th>1</th>\n",
       "      <td>8e7cebf9a234c064b75016249f2ac65e</td>\n",
       "      <td>1088</td>\n",
       "      <td>3.5000</td>\n",
       "      <td>2017-06-23 21:02:15</td>\n",
       "      <td>2017</td>\n",
       "    </tr>\n",
       "    <tr>\n",
       "      <th>2</th>\n",
       "      <td>8e7cebf9a234c064b75016249f2ac65e</td>\n",
       "      <td>1665</td>\n",
       "      <td>2.5000</td>\n",
       "      <td>2017-09-18 21:51:20</td>\n",
       "      <td>2017</td>\n",
       "    </tr>\n",
       "    <tr>\n",
       "      <th>3</th>\n",
       "      <td>8e7cebf9a234c064b75016249f2ac65e</td>\n",
       "      <td>2642</td>\n",
       "      <td>1.0000</td>\n",
       "      <td>2017-01-05 17:33:43</td>\n",
       "      <td>2017</td>\n",
       "    </tr>\n",
       "    <tr>\n",
       "      <th>4</th>\n",
       "      <td>8e7cebf9a234c064b75016249f2ac65e</td>\n",
       "      <td>2643</td>\n",
       "      <td>2.5000</td>\n",
       "      <td>2018-11-03 15:39:11</td>\n",
       "      <td>2018</td>\n",
       "    </tr>\n",
       "    <tr>\n",
       "      <th>...</th>\n",
       "      <td>...</td>\n",
       "      <td>...</td>\n",
       "      <td>...</td>\n",
       "      <td>...</td>\n",
       "      <td>...</td>\n",
       "    </tr>\n",
       "    <tr>\n",
       "      <th>120596</th>\n",
       "      <td>bad56d9506832cd79d874a6b66b3d813</td>\n",
       "      <td>187595</td>\n",
       "      <td>4.0000</td>\n",
       "      <td>2018-06-01 17:12:03</td>\n",
       "      <td>2018</td>\n",
       "    </tr>\n",
       "    <tr>\n",
       "      <th>120597</th>\n",
       "      <td>bad56d9506832cd79d874a6b66b3d813</td>\n",
       "      <td>188797</td>\n",
       "      <td>3.0000</td>\n",
       "      <td>2018-11-18 16:47:15</td>\n",
       "      <td>2018</td>\n",
       "    </tr>\n",
       "    <tr>\n",
       "      <th>120598</th>\n",
       "      <td>bad56d9506832cd79d874a6b66b3d813</td>\n",
       "      <td>189203</td>\n",
       "      <td>3.5000</td>\n",
       "      <td>2018-06-07 19:20:30</td>\n",
       "      <td>2018</td>\n",
       "    </tr>\n",
       "    <tr>\n",
       "      <th>120599</th>\n",
       "      <td>bad56d9506832cd79d874a6b66b3d813</td>\n",
       "      <td>190939</td>\n",
       "      <td>3.0000</td>\n",
       "      <td>2018-10-13 15:39:03</td>\n",
       "      <td>2018</td>\n",
       "    </tr>\n",
       "    <tr>\n",
       "      <th>120600</th>\n",
       "      <td>bad56d9506832cd79d874a6b66b3d813</td>\n",
       "      <td>192307</td>\n",
       "      <td>3.5000</td>\n",
       "      <td>2018-11-18 16:45:11</td>\n",
       "      <td>2018</td>\n",
       "    </tr>\n",
       "  </tbody>\n",
       "</table>\n",
       "<p>120601 rows × 5 columns</p>\n",
       "</div>"
      ],
      "text/plain": [
       "                                 user_id  movie_id  rating  \\\n",
       "0       8e7cebf9a234c064b75016249f2ac65e        18  2.5000   \n",
       "1       8e7cebf9a234c064b75016249f2ac65e      1088  3.5000   \n",
       "2       8e7cebf9a234c064b75016249f2ac65e      1665  2.5000   \n",
       "3       8e7cebf9a234c064b75016249f2ac65e      2642  1.0000   \n",
       "4       8e7cebf9a234c064b75016249f2ac65e      2643  2.5000   \n",
       "...                                  ...       ...     ...   \n",
       "120596  bad56d9506832cd79d874a6b66b3d813    187595  4.0000   \n",
       "120597  bad56d9506832cd79d874a6b66b3d813    188797  3.0000   \n",
       "120598  bad56d9506832cd79d874a6b66b3d813    189203  3.5000   \n",
       "120599  bad56d9506832cd79d874a6b66b3d813    190939  3.0000   \n",
       "120600  bad56d9506832cd79d874a6b66b3d813    192307  3.5000   \n",
       "\n",
       "                   timestamp rating_year  \n",
       "0       2017-05-22 17:37:52         2017  \n",
       "1       2017-06-23 21:02:15         2017  \n",
       "2       2017-09-18 21:51:20         2017  \n",
       "3       2017-01-05 17:33:43         2017  \n",
       "4       2018-11-03 15:39:11         2018  \n",
       "...                      ...         ...  \n",
       "120596  2018-06-01 17:12:03         2018  \n",
       "120597  2018-11-18 16:47:15         2018  \n",
       "120598  2018-06-07 19:20:30         2018  \n",
       "120599  2018-10-13 15:39:03         2018  \n",
       "120600  2018-11-18 16:45:11         2018  \n",
       "\n",
       "[120601 rows x 5 columns]"
      ]
     },
     "execution_count": 51,
     "metadata": {},
     "output_type": "execute_result"
    }
   ],
   "source": [
    "df_ratings_reduced = (df_ratings_reduced[df_ratings_reduced['movie_id']\n",
    "                                         .apply(lambda x: x in movie_with_genres)]\n",
    "                      .reset_index(drop=True))\n",
    "\n",
    "df_ratings_reduced"
   ]
  },
  {
   "cell_type": "markdown",
   "metadata": {},
   "source": [
    "**Note:** We have further reduced the number of ratings **from 122,533 to 120,601**."
   ]
  },
  {
   "cell_type": "markdown",
   "metadata": {},
   "source": [
    "Save `df_ratings_reduced` into a local repository."
   ]
  },
  {
   "cell_type": "code",
   "execution_count": 52,
   "metadata": {},
   "outputs": [],
   "source": [
    "df_ratings_reduced.to_csv('output/ratings_reduced.csv', index=False)"
   ]
  },
  {
   "cell_type": "markdown",
   "metadata": {},
   "source": [
    "### 4.2.4. Train-test split <a name=\"preprocess-split\"></a>"
   ]
  },
  {
   "cell_type": "code",
   "execution_count": 74,
   "metadata": {},
   "outputs": [
    {
     "name": "stdout",
     "output_type": "stream",
     "text": [
      "# interactions on the Train set: 98026\n",
      "# interactions on the Test set: 24507\n"
     ]
    }
   ],
   "source": [
    "df_ratings_train, df_ratings_test = train_test_split(\n",
    "    df_ratings_reduced, stratify=df_ratings_reduced['user_id'], test_size=0.20, random_state=42)\n",
    "\n",
    "print(f\"# interactions on the Train set: {len(df_ratings_train)}\")\n",
    "print(f\"# interactions on the Test set: {len(df_ratings_test)}\")"
   ]
  },
  {
   "cell_type": "code",
   "execution_count": 75,
   "metadata": {},
   "outputs": [
    {
     "data": {
      "text/html": [
       "<div>\n",
       "<style scoped>\n",
       "    .dataframe tbody tr th:only-of-type {\n",
       "        vertical-align: middle;\n",
       "    }\n",
       "\n",
       "    .dataframe tbody tr th {\n",
       "        vertical-align: top;\n",
       "    }\n",
       "\n",
       "    .dataframe thead th {\n",
       "        text-align: right;\n",
       "    }\n",
       "</style>\n",
       "<table border=\"1\" class=\"dataframe\">\n",
       "  <thead>\n",
       "    <tr style=\"text-align: right;\">\n",
       "      <th></th>\n",
       "      <th>user_id</th>\n",
       "      <th>movie_id</th>\n",
       "      <th>rating</th>\n",
       "      <th>timestamp</th>\n",
       "      <th>rating_year</th>\n",
       "    </tr>\n",
       "  </thead>\n",
       "  <tbody>\n",
       "    <tr>\n",
       "      <th>61384</th>\n",
       "      <td>8166a7a2d97e96ff235e46d3d30cd86d</td>\n",
       "      <td>1035</td>\n",
       "      <td>4.5000</td>\n",
       "      <td>2016-03-10 02:49:04</td>\n",
       "      <td>2016</td>\n",
       "    </tr>\n",
       "    <tr>\n",
       "      <th>26754</th>\n",
       "      <td>37e21126a2f31396aee6e8fe70c01d03</td>\n",
       "      <td>170629</td>\n",
       "      <td>3.0000</td>\n",
       "      <td>2017-05-21 00:49:22</td>\n",
       "      <td>2017</td>\n",
       "    </tr>\n",
       "    <tr>\n",
       "      <th>101849</th>\n",
       "      <td>d12803fe252733fa368b04a5ba1da3cc</td>\n",
       "      <td>5669</td>\n",
       "      <td>4.0000</td>\n",
       "      <td>2017-01-01 13:24:52</td>\n",
       "      <td>2017</td>\n",
       "    </tr>\n",
       "    <tr>\n",
       "      <th>23064</th>\n",
       "      <td>2fe22a501721ce8ce087120727b12a63</td>\n",
       "      <td>111384</td>\n",
       "      <td>4.0000</td>\n",
       "      <td>2016-07-27 17:26:33</td>\n",
       "      <td>2016</td>\n",
       "    </tr>\n",
       "    <tr>\n",
       "      <th>45220</th>\n",
       "      <td>64d1e60cade97f3f701aa5348c320a74</td>\n",
       "      <td>79091</td>\n",
       "      <td>0.5000</td>\n",
       "      <td>2016-01-03 17:39:32</td>\n",
       "      <td>2016</td>\n",
       "    </tr>\n",
       "    <tr>\n",
       "      <th>...</th>\n",
       "      <td>...</td>\n",
       "      <td>...</td>\n",
       "      <td>...</td>\n",
       "      <td>...</td>\n",
       "      <td>...</td>\n",
       "    </tr>\n",
       "    <tr>\n",
       "      <th>106920</th>\n",
       "      <td>da20cbe56b055831cb85b3266359f119</td>\n",
       "      <td>5902</td>\n",
       "      <td>4.0000</td>\n",
       "      <td>2017-03-23 15:17:51</td>\n",
       "      <td>2017</td>\n",
       "    </tr>\n",
       "    <tr>\n",
       "      <th>86494</th>\n",
       "      <td>b3e3e17c4942a528fa74bf0ef4928eb8</td>\n",
       "      <td>1320</td>\n",
       "      <td>3.0000</td>\n",
       "      <td>2016-01-10 13:49:19</td>\n",
       "      <td>2016</td>\n",
       "    </tr>\n",
       "    <tr>\n",
       "      <th>41286</th>\n",
       "      <td>5af58060b20eaf97e38ef38de5d023a2</td>\n",
       "      <td>7454</td>\n",
       "      <td>4.0000</td>\n",
       "      <td>2016-02-29 16:47:00</td>\n",
       "      <td>2016</td>\n",
       "    </tr>\n",
       "    <tr>\n",
       "      <th>92719</th>\n",
       "      <td>bba645691bc7e0fd7367213da7bca95f</td>\n",
       "      <td>3418</td>\n",
       "      <td>5.0000</td>\n",
       "      <td>2017-01-14 13:04:22</td>\n",
       "      <td>2017</td>\n",
       "    </tr>\n",
       "    <tr>\n",
       "      <th>101646</th>\n",
       "      <td>cfdf6bca597d8e26773cbafce04368b0</td>\n",
       "      <td>3257</td>\n",
       "      <td>2.5000</td>\n",
       "      <td>2016-10-18 19:11:33</td>\n",
       "      <td>2016</td>\n",
       "    </tr>\n",
       "  </tbody>\n",
       "</table>\n",
       "<p>24507 rows × 5 columns</p>\n",
       "</div>"
      ],
      "text/plain": [
       "                                 user_id  movie_id  rating  \\\n",
       "61384   8166a7a2d97e96ff235e46d3d30cd86d      1035  4.5000   \n",
       "26754   37e21126a2f31396aee6e8fe70c01d03    170629  3.0000   \n",
       "101849  d12803fe252733fa368b04a5ba1da3cc      5669  4.0000   \n",
       "23064   2fe22a501721ce8ce087120727b12a63    111384  4.0000   \n",
       "45220   64d1e60cade97f3f701aa5348c320a74     79091  0.5000   \n",
       "...                                  ...       ...     ...   \n",
       "106920  da20cbe56b055831cb85b3266359f119      5902  4.0000   \n",
       "86494   b3e3e17c4942a528fa74bf0ef4928eb8      1320  3.0000   \n",
       "41286   5af58060b20eaf97e38ef38de5d023a2      7454  4.0000   \n",
       "92719   bba645691bc7e0fd7367213da7bca95f      3418  5.0000   \n",
       "101646  cfdf6bca597d8e26773cbafce04368b0      3257  2.5000   \n",
       "\n",
       "                   timestamp rating_year  \n",
       "61384   2016-03-10 02:49:04         2016  \n",
       "26754   2017-05-21 00:49:22         2017  \n",
       "101849  2017-01-01 13:24:52         2017  \n",
       "23064   2016-07-27 17:26:33         2016  \n",
       "45220   2016-01-03 17:39:32         2016  \n",
       "...                      ...         ...  \n",
       "106920  2017-03-23 15:17:51         2017  \n",
       "86494   2016-01-10 13:49:19         2016  \n",
       "41286   2016-02-29 16:47:00         2016  \n",
       "92719   2017-01-14 13:04:22         2017  \n",
       "101646  2016-10-18 19:11:33         2016  \n",
       "\n",
       "[24507 rows x 5 columns]"
      ]
     },
     "execution_count": 75,
     "metadata": {},
     "output_type": "execute_result"
    }
   ],
   "source": [
    "df_ratings_test"
   ]
  },
  {
   "cell_type": "markdown",
   "metadata": {},
   "source": [
    "Check if the list of users in both training and test sets are identical."
   ]
  },
  {
   "cell_type": "code",
   "execution_count": 76,
   "metadata": {},
   "outputs": [
    {
     "data": {
      "text/plain": [
       "True"
      ]
     },
     "execution_count": 76,
     "metadata": {},
     "output_type": "execute_result"
    }
   ],
   "source": [
    "user_train = df_ratings_train['user_id'].unique()\n",
    "user_test = df_ratings_test['user_id'].unique()\n",
    "\n",
    "set(user_train) == set(user_test)"
   ]
  },
  {
   "cell_type": "markdown",
   "metadata": {},
   "source": [
    "Sort training and test sets by `user_id` values, this is to enable more convenient analysis after generating result in RapidMiner. \n",
    "\n",
    "**Note:** The `user_id` column will be set to \"user identification\" role in RapidMiner's Set Role operator (required for Recommender Extension). The unique IDs are assigned to the specific ID number based on the order of occurrence from the given training and test data."
   ]
  },
  {
   "cell_type": "code",
   "execution_count": 77,
   "metadata": {},
   "outputs": [
    {
     "name": "stdout",
     "output_type": "stream",
     "text": [
      "# unique users (training set): 925\n"
     ]
    },
    {
     "data": {
      "text/html": [
       "<div>\n",
       "<style scoped>\n",
       "    .dataframe tbody tr th:only-of-type {\n",
       "        vertical-align: middle;\n",
       "    }\n",
       "\n",
       "    .dataframe tbody tr th {\n",
       "        vertical-align: top;\n",
       "    }\n",
       "\n",
       "    .dataframe thead th {\n",
       "        text-align: right;\n",
       "    }\n",
       "</style>\n",
       "<table border=\"1\" class=\"dataframe\">\n",
       "  <thead>\n",
       "    <tr style=\"text-align: right;\">\n",
       "      <th></th>\n",
       "      <th>user_id</th>\n",
       "      <th>movie_id</th>\n",
       "      <th>rating</th>\n",
       "      <th>timestamp</th>\n",
       "      <th>rating_year</th>\n",
       "    </tr>\n",
       "  </thead>\n",
       "  <tbody>\n",
       "    <tr>\n",
       "      <th>0</th>\n",
       "      <td>00fa91e202f5e48aa34c05d97867fa74</td>\n",
       "      <td>1028</td>\n",
       "      <td>4.5000</td>\n",
       "      <td>2017-12-09 14:20:41</td>\n",
       "      <td>2017</td>\n",
       "    </tr>\n",
       "    <tr>\n",
       "      <th>1</th>\n",
       "      <td>00fa91e202f5e48aa34c05d97867fa74</td>\n",
       "      <td>55363</td>\n",
       "      <td>2.5000</td>\n",
       "      <td>2017-07-15 18:06:10</td>\n",
       "      <td>2017</td>\n",
       "    </tr>\n",
       "    <tr>\n",
       "      <th>2</th>\n",
       "      <td>00fa91e202f5e48aa34c05d97867fa74</td>\n",
       "      <td>5632</td>\n",
       "      <td>4.0000</td>\n",
       "      <td>2017-03-31 14:18:51</td>\n",
       "      <td>2017</td>\n",
       "    </tr>\n",
       "    <tr>\n",
       "      <th>3</th>\n",
       "      <td>00fa91e202f5e48aa34c05d97867fa74</td>\n",
       "      <td>73015</td>\n",
       "      <td>2.5000</td>\n",
       "      <td>2017-02-26 01:46:32</td>\n",
       "      <td>2017</td>\n",
       "    </tr>\n",
       "    <tr>\n",
       "      <th>4</th>\n",
       "      <td>00fa91e202f5e48aa34c05d97867fa74</td>\n",
       "      <td>122916</td>\n",
       "      <td>4.0000</td>\n",
       "      <td>2018-06-09 23:28:14</td>\n",
       "      <td>2018</td>\n",
       "    </tr>\n",
       "    <tr>\n",
       "      <th>...</th>\n",
       "      <td>...</td>\n",
       "      <td>...</td>\n",
       "      <td>...</td>\n",
       "      <td>...</td>\n",
       "      <td>...</td>\n",
       "    </tr>\n",
       "    <tr>\n",
       "      <th>98021</th>\n",
       "      <td>ffff31b8d1dd1486a7fe6914761aa655</td>\n",
       "      <td>142488</td>\n",
       "      <td>5.0000</td>\n",
       "      <td>2016-07-10 13:58:18</td>\n",
       "      <td>2016</td>\n",
       "    </tr>\n",
       "    <tr>\n",
       "      <th>98022</th>\n",
       "      <td>ffff31b8d1dd1486a7fe6914761aa655</td>\n",
       "      <td>135133</td>\n",
       "      <td>3.0000</td>\n",
       "      <td>2016-07-10 14:00:55</td>\n",
       "      <td>2016</td>\n",
       "    </tr>\n",
       "    <tr>\n",
       "      <th>98023</th>\n",
       "      <td>ffff31b8d1dd1486a7fe6914761aa655</td>\n",
       "      <td>158966</td>\n",
       "      <td>5.0000</td>\n",
       "      <td>2017-01-10 17:54:42</td>\n",
       "      <td>2017</td>\n",
       "    </tr>\n",
       "    <tr>\n",
       "      <th>98024</th>\n",
       "      <td>ffff31b8d1dd1486a7fe6914761aa655</td>\n",
       "      <td>109848</td>\n",
       "      <td>2.5000</td>\n",
       "      <td>2017-06-04 15:52:35</td>\n",
       "      <td>2017</td>\n",
       "    </tr>\n",
       "    <tr>\n",
       "      <th>98025</th>\n",
       "      <td>ffff31b8d1dd1486a7fe6914761aa655</td>\n",
       "      <td>168366</td>\n",
       "      <td>3.5000</td>\n",
       "      <td>2017-04-09 20:52:24</td>\n",
       "      <td>2017</td>\n",
       "    </tr>\n",
       "  </tbody>\n",
       "</table>\n",
       "<p>98026 rows × 5 columns</p>\n",
       "</div>"
      ],
      "text/plain": [
       "                                user_id  movie_id  rating  \\\n",
       "0      00fa91e202f5e48aa34c05d97867fa74      1028  4.5000   \n",
       "1      00fa91e202f5e48aa34c05d97867fa74     55363  2.5000   \n",
       "2      00fa91e202f5e48aa34c05d97867fa74      5632  4.0000   \n",
       "3      00fa91e202f5e48aa34c05d97867fa74     73015  2.5000   \n",
       "4      00fa91e202f5e48aa34c05d97867fa74    122916  4.0000   \n",
       "...                                 ...       ...     ...   \n",
       "98021  ffff31b8d1dd1486a7fe6914761aa655    142488  5.0000   \n",
       "98022  ffff31b8d1dd1486a7fe6914761aa655    135133  3.0000   \n",
       "98023  ffff31b8d1dd1486a7fe6914761aa655    158966  5.0000   \n",
       "98024  ffff31b8d1dd1486a7fe6914761aa655    109848  2.5000   \n",
       "98025  ffff31b8d1dd1486a7fe6914761aa655    168366  3.5000   \n",
       "\n",
       "                  timestamp rating_year  \n",
       "0      2017-12-09 14:20:41         2017  \n",
       "1      2017-07-15 18:06:10         2017  \n",
       "2      2017-03-31 14:18:51         2017  \n",
       "3      2017-02-26 01:46:32         2017  \n",
       "4      2018-06-09 23:28:14         2018  \n",
       "...                     ...         ...  \n",
       "98021  2016-07-10 13:58:18         2016  \n",
       "98022  2016-07-10 14:00:55         2016  \n",
       "98023  2017-01-10 17:54:42         2017  \n",
       "98024  2017-06-04 15:52:35         2017  \n",
       "98025  2017-04-09 20:52:24         2017  \n",
       "\n",
       "[98026 rows x 5 columns]"
      ]
     },
     "metadata": {},
     "output_type": "display_data"
    }
   ],
   "source": [
    "df_ratings_train = df_ratings_train.sort_values(by='user_id', ignore_index=True)\n",
    "\n",
    "print(f\"# unique users (training set): {len(df_ratings_train['user_id'].unique())}\")\n",
    "display(df_ratings_train)"
   ]
  },
  {
   "cell_type": "code",
   "execution_count": 78,
   "metadata": {},
   "outputs": [
    {
     "name": "stdout",
     "output_type": "stream",
     "text": [
      "# unique users (test set): 925\n"
     ]
    },
    {
     "data": {
      "text/html": [
       "<div>\n",
       "<style scoped>\n",
       "    .dataframe tbody tr th:only-of-type {\n",
       "        vertical-align: middle;\n",
       "    }\n",
       "\n",
       "    .dataframe tbody tr th {\n",
       "        vertical-align: top;\n",
       "    }\n",
       "\n",
       "    .dataframe thead th {\n",
       "        text-align: right;\n",
       "    }\n",
       "</style>\n",
       "<table border=\"1\" class=\"dataframe\">\n",
       "  <thead>\n",
       "    <tr style=\"text-align: right;\">\n",
       "      <th></th>\n",
       "      <th>user_id</th>\n",
       "      <th>movie_id</th>\n",
       "      <th>rating</th>\n",
       "      <th>timestamp</th>\n",
       "      <th>rating_year</th>\n",
       "    </tr>\n",
       "  </thead>\n",
       "  <tbody>\n",
       "    <tr>\n",
       "      <th>0</th>\n",
       "      <td>00fa91e202f5e48aa34c05d97867fa74</td>\n",
       "      <td>122902</td>\n",
       "      <td>2.5000</td>\n",
       "      <td>2016-05-16 10:33:38</td>\n",
       "      <td>2016</td>\n",
       "    </tr>\n",
       "    <tr>\n",
       "      <th>1</th>\n",
       "      <td>00fa91e202f5e48aa34c05d97867fa74</td>\n",
       "      <td>1210</td>\n",
       "      <td>4.5000</td>\n",
       "      <td>2017-08-15 15:33:45</td>\n",
       "      <td>2017</td>\n",
       "    </tr>\n",
       "    <tr>\n",
       "      <th>2</th>\n",
       "      <td>00fa91e202f5e48aa34c05d97867fa74</td>\n",
       "      <td>62155</td>\n",
       "      <td>4.0000</td>\n",
       "      <td>2017-07-15 18:08:35</td>\n",
       "      <td>2017</td>\n",
       "    </tr>\n",
       "    <tr>\n",
       "      <th>3</th>\n",
       "      <td>00fa91e202f5e48aa34c05d97867fa74</td>\n",
       "      <td>177689</td>\n",
       "      <td>4.0000</td>\n",
       "      <td>2018-04-28 21:57:36</td>\n",
       "      <td>2018</td>\n",
       "    </tr>\n",
       "    <tr>\n",
       "      <th>4</th>\n",
       "      <td>00fa91e202f5e48aa34c05d97867fa74</td>\n",
       "      <td>165549</td>\n",
       "      <td>4.0000</td>\n",
       "      <td>2016-12-29 02:17:41</td>\n",
       "      <td>2016</td>\n",
       "    </tr>\n",
       "    <tr>\n",
       "      <th>...</th>\n",
       "      <td>...</td>\n",
       "      <td>...</td>\n",
       "      <td>...</td>\n",
       "      <td>...</td>\n",
       "      <td>...</td>\n",
       "    </tr>\n",
       "    <tr>\n",
       "      <th>24502</th>\n",
       "      <td>ffff31b8d1dd1486a7fe6914761aa655</td>\n",
       "      <td>168252</td>\n",
       "      <td>4.0000</td>\n",
       "      <td>2017-07-15 14:59:04</td>\n",
       "      <td>2017</td>\n",
       "    </tr>\n",
       "    <tr>\n",
       "      <th>24503</th>\n",
       "      <td>ffff31b8d1dd1486a7fe6914761aa655</td>\n",
       "      <td>167064</td>\n",
       "      <td>4.5000</td>\n",
       "      <td>2018-09-24 16:55:03</td>\n",
       "      <td>2018</td>\n",
       "    </tr>\n",
       "    <tr>\n",
       "      <th>24504</th>\n",
       "      <td>ffff31b8d1dd1486a7fe6914761aa655</td>\n",
       "      <td>182715</td>\n",
       "      <td>3.0000</td>\n",
       "      <td>2018-04-23 18:07:54</td>\n",
       "      <td>2018</td>\n",
       "    </tr>\n",
       "    <tr>\n",
       "      <th>24505</th>\n",
       "      <td>ffff31b8d1dd1486a7fe6914761aa655</td>\n",
       "      <td>184399</td>\n",
       "      <td>4.5000</td>\n",
       "      <td>2018-12-30 16:45:38</td>\n",
       "      <td>2018</td>\n",
       "    </tr>\n",
       "    <tr>\n",
       "      <th>24506</th>\n",
       "      <td>ffff31b8d1dd1486a7fe6914761aa655</td>\n",
       "      <td>178667</td>\n",
       "      <td>3.0000</td>\n",
       "      <td>2017-10-08 08:47:07</td>\n",
       "      <td>2017</td>\n",
       "    </tr>\n",
       "  </tbody>\n",
       "</table>\n",
       "<p>24507 rows × 5 columns</p>\n",
       "</div>"
      ],
      "text/plain": [
       "                                user_id  movie_id  rating  \\\n",
       "0      00fa91e202f5e48aa34c05d97867fa74    122902  2.5000   \n",
       "1      00fa91e202f5e48aa34c05d97867fa74      1210  4.5000   \n",
       "2      00fa91e202f5e48aa34c05d97867fa74     62155  4.0000   \n",
       "3      00fa91e202f5e48aa34c05d97867fa74    177689  4.0000   \n",
       "4      00fa91e202f5e48aa34c05d97867fa74    165549  4.0000   \n",
       "...                                 ...       ...     ...   \n",
       "24502  ffff31b8d1dd1486a7fe6914761aa655    168252  4.0000   \n",
       "24503  ffff31b8d1dd1486a7fe6914761aa655    167064  4.5000   \n",
       "24504  ffff31b8d1dd1486a7fe6914761aa655    182715  3.0000   \n",
       "24505  ffff31b8d1dd1486a7fe6914761aa655    184399  4.5000   \n",
       "24506  ffff31b8d1dd1486a7fe6914761aa655    178667  3.0000   \n",
       "\n",
       "                  timestamp rating_year  \n",
       "0      2016-05-16 10:33:38         2016  \n",
       "1      2017-08-15 15:33:45         2017  \n",
       "2      2017-07-15 18:08:35         2017  \n",
       "3      2018-04-28 21:57:36         2018  \n",
       "4      2016-12-29 02:17:41         2016  \n",
       "...                     ...         ...  \n",
       "24502  2017-07-15 14:59:04         2017  \n",
       "24503  2018-09-24 16:55:03         2018  \n",
       "24504  2018-04-23 18:07:54         2018  \n",
       "24505  2018-12-30 16:45:38         2018  \n",
       "24506  2017-10-08 08:47:07         2017  \n",
       "\n",
       "[24507 rows x 5 columns]"
      ]
     },
     "metadata": {},
     "output_type": "display_data"
    }
   ],
   "source": [
    "df_ratings_test = df_ratings_test.sort_values(by='user_id', ignore_index=True)\n",
    "\n",
    "print(f\"# unique users (test set): {len(df_ratings_test['user_id'].unique())}\")\n",
    "display(df_ratings_test)"
   ]
  },
  {
   "cell_type": "markdown",
   "metadata": {},
   "source": [
    "Save training and test data to be used for RapidMiner processing."
   ]
  },
  {
   "cell_type": "code",
   "execution_count": 79,
   "metadata": {},
   "outputs": [],
   "source": [
    "df_ratings_train.to_csv('output/ratings_train.csv', index=False)\n",
    "df_ratings_test.to_csv('output/ratings_test.csv', index=False)"
   ]
  },
  {
   "cell_type": "markdown",
   "metadata": {},
   "source": [
    "## 4.3. Generate Attributes for Movies <a name=\"preprocess-movie-attr\"></a>"
   ]
  },
  {
   "cell_type": "markdown",
   "metadata": {},
   "source": [
    "Now, create a new column: `genre_list` in `df_movies` DataFrame to store the `genres` into a list of strings."
   ]
  },
  {
   "cell_type": "code",
   "execution_count": 56,
   "metadata": {},
   "outputs": [
    {
     "data": {
      "text/html": [
       "<div>\n",
       "<style scoped>\n",
       "    .dataframe tbody tr th:only-of-type {\n",
       "        vertical-align: middle;\n",
       "    }\n",
       "\n",
       "    .dataframe tbody tr th {\n",
       "        vertical-align: top;\n",
       "    }\n",
       "\n",
       "    .dataframe thead th {\n",
       "        text-align: right;\n",
       "    }\n",
       "</style>\n",
       "<table border=\"1\" class=\"dataframe\">\n",
       "  <thead>\n",
       "    <tr style=\"text-align: right;\">\n",
       "      <th></th>\n",
       "      <th>movieId</th>\n",
       "      <th>title</th>\n",
       "      <th>genres</th>\n",
       "      <th>genre_list</th>\n",
       "    </tr>\n",
       "  </thead>\n",
       "  <tbody>\n",
       "    <tr>\n",
       "      <th>0</th>\n",
       "      <td>1</td>\n",
       "      <td>Toy Story (1995)</td>\n",
       "      <td>Adventure|Animation|Children|Comedy|Fantasy</td>\n",
       "      <td>[Adventure, Animation, Children, Comedy, Fantasy]</td>\n",
       "    </tr>\n",
       "    <tr>\n",
       "      <th>1</th>\n",
       "      <td>2</td>\n",
       "      <td>Jumanji (1995)</td>\n",
       "      <td>Adventure|Children|Fantasy</td>\n",
       "      <td>[Adventure, Children, Fantasy]</td>\n",
       "    </tr>\n",
       "    <tr>\n",
       "      <th>2</th>\n",
       "      <td>5</td>\n",
       "      <td>Father of the Bride Part II (1995)</td>\n",
       "      <td>Comedy</td>\n",
       "      <td>[Comedy]</td>\n",
       "    </tr>\n",
       "    <tr>\n",
       "      <th>3</th>\n",
       "      <td>6</td>\n",
       "      <td>Heat (1995)</td>\n",
       "      <td>Action|Crime|Thriller</td>\n",
       "      <td>[Action, Crime, Thriller]</td>\n",
       "    </tr>\n",
       "    <tr>\n",
       "      <th>4</th>\n",
       "      <td>7</td>\n",
       "      <td>Sabrina (1995)</td>\n",
       "      <td>Comedy|Romance</td>\n",
       "      <td>[Comedy, Romance]</td>\n",
       "    </tr>\n",
       "    <tr>\n",
       "      <th>...</th>\n",
       "      <td>...</td>\n",
       "      <td>...</td>\n",
       "      <td>...</td>\n",
       "      <td>...</td>\n",
       "    </tr>\n",
       "    <tr>\n",
       "      <th>3697</th>\n",
       "      <td>195161</td>\n",
       "      <td>Mary Poppins Returns (2018)</td>\n",
       "      <td>Children|Fantasy</td>\n",
       "      <td>[Children, Fantasy]</td>\n",
       "    </tr>\n",
       "    <tr>\n",
       "      <th>3698</th>\n",
       "      <td>195497</td>\n",
       "      <td>Vice (2018)</td>\n",
       "      <td>Comedy|Drama</td>\n",
       "      <td>[Comedy, Drama]</td>\n",
       "    </tr>\n",
       "    <tr>\n",
       "      <th>3699</th>\n",
       "      <td>195777</td>\n",
       "      <td>Mortal Engines (2018)</td>\n",
       "      <td>Sci-Fi</td>\n",
       "      <td>[Sci-Fi]</td>\n",
       "    </tr>\n",
       "    <tr>\n",
       "      <th>3700</th>\n",
       "      <td>195823</td>\n",
       "      <td>The Christmas Chronicles (2018)</td>\n",
       "      <td>Adventure|Children|Comedy|Fantasy</td>\n",
       "      <td>[Adventure, Children, Comedy, Fantasy]</td>\n",
       "    </tr>\n",
       "    <tr>\n",
       "      <th>3701</th>\n",
       "      <td>196997</td>\n",
       "      <td>Black Mirror: Bandersnatch (2018)</td>\n",
       "      <td>Drama|Mystery|Sci-Fi|Thriller</td>\n",
       "      <td>[Drama, Mystery, Sci-Fi, Thriller]</td>\n",
       "    </tr>\n",
       "  </tbody>\n",
       "</table>\n",
       "<p>3702 rows × 4 columns</p>\n",
       "</div>"
      ],
      "text/plain": [
       "      movieId                               title  \\\n",
       "0           1                    Toy Story (1995)   \n",
       "1           2                      Jumanji (1995)   \n",
       "2           5  Father of the Bride Part II (1995)   \n",
       "3           6                         Heat (1995)   \n",
       "4           7                      Sabrina (1995)   \n",
       "...       ...                                 ...   \n",
       "3697   195161         Mary Poppins Returns (2018)   \n",
       "3698   195497                         Vice (2018)   \n",
       "3699   195777               Mortal Engines (2018)   \n",
       "3700   195823     The Christmas Chronicles (2018)   \n",
       "3701   196997   Black Mirror: Bandersnatch (2018)   \n",
       "\n",
       "                                           genres  \\\n",
       "0     Adventure|Animation|Children|Comedy|Fantasy   \n",
       "1                      Adventure|Children|Fantasy   \n",
       "2                                          Comedy   \n",
       "3                           Action|Crime|Thriller   \n",
       "4                                  Comedy|Romance   \n",
       "...                                           ...   \n",
       "3697                             Children|Fantasy   \n",
       "3698                                 Comedy|Drama   \n",
       "3699                                       Sci-Fi   \n",
       "3700            Adventure|Children|Comedy|Fantasy   \n",
       "3701                Drama|Mystery|Sci-Fi|Thriller   \n",
       "\n",
       "                                             genre_list  \n",
       "0     [Adventure, Animation, Children, Comedy, Fantasy]  \n",
       "1                        [Adventure, Children, Fantasy]  \n",
       "2                                              [Comedy]  \n",
       "3                             [Action, Crime, Thriller]  \n",
       "4                                     [Comedy, Romance]  \n",
       "...                                                 ...  \n",
       "3697                                [Children, Fantasy]  \n",
       "3698                                    [Comedy, Drama]  \n",
       "3699                                           [Sci-Fi]  \n",
       "3700             [Adventure, Children, Comedy, Fantasy]  \n",
       "3701                 [Drama, Mystery, Sci-Fi, Thriller]  \n",
       "\n",
       "[3702 rows x 4 columns]"
      ]
     },
     "execution_count": 56,
     "metadata": {},
     "output_type": "execute_result"
    }
   ],
   "source": [
    "df_movies_reduced['genre_list'] = df_movies_reduced['genres'].apply(lambda x: x.split(sep='|'))\n",
    "df_movies_reduced"
   ]
  },
  {
   "cell_type": "markdown",
   "metadata": {},
   "source": [
    "Create `genre_set` consisting of all genres in the `genre_list` column."
   ]
  },
  {
   "cell_type": "code",
   "execution_count": 57,
   "metadata": {
    "scrolled": true
   },
   "outputs": [
    {
     "data": {
      "text/plain": [
       "{'(no genres listed)': 0,\n",
       " 'Action': 1,\n",
       " 'Adventure': 2,\n",
       " 'Animation': 3,\n",
       " 'Children': 4,\n",
       " 'Comedy': 5,\n",
       " 'Crime': 6,\n",
       " 'Documentary': 7,\n",
       " 'Drama': 8,\n",
       " 'Fantasy': 9,\n",
       " 'Film-Noir': 10,\n",
       " 'Horror': 11,\n",
       " 'IMAX': 12,\n",
       " 'Musical': 13,\n",
       " 'Mystery': 14,\n",
       " 'Romance': 15,\n",
       " 'Sci-Fi': 16,\n",
       " 'Thriller': 17,\n",
       " 'War': 18,\n",
       " 'Western': 19}"
      ]
     },
     "execution_count": 57,
     "metadata": {},
     "output_type": "execute_result"
    }
   ],
   "source": [
    "genre_set = set(list(pd.core.common.flatten(df_movies_reduced['genre_list'])))\n",
    "genre_dict = {g: i for i, g in enumerate(sorted(list(genre_set)))}\n",
    "genre_dict"
   ]
  },
  {
   "cell_type": "markdown",
   "metadata": {},
   "source": [
    "Apply the Pandas DataFrame function: [`explode()`](https://pandas.pydata.org/docs/reference/api/pandas.DataFrame.explode.html) to split entries into different rows when there are multiple entries in the `genre_list`."
   ]
  },
  {
   "cell_type": "code",
   "execution_count": 58,
   "metadata": {},
   "outputs": [
    {
     "data": {
      "text/html": [
       "<div>\n",
       "<style scoped>\n",
       "    .dataframe tbody tr th:only-of-type {\n",
       "        vertical-align: middle;\n",
       "    }\n",
       "\n",
       "    .dataframe tbody tr th {\n",
       "        vertical-align: top;\n",
       "    }\n",
       "\n",
       "    .dataframe thead th {\n",
       "        text-align: right;\n",
       "    }\n",
       "</style>\n",
       "<table border=\"1\" class=\"dataframe\">\n",
       "  <thead>\n",
       "    <tr style=\"text-align: right;\">\n",
       "      <th></th>\n",
       "      <th>movieId</th>\n",
       "      <th>title</th>\n",
       "      <th>genres</th>\n",
       "      <th>genre_list</th>\n",
       "    </tr>\n",
       "  </thead>\n",
       "  <tbody>\n",
       "    <tr>\n",
       "      <th>0</th>\n",
       "      <td>1</td>\n",
       "      <td>Toy Story (1995)</td>\n",
       "      <td>Adventure|Animation|Children|Comedy|Fantasy</td>\n",
       "      <td>Adventure</td>\n",
       "    </tr>\n",
       "    <tr>\n",
       "      <th>1</th>\n",
       "      <td>1</td>\n",
       "      <td>Toy Story (1995)</td>\n",
       "      <td>Adventure|Animation|Children|Comedy|Fantasy</td>\n",
       "      <td>Animation</td>\n",
       "    </tr>\n",
       "    <tr>\n",
       "      <th>2</th>\n",
       "      <td>1</td>\n",
       "      <td>Toy Story (1995)</td>\n",
       "      <td>Adventure|Animation|Children|Comedy|Fantasy</td>\n",
       "      <td>Children</td>\n",
       "    </tr>\n",
       "    <tr>\n",
       "      <th>3</th>\n",
       "      <td>1</td>\n",
       "      <td>Toy Story (1995)</td>\n",
       "      <td>Adventure|Animation|Children|Comedy|Fantasy</td>\n",
       "      <td>Comedy</td>\n",
       "    </tr>\n",
       "    <tr>\n",
       "      <th>4</th>\n",
       "      <td>1</td>\n",
       "      <td>Toy Story (1995)</td>\n",
       "      <td>Adventure|Animation|Children|Comedy|Fantasy</td>\n",
       "      <td>Fantasy</td>\n",
       "    </tr>\n",
       "    <tr>\n",
       "      <th>...</th>\n",
       "      <td>...</td>\n",
       "      <td>...</td>\n",
       "      <td>...</td>\n",
       "      <td>...</td>\n",
       "    </tr>\n",
       "    <tr>\n",
       "      <th>9411</th>\n",
       "      <td>195823</td>\n",
       "      <td>The Christmas Chronicles (2018)</td>\n",
       "      <td>Adventure|Children|Comedy|Fantasy</td>\n",
       "      <td>Fantasy</td>\n",
       "    </tr>\n",
       "    <tr>\n",
       "      <th>9412</th>\n",
       "      <td>196997</td>\n",
       "      <td>Black Mirror: Bandersnatch (2018)</td>\n",
       "      <td>Drama|Mystery|Sci-Fi|Thriller</td>\n",
       "      <td>Drama</td>\n",
       "    </tr>\n",
       "    <tr>\n",
       "      <th>9413</th>\n",
       "      <td>196997</td>\n",
       "      <td>Black Mirror: Bandersnatch (2018)</td>\n",
       "      <td>Drama|Mystery|Sci-Fi|Thriller</td>\n",
       "      <td>Mystery</td>\n",
       "    </tr>\n",
       "    <tr>\n",
       "      <th>9414</th>\n",
       "      <td>196997</td>\n",
       "      <td>Black Mirror: Bandersnatch (2018)</td>\n",
       "      <td>Drama|Mystery|Sci-Fi|Thriller</td>\n",
       "      <td>Sci-Fi</td>\n",
       "    </tr>\n",
       "    <tr>\n",
       "      <th>9415</th>\n",
       "      <td>196997</td>\n",
       "      <td>Black Mirror: Bandersnatch (2018)</td>\n",
       "      <td>Drama|Mystery|Sci-Fi|Thriller</td>\n",
       "      <td>Thriller</td>\n",
       "    </tr>\n",
       "  </tbody>\n",
       "</table>\n",
       "<p>9416 rows × 4 columns</p>\n",
       "</div>"
      ],
      "text/plain": [
       "      movieId                              title  \\\n",
       "0           1                   Toy Story (1995)   \n",
       "1           1                   Toy Story (1995)   \n",
       "2           1                   Toy Story (1995)   \n",
       "3           1                   Toy Story (1995)   \n",
       "4           1                   Toy Story (1995)   \n",
       "...       ...                                ...   \n",
       "9411   195823    The Christmas Chronicles (2018)   \n",
       "9412   196997  Black Mirror: Bandersnatch (2018)   \n",
       "9413   196997  Black Mirror: Bandersnatch (2018)   \n",
       "9414   196997  Black Mirror: Bandersnatch (2018)   \n",
       "9415   196997  Black Mirror: Bandersnatch (2018)   \n",
       "\n",
       "                                           genres genre_list  \n",
       "0     Adventure|Animation|Children|Comedy|Fantasy  Adventure  \n",
       "1     Adventure|Animation|Children|Comedy|Fantasy  Animation  \n",
       "2     Adventure|Animation|Children|Comedy|Fantasy   Children  \n",
       "3     Adventure|Animation|Children|Comedy|Fantasy     Comedy  \n",
       "4     Adventure|Animation|Children|Comedy|Fantasy    Fantasy  \n",
       "...                                           ...        ...  \n",
       "9411            Adventure|Children|Comedy|Fantasy    Fantasy  \n",
       "9412                Drama|Mystery|Sci-Fi|Thriller      Drama  \n",
       "9413                Drama|Mystery|Sci-Fi|Thriller    Mystery  \n",
       "9414                Drama|Mystery|Sci-Fi|Thriller     Sci-Fi  \n",
       "9415                Drama|Mystery|Sci-Fi|Thriller   Thriller  \n",
       "\n",
       "[9416 rows x 4 columns]"
      ]
     },
     "execution_count": 58,
     "metadata": {},
     "output_type": "execute_result"
    }
   ],
   "source": [
    "df_movies_explode = df_movies_reduced.explode('genre_list').reset_index(drop=True)\n",
    "df_movies_explode"
   ]
  },
  {
   "cell_type": "markdown",
   "metadata": {},
   "source": [
    "Create `genre_id` column, storing the genre ID at each row. "
   ]
  },
  {
   "cell_type": "code",
   "execution_count": 59,
   "metadata": {
    "scrolled": false
   },
   "outputs": [
    {
     "data": {
      "text/html": [
       "<div>\n",
       "<style scoped>\n",
       "    .dataframe tbody tr th:only-of-type {\n",
       "        vertical-align: middle;\n",
       "    }\n",
       "\n",
       "    .dataframe tbody tr th {\n",
       "        vertical-align: top;\n",
       "    }\n",
       "\n",
       "    .dataframe thead th {\n",
       "        text-align: right;\n",
       "    }\n",
       "</style>\n",
       "<table border=\"1\" class=\"dataframe\">\n",
       "  <thead>\n",
       "    <tr style=\"text-align: right;\">\n",
       "      <th></th>\n",
       "      <th>movieId</th>\n",
       "      <th>title</th>\n",
       "      <th>genres</th>\n",
       "      <th>genre_list</th>\n",
       "      <th>genre_id</th>\n",
       "    </tr>\n",
       "  </thead>\n",
       "  <tbody>\n",
       "    <tr>\n",
       "      <th>0</th>\n",
       "      <td>1</td>\n",
       "      <td>Toy Story (1995)</td>\n",
       "      <td>Adventure|Animation|Children|Comedy|Fantasy</td>\n",
       "      <td>Adventure</td>\n",
       "      <td>2</td>\n",
       "    </tr>\n",
       "    <tr>\n",
       "      <th>1</th>\n",
       "      <td>1</td>\n",
       "      <td>Toy Story (1995)</td>\n",
       "      <td>Adventure|Animation|Children|Comedy|Fantasy</td>\n",
       "      <td>Animation</td>\n",
       "      <td>3</td>\n",
       "    </tr>\n",
       "    <tr>\n",
       "      <th>2</th>\n",
       "      <td>1</td>\n",
       "      <td>Toy Story (1995)</td>\n",
       "      <td>Adventure|Animation|Children|Comedy|Fantasy</td>\n",
       "      <td>Children</td>\n",
       "      <td>4</td>\n",
       "    </tr>\n",
       "    <tr>\n",
       "      <th>3</th>\n",
       "      <td>1</td>\n",
       "      <td>Toy Story (1995)</td>\n",
       "      <td>Adventure|Animation|Children|Comedy|Fantasy</td>\n",
       "      <td>Comedy</td>\n",
       "      <td>5</td>\n",
       "    </tr>\n",
       "    <tr>\n",
       "      <th>4</th>\n",
       "      <td>1</td>\n",
       "      <td>Toy Story (1995)</td>\n",
       "      <td>Adventure|Animation|Children|Comedy|Fantasy</td>\n",
       "      <td>Fantasy</td>\n",
       "      <td>9</td>\n",
       "    </tr>\n",
       "    <tr>\n",
       "      <th>...</th>\n",
       "      <td>...</td>\n",
       "      <td>...</td>\n",
       "      <td>...</td>\n",
       "      <td>...</td>\n",
       "      <td>...</td>\n",
       "    </tr>\n",
       "    <tr>\n",
       "      <th>9411</th>\n",
       "      <td>195823</td>\n",
       "      <td>The Christmas Chronicles (2018)</td>\n",
       "      <td>Adventure|Children|Comedy|Fantasy</td>\n",
       "      <td>Fantasy</td>\n",
       "      <td>9</td>\n",
       "    </tr>\n",
       "    <tr>\n",
       "      <th>9412</th>\n",
       "      <td>196997</td>\n",
       "      <td>Black Mirror: Bandersnatch (2018)</td>\n",
       "      <td>Drama|Mystery|Sci-Fi|Thriller</td>\n",
       "      <td>Drama</td>\n",
       "      <td>8</td>\n",
       "    </tr>\n",
       "    <tr>\n",
       "      <th>9413</th>\n",
       "      <td>196997</td>\n",
       "      <td>Black Mirror: Bandersnatch (2018)</td>\n",
       "      <td>Drama|Mystery|Sci-Fi|Thriller</td>\n",
       "      <td>Mystery</td>\n",
       "      <td>14</td>\n",
       "    </tr>\n",
       "    <tr>\n",
       "      <th>9414</th>\n",
       "      <td>196997</td>\n",
       "      <td>Black Mirror: Bandersnatch (2018)</td>\n",
       "      <td>Drama|Mystery|Sci-Fi|Thriller</td>\n",
       "      <td>Sci-Fi</td>\n",
       "      <td>16</td>\n",
       "    </tr>\n",
       "    <tr>\n",
       "      <th>9415</th>\n",
       "      <td>196997</td>\n",
       "      <td>Black Mirror: Bandersnatch (2018)</td>\n",
       "      <td>Drama|Mystery|Sci-Fi|Thriller</td>\n",
       "      <td>Thriller</td>\n",
       "      <td>17</td>\n",
       "    </tr>\n",
       "  </tbody>\n",
       "</table>\n",
       "<p>9416 rows × 5 columns</p>\n",
       "</div>"
      ],
      "text/plain": [
       "      movieId                              title  \\\n",
       "0           1                   Toy Story (1995)   \n",
       "1           1                   Toy Story (1995)   \n",
       "2           1                   Toy Story (1995)   \n",
       "3           1                   Toy Story (1995)   \n",
       "4           1                   Toy Story (1995)   \n",
       "...       ...                                ...   \n",
       "9411   195823    The Christmas Chronicles (2018)   \n",
       "9412   196997  Black Mirror: Bandersnatch (2018)   \n",
       "9413   196997  Black Mirror: Bandersnatch (2018)   \n",
       "9414   196997  Black Mirror: Bandersnatch (2018)   \n",
       "9415   196997  Black Mirror: Bandersnatch (2018)   \n",
       "\n",
       "                                           genres genre_list  genre_id  \n",
       "0     Adventure|Animation|Children|Comedy|Fantasy  Adventure         2  \n",
       "1     Adventure|Animation|Children|Comedy|Fantasy  Animation         3  \n",
       "2     Adventure|Animation|Children|Comedy|Fantasy   Children         4  \n",
       "3     Adventure|Animation|Children|Comedy|Fantasy     Comedy         5  \n",
       "4     Adventure|Animation|Children|Comedy|Fantasy    Fantasy         9  \n",
       "...                                           ...        ...       ...  \n",
       "9411            Adventure|Children|Comedy|Fantasy    Fantasy         9  \n",
       "9412                Drama|Mystery|Sci-Fi|Thriller      Drama         8  \n",
       "9413                Drama|Mystery|Sci-Fi|Thriller    Mystery        14  \n",
       "9414                Drama|Mystery|Sci-Fi|Thriller     Sci-Fi        16  \n",
       "9415                Drama|Mystery|Sci-Fi|Thriller   Thriller        17  \n",
       "\n",
       "[9416 rows x 5 columns]"
      ]
     },
     "execution_count": 59,
     "metadata": {},
     "output_type": "execute_result"
    }
   ],
   "source": [
    "df_movies_explode['genre_id'] = df_movies_explode['genre_list'].apply(lambda x: genre_dict[x])\n",
    "df_movies_explode"
   ]
  },
  {
   "cell_type": "markdown",
   "metadata": {},
   "source": [
    "Create new DataFrame: `df_movies_genre` with only two columns: `movieId` and `genre_id`."
   ]
  },
  {
   "cell_type": "code",
   "execution_count": 60,
   "metadata": {},
   "outputs": [
    {
     "data": {
      "text/html": [
       "<div>\n",
       "<style scoped>\n",
       "    .dataframe tbody tr th:only-of-type {\n",
       "        vertical-align: middle;\n",
       "    }\n",
       "\n",
       "    .dataframe tbody tr th {\n",
       "        vertical-align: top;\n",
       "    }\n",
       "\n",
       "    .dataframe thead th {\n",
       "        text-align: right;\n",
       "    }\n",
       "</style>\n",
       "<table border=\"1\" class=\"dataframe\">\n",
       "  <thead>\n",
       "    <tr style=\"text-align: right;\">\n",
       "      <th></th>\n",
       "      <th>movieId</th>\n",
       "      <th>genre_id</th>\n",
       "    </tr>\n",
       "  </thead>\n",
       "  <tbody>\n",
       "    <tr>\n",
       "      <th>0</th>\n",
       "      <td>1</td>\n",
       "      <td>2</td>\n",
       "    </tr>\n",
       "    <tr>\n",
       "      <th>1</th>\n",
       "      <td>1</td>\n",
       "      <td>3</td>\n",
       "    </tr>\n",
       "    <tr>\n",
       "      <th>2</th>\n",
       "      <td>1</td>\n",
       "      <td>4</td>\n",
       "    </tr>\n",
       "    <tr>\n",
       "      <th>3</th>\n",
       "      <td>1</td>\n",
       "      <td>5</td>\n",
       "    </tr>\n",
       "    <tr>\n",
       "      <th>4</th>\n",
       "      <td>1</td>\n",
       "      <td>9</td>\n",
       "    </tr>\n",
       "    <tr>\n",
       "      <th>...</th>\n",
       "      <td>...</td>\n",
       "      <td>...</td>\n",
       "    </tr>\n",
       "    <tr>\n",
       "      <th>9411</th>\n",
       "      <td>195823</td>\n",
       "      <td>9</td>\n",
       "    </tr>\n",
       "    <tr>\n",
       "      <th>9412</th>\n",
       "      <td>196997</td>\n",
       "      <td>8</td>\n",
       "    </tr>\n",
       "    <tr>\n",
       "      <th>9413</th>\n",
       "      <td>196997</td>\n",
       "      <td>14</td>\n",
       "    </tr>\n",
       "    <tr>\n",
       "      <th>9414</th>\n",
       "      <td>196997</td>\n",
       "      <td>16</td>\n",
       "    </tr>\n",
       "    <tr>\n",
       "      <th>9415</th>\n",
       "      <td>196997</td>\n",
       "      <td>17</td>\n",
       "    </tr>\n",
       "  </tbody>\n",
       "</table>\n",
       "<p>9416 rows × 2 columns</p>\n",
       "</div>"
      ],
      "text/plain": [
       "      movieId  genre_id\n",
       "0           1         2\n",
       "1           1         3\n",
       "2           1         4\n",
       "3           1         5\n",
       "4           1         9\n",
       "...       ...       ...\n",
       "9411   195823         9\n",
       "9412   196997         8\n",
       "9413   196997        14\n",
       "9414   196997        16\n",
       "9415   196997        17\n",
       "\n",
       "[9416 rows x 2 columns]"
      ]
     },
     "execution_count": 60,
     "metadata": {},
     "output_type": "execute_result"
    }
   ],
   "source": [
    "df_movies_genre = df_movies_explode[['movieId', 'genre_id']]\n",
    "df_movies_genre"
   ]
  },
  {
   "cell_type": "code",
   "execution_count": 61,
   "metadata": {},
   "outputs": [],
   "source": [
    "df_movies_genre.to_csv('output/movies_genre.csv', index=False)"
   ]
  },
  {
   "cell_type": "markdown",
   "metadata": {},
   "source": [
    "## 4.4. Generate Attributes for Users <a name=\"preprocess-user-attr\"></a>"
   ]
  },
  {
   "cell_type": "markdown",
   "metadata": {},
   "source": [
    "Generate list 25 user attribute IDs according to 5 personality traits (The Big 5 Personality) - each personality trait is divided into 5 degrees."
   ]
  },
  {
   "cell_type": "code",
   "execution_count": 62,
   "metadata": {},
   "outputs": [
    {
     "data": {
      "text/plain": [
       "{'openness_low': 0,\n",
       " 'openness_midlow': 1,\n",
       " 'openness_mid': 2,\n",
       " 'openness_midhigh': 3,\n",
       " 'openness_high': 4,\n",
       " 'conscientiousness_low': 5,\n",
       " 'conscientiousness_midlow': 6,\n",
       " 'conscientiousness_mid': 7,\n",
       " 'conscientiousness_midhigh': 8,\n",
       " 'conscientiousness_high': 9,\n",
       " 'extraversion_low': 10,\n",
       " 'extraversion_midlow': 11,\n",
       " 'extraversion_mid': 12,\n",
       " 'extraversion_midhigh': 13,\n",
       " 'extraversion_high': 14,\n",
       " 'agreeableness_low': 15,\n",
       " 'agreeableness_midlow': 16,\n",
       " 'agreeableness_mid': 17,\n",
       " 'agreeableness_midhigh': 18,\n",
       " 'agreeableness_high': 19,\n",
       " 'emotional_stability_low': 20,\n",
       " 'emotional_stability_midlow': 21,\n",
       " 'emotional_stability_mid': 22,\n",
       " 'emotional_stability_midhigh': 23,\n",
       " 'emotional_stability_high': 24}"
      ]
     },
     "execution_count": 62,
     "metadata": {},
     "output_type": "execute_result"
    }
   ],
   "source": [
    "list_personality_degree = ['low', 'midlow', 'mid', 'midhigh', 'high']\n",
    "\n",
    "# List personality + list personality degree = attribute ID\n",
    "dict_personality_degree = {}\n",
    "\n",
    "count = 0\n",
    "for p in list_personality:\n",
    "    for d in list_personality_degree:\n",
    "        dict_personality_degree[f\"{p}_{d}\"] = count\n",
    "        count += 1\n",
    "        \n",
    "dict_personality_degree"
   ]
  },
  {
   "cell_type": "markdown",
   "metadata": {},
   "source": [
    "Assign user attribute IDs to each user - each user is assigned 5 IDs, one per personality trait."
   ]
  },
  {
   "cell_type": "code",
   "execution_count": 63,
   "metadata": {},
   "outputs": [
    {
     "name": "stderr",
     "output_type": "stream",
     "text": [
      "<ipython-input-63-b23e3b0bc24f>:20: SettingWithCopyWarning: \n",
      "A value is trying to be set on a copy of a slice from a DataFrame.\n",
      "Try using .loc[row_indexer,col_indexer] = value instead\n",
      "\n",
      "See the caveats in the documentation: https://pandas.pydata.org/pandas-docs/stable/user_guide/indexing.html#returning-a-view-versus-a-copy\n",
      "  df_personality_reduced[f\"{p}_degree\"] = (df_personality_reduced[p]\n"
     ]
    },
    {
     "data": {
      "text/html": [
       "<div>\n",
       "<style scoped>\n",
       "    .dataframe tbody tr th:only-of-type {\n",
       "        vertical-align: middle;\n",
       "    }\n",
       "\n",
       "    .dataframe tbody tr th {\n",
       "        vertical-align: top;\n",
       "    }\n",
       "\n",
       "    .dataframe thead th {\n",
       "        text-align: right;\n",
       "    }\n",
       "</style>\n",
       "<table border=\"1\" class=\"dataframe\">\n",
       "  <thead>\n",
       "    <tr style=\"text-align: right;\">\n",
       "      <th></th>\n",
       "      <th>userid</th>\n",
       "      <th>openness</th>\n",
       "      <th>conscientiousness</th>\n",
       "      <th>extraversion</th>\n",
       "      <th>agreeableness</th>\n",
       "      <th>emotional_stability</th>\n",
       "      <th>openness_degree</th>\n",
       "      <th>conscientiousness_degree</th>\n",
       "      <th>extraversion_degree</th>\n",
       "      <th>agreeableness_degree</th>\n",
       "      <th>emotional_stability_degree</th>\n",
       "    </tr>\n",
       "  </thead>\n",
       "  <tbody>\n",
       "    <tr>\n",
       "      <th>0</th>\n",
       "      <td>8e7cebf9a234c064b75016249f2ac65e</td>\n",
       "      <td>5.0000</td>\n",
       "      <td>2.5000</td>\n",
       "      <td>6.5000</td>\n",
       "      <td>2.0000</td>\n",
       "      <td>3.0000</td>\n",
       "      <td>4</td>\n",
       "      <td>6</td>\n",
       "      <td>14</td>\n",
       "      <td>15</td>\n",
       "      <td>21</td>\n",
       "    </tr>\n",
       "    <tr>\n",
       "      <th>1</th>\n",
       "      <td>77c7d756a093150d4377720abeaeef76</td>\n",
       "      <td>7.0000</td>\n",
       "      <td>5.5000</td>\n",
       "      <td>4.0000</td>\n",
       "      <td>4.0000</td>\n",
       "      <td>6.0000</td>\n",
       "      <td>4</td>\n",
       "      <td>9</td>\n",
       "      <td>12</td>\n",
       "      <td>17</td>\n",
       "      <td>24</td>\n",
       "    </tr>\n",
       "    <tr>\n",
       "      <th>2</th>\n",
       "      <td>b7e8a92987a530cc368719a0e60e26a3</td>\n",
       "      <td>4.0000</td>\n",
       "      <td>2.0000</td>\n",
       "      <td>2.5000</td>\n",
       "      <td>3.0000</td>\n",
       "      <td>4.5000</td>\n",
       "      <td>2</td>\n",
       "      <td>5</td>\n",
       "      <td>11</td>\n",
       "      <td>16</td>\n",
       "      <td>24</td>\n",
       "    </tr>\n",
       "    <tr>\n",
       "      <th>3</th>\n",
       "      <td>92561f21446e017dd6b68b94b23ad5b7</td>\n",
       "      <td>5.5000</td>\n",
       "      <td>4.5000</td>\n",
       "      <td>4.0000</td>\n",
       "      <td>5.5000</td>\n",
       "      <td>4.0000</td>\n",
       "      <td>4</td>\n",
       "      <td>9</td>\n",
       "      <td>12</td>\n",
       "      <td>19</td>\n",
       "      <td>22</td>\n",
       "    </tr>\n",
       "    <tr>\n",
       "      <th>4</th>\n",
       "      <td>030001ac2145a938b07e686a35a2d638</td>\n",
       "      <td>5.5000</td>\n",
       "      <td>4.5000</td>\n",
       "      <td>2.5000</td>\n",
       "      <td>5.5000</td>\n",
       "      <td>3.5000</td>\n",
       "      <td>4</td>\n",
       "      <td>9</td>\n",
       "      <td>11</td>\n",
       "      <td>19</td>\n",
       "      <td>21</td>\n",
       "    </tr>\n",
       "  </tbody>\n",
       "</table>\n",
       "</div>"
      ],
      "text/plain": [
       "                             userid  openness  conscientiousness  \\\n",
       "0  8e7cebf9a234c064b75016249f2ac65e    5.0000             2.5000   \n",
       "1  77c7d756a093150d4377720abeaeef76    7.0000             5.5000   \n",
       "2  b7e8a92987a530cc368719a0e60e26a3    4.0000             2.0000   \n",
       "3  92561f21446e017dd6b68b94b23ad5b7    5.5000             4.5000   \n",
       "4  030001ac2145a938b07e686a35a2d638    5.5000             4.5000   \n",
       "\n",
       "   extraversion  agreeableness  emotional_stability  openness_degree  \\\n",
       "0        6.5000         2.0000               3.0000                4   \n",
       "1        4.0000         4.0000               6.0000                4   \n",
       "2        2.5000         3.0000               4.5000                2   \n",
       "3        4.0000         5.5000               4.0000                4   \n",
       "4        2.5000         5.5000               3.5000                4   \n",
       "\n",
       "   conscientiousness_degree  extraversion_degree  agreeableness_degree  \\\n",
       "0                         6                   14                    15   \n",
       "1                         9                   12                    17   \n",
       "2                         5                   11                    16   \n",
       "3                         9                   12                    19   \n",
       "4                         9                   11                    19   \n",
       "\n",
       "   emotional_stability_degree  \n",
       "0                          21  \n",
       "1                          24  \n",
       "2                          24  \n",
       "3                          22  \n",
       "4                          21  "
      ]
     },
     "execution_count": 63,
     "metadata": {},
     "output_type": "execute_result"
    }
   ],
   "source": [
    "def assign_personality_degree(val, personality=\"\"):\n",
    "    f = lambda x: f\"{personality}_{x}\" if personality != \"\" else x\n",
    "    \n",
    "    if val <= 2.0:\n",
    "        return dict_personality_degree[f('low')]\n",
    "    \n",
    "    if val < 4.0:\n",
    "        return dict_personality_degree[f('midlow')]\n",
    "    \n",
    "    if val == 4.0:\n",
    "        return dict_personality_degree[f('mid')]\n",
    "    \n",
    "    if val < 6.0:\n",
    "        dict_personality_degree[f('midhigh')]\n",
    "    \n",
    "    return dict_personality_degree[f('high')]\n",
    "\n",
    "\n",
    "for p in list_personality:\n",
    "    df_personality_reduced[f\"{p}_degree\"] = (df_personality_reduced[p]\n",
    "                                             .apply(lambda x: assign_personality_degree(x, p)))\n",
    "\n",
    "df_personality_reduced.head()"
   ]
  },
  {
   "cell_type": "markdown",
   "metadata": {},
   "source": [
    "Create new DataFrame `df_personality_degree` consisting only the user ID and their respective attribute IDs."
   ]
  },
  {
   "cell_type": "code",
   "execution_count": 64,
   "metadata": {},
   "outputs": [
    {
     "data": {
      "text/html": [
       "<div>\n",
       "<style scoped>\n",
       "    .dataframe tbody tr th:only-of-type {\n",
       "        vertical-align: middle;\n",
       "    }\n",
       "\n",
       "    .dataframe tbody tr th {\n",
       "        vertical-align: top;\n",
       "    }\n",
       "\n",
       "    .dataframe thead th {\n",
       "        text-align: right;\n",
       "    }\n",
       "</style>\n",
       "<table border=\"1\" class=\"dataframe\">\n",
       "  <thead>\n",
       "    <tr style=\"text-align: right;\">\n",
       "      <th></th>\n",
       "      <th>userid</th>\n",
       "      <th>openness_degree</th>\n",
       "      <th>conscientiousness_degree</th>\n",
       "      <th>extraversion_degree</th>\n",
       "      <th>agreeableness_degree</th>\n",
       "      <th>emotional_stability_degree</th>\n",
       "    </tr>\n",
       "  </thead>\n",
       "  <tbody>\n",
       "    <tr>\n",
       "      <th>0</th>\n",
       "      <td>8e7cebf9a234c064b75016249f2ac65e</td>\n",
       "      <td>4</td>\n",
       "      <td>6</td>\n",
       "      <td>14</td>\n",
       "      <td>15</td>\n",
       "      <td>21</td>\n",
       "    </tr>\n",
       "    <tr>\n",
       "      <th>1</th>\n",
       "      <td>77c7d756a093150d4377720abeaeef76</td>\n",
       "      <td>4</td>\n",
       "      <td>9</td>\n",
       "      <td>12</td>\n",
       "      <td>17</td>\n",
       "      <td>24</td>\n",
       "    </tr>\n",
       "    <tr>\n",
       "      <th>2</th>\n",
       "      <td>b7e8a92987a530cc368719a0e60e26a3</td>\n",
       "      <td>2</td>\n",
       "      <td>5</td>\n",
       "      <td>11</td>\n",
       "      <td>16</td>\n",
       "      <td>24</td>\n",
       "    </tr>\n",
       "    <tr>\n",
       "      <th>3</th>\n",
       "      <td>92561f21446e017dd6b68b94b23ad5b7</td>\n",
       "      <td>4</td>\n",
       "      <td>9</td>\n",
       "      <td>12</td>\n",
       "      <td>19</td>\n",
       "      <td>22</td>\n",
       "    </tr>\n",
       "    <tr>\n",
       "      <th>4</th>\n",
       "      <td>030001ac2145a938b07e686a35a2d638</td>\n",
       "      <td>4</td>\n",
       "      <td>9</td>\n",
       "      <td>11</td>\n",
       "      <td>19</td>\n",
       "      <td>21</td>\n",
       "    </tr>\n",
       "    <tr>\n",
       "      <th>...</th>\n",
       "      <td>...</td>\n",
       "      <td>...</td>\n",
       "      <td>...</td>\n",
       "      <td>...</td>\n",
       "      <td>...</td>\n",
       "      <td>...</td>\n",
       "    </tr>\n",
       "    <tr>\n",
       "      <th>1829</th>\n",
       "      <td>cff910b71f09b3120289ff6b461a9e03</td>\n",
       "      <td>4</td>\n",
       "      <td>7</td>\n",
       "      <td>14</td>\n",
       "      <td>16</td>\n",
       "      <td>21</td>\n",
       "    </tr>\n",
       "    <tr>\n",
       "      <th>1830</th>\n",
       "      <td>1ab3a4c2921d8da640854819b0f6cfce</td>\n",
       "      <td>2</td>\n",
       "      <td>7</td>\n",
       "      <td>11</td>\n",
       "      <td>16</td>\n",
       "      <td>24</td>\n",
       "    </tr>\n",
       "    <tr>\n",
       "      <th>1831</th>\n",
       "      <td>a06386edadf3bc614dadb7044708c46c</td>\n",
       "      <td>4</td>\n",
       "      <td>6</td>\n",
       "      <td>14</td>\n",
       "      <td>16</td>\n",
       "      <td>24</td>\n",
       "    </tr>\n",
       "    <tr>\n",
       "      <th>1832</th>\n",
       "      <td>bad56d9506832cd79d874a6b66b3d813</td>\n",
       "      <td>4</td>\n",
       "      <td>6</td>\n",
       "      <td>11</td>\n",
       "      <td>16</td>\n",
       "      <td>20</td>\n",
       "    </tr>\n",
       "    <tr>\n",
       "      <th>1833</th>\n",
       "      <td>721ea658e148fc0f76ddd6e2b0e02422</td>\n",
       "      <td>4</td>\n",
       "      <td>9</td>\n",
       "      <td>10</td>\n",
       "      <td>19</td>\n",
       "      <td>21</td>\n",
       "    </tr>\n",
       "  </tbody>\n",
       "</table>\n",
       "<p>1834 rows × 6 columns</p>\n",
       "</div>"
      ],
      "text/plain": [
       "                                userid  openness_degree  \\\n",
       "0     8e7cebf9a234c064b75016249f2ac65e                4   \n",
       "1     77c7d756a093150d4377720abeaeef76                4   \n",
       "2     b7e8a92987a530cc368719a0e60e26a3                2   \n",
       "3     92561f21446e017dd6b68b94b23ad5b7                4   \n",
       "4     030001ac2145a938b07e686a35a2d638                4   \n",
       "...                                ...              ...   \n",
       "1829  cff910b71f09b3120289ff6b461a9e03                4   \n",
       "1830  1ab3a4c2921d8da640854819b0f6cfce                2   \n",
       "1831  a06386edadf3bc614dadb7044708c46c                4   \n",
       "1832  bad56d9506832cd79d874a6b66b3d813                4   \n",
       "1833  721ea658e148fc0f76ddd6e2b0e02422                4   \n",
       "\n",
       "      conscientiousness_degree  extraversion_degree  agreeableness_degree  \\\n",
       "0                            6                   14                    15   \n",
       "1                            9                   12                    17   \n",
       "2                            5                   11                    16   \n",
       "3                            9                   12                    19   \n",
       "4                            9                   11                    19   \n",
       "...                        ...                  ...                   ...   \n",
       "1829                         7                   14                    16   \n",
       "1830                         7                   11                    16   \n",
       "1831                         6                   14                    16   \n",
       "1832                         6                   11                    16   \n",
       "1833                         9                   10                    19   \n",
       "\n",
       "      emotional_stability_degree  \n",
       "0                             21  \n",
       "1                             24  \n",
       "2                             24  \n",
       "3                             22  \n",
       "4                             21  \n",
       "...                          ...  \n",
       "1829                          21  \n",
       "1830                          24  \n",
       "1831                          24  \n",
       "1832                          20  \n",
       "1833                          21  \n",
       "\n",
       "[1834 rows x 6 columns]"
      ]
     },
     "execution_count": 64,
     "metadata": {},
     "output_type": "execute_result"
    }
   ],
   "source": [
    "df_personality_degree = df_personality_reduced[['userid'] + [f\"{p}_degree\" for p in list_personality]]\n",
    "df_personality_degree"
   ]
  },
  {
   "cell_type": "markdown",
   "metadata": {},
   "source": [
    "Create new column: `personality_list` - storing list of 5 user attribute IDs per user."
   ]
  },
  {
   "cell_type": "code",
   "execution_count": 65,
   "metadata": {},
   "outputs": [
    {
     "name": "stderr",
     "output_type": "stream",
     "text": [
      "<ipython-input-65-bed46be7d9bc>:1: SettingWithCopyWarning: \n",
      "A value is trying to be set on a copy of a slice from a DataFrame.\n",
      "Try using .loc[row_indexer,col_indexer] = value instead\n",
      "\n",
      "See the caveats in the documentation: https://pandas.pydata.org/pandas-docs/stable/user_guide/indexing.html#returning-a-view-versus-a-copy\n",
      "  df_personality_degree['personality_list'] = (df_personality_degree[[f\"{p}_degree\" for p in list_personality]]\n"
     ]
    },
    {
     "data": {
      "text/html": [
       "<div>\n",
       "<style scoped>\n",
       "    .dataframe tbody tr th:only-of-type {\n",
       "        vertical-align: middle;\n",
       "    }\n",
       "\n",
       "    .dataframe tbody tr th {\n",
       "        vertical-align: top;\n",
       "    }\n",
       "\n",
       "    .dataframe thead th {\n",
       "        text-align: right;\n",
       "    }\n",
       "</style>\n",
       "<table border=\"1\" class=\"dataframe\">\n",
       "  <thead>\n",
       "    <tr style=\"text-align: right;\">\n",
       "      <th></th>\n",
       "      <th>userid</th>\n",
       "      <th>openness_degree</th>\n",
       "      <th>conscientiousness_degree</th>\n",
       "      <th>extraversion_degree</th>\n",
       "      <th>agreeableness_degree</th>\n",
       "      <th>emotional_stability_degree</th>\n",
       "      <th>personality_list</th>\n",
       "    </tr>\n",
       "  </thead>\n",
       "  <tbody>\n",
       "    <tr>\n",
       "      <th>0</th>\n",
       "      <td>8e7cebf9a234c064b75016249f2ac65e</td>\n",
       "      <td>4</td>\n",
       "      <td>6</td>\n",
       "      <td>14</td>\n",
       "      <td>15</td>\n",
       "      <td>21</td>\n",
       "      <td>[4, 6, 14, 15, 21]</td>\n",
       "    </tr>\n",
       "    <tr>\n",
       "      <th>1</th>\n",
       "      <td>77c7d756a093150d4377720abeaeef76</td>\n",
       "      <td>4</td>\n",
       "      <td>9</td>\n",
       "      <td>12</td>\n",
       "      <td>17</td>\n",
       "      <td>24</td>\n",
       "      <td>[4, 9, 12, 17, 24]</td>\n",
       "    </tr>\n",
       "    <tr>\n",
       "      <th>2</th>\n",
       "      <td>b7e8a92987a530cc368719a0e60e26a3</td>\n",
       "      <td>2</td>\n",
       "      <td>5</td>\n",
       "      <td>11</td>\n",
       "      <td>16</td>\n",
       "      <td>24</td>\n",
       "      <td>[2, 5, 11, 16, 24]</td>\n",
       "    </tr>\n",
       "    <tr>\n",
       "      <th>3</th>\n",
       "      <td>92561f21446e017dd6b68b94b23ad5b7</td>\n",
       "      <td>4</td>\n",
       "      <td>9</td>\n",
       "      <td>12</td>\n",
       "      <td>19</td>\n",
       "      <td>22</td>\n",
       "      <td>[4, 9, 12, 19, 22]</td>\n",
       "    </tr>\n",
       "    <tr>\n",
       "      <th>4</th>\n",
       "      <td>030001ac2145a938b07e686a35a2d638</td>\n",
       "      <td>4</td>\n",
       "      <td>9</td>\n",
       "      <td>11</td>\n",
       "      <td>19</td>\n",
       "      <td>21</td>\n",
       "      <td>[4, 9, 11, 19, 21]</td>\n",
       "    </tr>\n",
       "  </tbody>\n",
       "</table>\n",
       "</div>"
      ],
      "text/plain": [
       "                             userid  openness_degree  \\\n",
       "0  8e7cebf9a234c064b75016249f2ac65e                4   \n",
       "1  77c7d756a093150d4377720abeaeef76                4   \n",
       "2  b7e8a92987a530cc368719a0e60e26a3                2   \n",
       "3  92561f21446e017dd6b68b94b23ad5b7                4   \n",
       "4  030001ac2145a938b07e686a35a2d638                4   \n",
       "\n",
       "   conscientiousness_degree  extraversion_degree  agreeableness_degree  \\\n",
       "0                         6                   14                    15   \n",
       "1                         9                   12                    17   \n",
       "2                         5                   11                    16   \n",
       "3                         9                   12                    19   \n",
       "4                         9                   11                    19   \n",
       "\n",
       "   emotional_stability_degree    personality_list  \n",
       "0                          21  [4, 6, 14, 15, 21]  \n",
       "1                          24  [4, 9, 12, 17, 24]  \n",
       "2                          24  [2, 5, 11, 16, 24]  \n",
       "3                          22  [4, 9, 12, 19, 22]  \n",
       "4                          21  [4, 9, 11, 19, 21]  "
      ]
     },
     "execution_count": 65,
     "metadata": {},
     "output_type": "execute_result"
    }
   ],
   "source": [
    "df_personality_degree['personality_list'] = (df_personality_degree[[f\"{p}_degree\" for p in list_personality]]\n",
    "                                             .values.tolist())\n",
    "\n",
    "df_personality_degree.head()"
   ]
  },
  {
   "cell_type": "markdown",
   "metadata": {},
   "source": [
    "Remove other columns from `df_personality_degree`, except `userId` and `personality_list`."
   ]
  },
  {
   "cell_type": "code",
   "execution_count": 66,
   "metadata": {},
   "outputs": [
    {
     "data": {
      "text/html": [
       "<div>\n",
       "<style scoped>\n",
       "    .dataframe tbody tr th:only-of-type {\n",
       "        vertical-align: middle;\n",
       "    }\n",
       "\n",
       "    .dataframe tbody tr th {\n",
       "        vertical-align: top;\n",
       "    }\n",
       "\n",
       "    .dataframe thead th {\n",
       "        text-align: right;\n",
       "    }\n",
       "</style>\n",
       "<table border=\"1\" class=\"dataframe\">\n",
       "  <thead>\n",
       "    <tr style=\"text-align: right;\">\n",
       "      <th></th>\n",
       "      <th>userid</th>\n",
       "      <th>personality_list</th>\n",
       "    </tr>\n",
       "  </thead>\n",
       "  <tbody>\n",
       "    <tr>\n",
       "      <th>0</th>\n",
       "      <td>8e7cebf9a234c064b75016249f2ac65e</td>\n",
       "      <td>[4, 6, 14, 15, 21]</td>\n",
       "    </tr>\n",
       "    <tr>\n",
       "      <th>1</th>\n",
       "      <td>77c7d756a093150d4377720abeaeef76</td>\n",
       "      <td>[4, 9, 12, 17, 24]</td>\n",
       "    </tr>\n",
       "    <tr>\n",
       "      <th>2</th>\n",
       "      <td>b7e8a92987a530cc368719a0e60e26a3</td>\n",
       "      <td>[2, 5, 11, 16, 24]</td>\n",
       "    </tr>\n",
       "    <tr>\n",
       "      <th>3</th>\n",
       "      <td>92561f21446e017dd6b68b94b23ad5b7</td>\n",
       "      <td>[4, 9, 12, 19, 22]</td>\n",
       "    </tr>\n",
       "    <tr>\n",
       "      <th>4</th>\n",
       "      <td>030001ac2145a938b07e686a35a2d638</td>\n",
       "      <td>[4, 9, 11, 19, 21]</td>\n",
       "    </tr>\n",
       "  </tbody>\n",
       "</table>\n",
       "</div>"
      ],
      "text/plain": [
       "                             userid    personality_list\n",
       "0  8e7cebf9a234c064b75016249f2ac65e  [4, 6, 14, 15, 21]\n",
       "1  77c7d756a093150d4377720abeaeef76  [4, 9, 12, 17, 24]\n",
       "2  b7e8a92987a530cc368719a0e60e26a3  [2, 5, 11, 16, 24]\n",
       "3  92561f21446e017dd6b68b94b23ad5b7  [4, 9, 12, 19, 22]\n",
       "4  030001ac2145a938b07e686a35a2d638  [4, 9, 11, 19, 21]"
      ]
     },
     "metadata": {},
     "output_type": "display_data"
    },
    {
     "data": {
      "text/plain": [
       "(1834, 2)"
      ]
     },
     "metadata": {},
     "output_type": "display_data"
    }
   ],
   "source": [
    "df_personality_degree = df_personality_degree[['userid', 'personality_list']]\n",
    "\n",
    "display(df_personality_degree.head())\n",
    "display(df_personality_degree.shape)"
   ]
  },
  {
   "cell_type": "markdown",
   "metadata": {},
   "source": [
    "Remove users who did not rate enough movies from the dataset."
   ]
  },
  {
   "cell_type": "code",
   "execution_count": 67,
   "metadata": {},
   "outputs": [
    {
     "data": {
      "text/html": [
       "<div>\n",
       "<style scoped>\n",
       "    .dataframe tbody tr th:only-of-type {\n",
       "        vertical-align: middle;\n",
       "    }\n",
       "\n",
       "    .dataframe tbody tr th {\n",
       "        vertical-align: top;\n",
       "    }\n",
       "\n",
       "    .dataframe thead th {\n",
       "        text-align: right;\n",
       "    }\n",
       "</style>\n",
       "<table border=\"1\" class=\"dataframe\">\n",
       "  <thead>\n",
       "    <tr style=\"text-align: right;\">\n",
       "      <th></th>\n",
       "      <th>userid</th>\n",
       "      <th>personality_list</th>\n",
       "    </tr>\n",
       "  </thead>\n",
       "  <tbody>\n",
       "    <tr>\n",
       "      <th>0</th>\n",
       "      <td>8e7cebf9a234c064b75016249f2ac65e</td>\n",
       "      <td>[4, 6, 14, 15, 21]</td>\n",
       "    </tr>\n",
       "    <tr>\n",
       "      <th>1</th>\n",
       "      <td>77c7d756a093150d4377720abeaeef76</td>\n",
       "      <td>[4, 9, 12, 17, 24]</td>\n",
       "    </tr>\n",
       "    <tr>\n",
       "      <th>2</th>\n",
       "      <td>b7e8a92987a530cc368719a0e60e26a3</td>\n",
       "      <td>[2, 5, 11, 16, 24]</td>\n",
       "    </tr>\n",
       "    <tr>\n",
       "      <th>3</th>\n",
       "      <td>92561f21446e017dd6b68b94b23ad5b7</td>\n",
       "      <td>[4, 9, 12, 19, 22]</td>\n",
       "    </tr>\n",
       "    <tr>\n",
       "      <th>4</th>\n",
       "      <td>030001ac2145a938b07e686a35a2d638</td>\n",
       "      <td>[4, 9, 11, 19, 21]</td>\n",
       "    </tr>\n",
       "  </tbody>\n",
       "</table>\n",
       "</div>"
      ],
      "text/plain": [
       "                             userid    personality_list\n",
       "0  8e7cebf9a234c064b75016249f2ac65e  [4, 6, 14, 15, 21]\n",
       "1  77c7d756a093150d4377720abeaeef76  [4, 9, 12, 17, 24]\n",
       "2  b7e8a92987a530cc368719a0e60e26a3  [2, 5, 11, 16, 24]\n",
       "3  92561f21446e017dd6b68b94b23ad5b7  [4, 9, 12, 19, 22]\n",
       "4  030001ac2145a938b07e686a35a2d638  [4, 9, 11, 19, 21]"
      ]
     },
     "metadata": {},
     "output_type": "display_data"
    },
    {
     "data": {
      "text/plain": [
       "(938, 2)"
      ]
     },
     "metadata": {},
     "output_type": "display_data"
    }
   ],
   "source": [
    "# # use back user_list\n",
    "user_condition = (df_personality_degree['userid'].apply(lambda x: x in user_list))\n",
    "df_personality_degree = df_personality_degree[user_condition]\n",
    "\n",
    "display(df_personality_degree.head())\n",
    "display(df_personality_degree.shape)"
   ]
  },
  {
   "cell_type": "markdown",
   "metadata": {},
   "source": [
    "Apply the Pandas DataFrame function: [`explode()`](https://pandas.pydata.org/docs/reference/api/pandas.DataFrame.explode.html) to split `personality_test` into different rows."
   ]
  },
  {
   "cell_type": "code",
   "execution_count": 68,
   "metadata": {},
   "outputs": [
    {
     "name": "stdout",
     "output_type": "stream",
     "text": [
      "Shape (before): (4690, 2)\n",
      "Shape (after): (4625, 2)\n"
     ]
    },
    {
     "data": {
      "text/html": [
       "<div>\n",
       "<style scoped>\n",
       "    .dataframe tbody tr th:only-of-type {\n",
       "        vertical-align: middle;\n",
       "    }\n",
       "\n",
       "    .dataframe tbody tr th {\n",
       "        vertical-align: top;\n",
       "    }\n",
       "\n",
       "    .dataframe thead th {\n",
       "        text-align: right;\n",
       "    }\n",
       "</style>\n",
       "<table border=\"1\" class=\"dataframe\">\n",
       "  <thead>\n",
       "    <tr style=\"text-align: right;\">\n",
       "      <th></th>\n",
       "      <th>userid</th>\n",
       "      <th>personality_id</th>\n",
       "    </tr>\n",
       "  </thead>\n",
       "  <tbody>\n",
       "    <tr>\n",
       "      <th>0</th>\n",
       "      <td>8e7cebf9a234c064b75016249f2ac65e</td>\n",
       "      <td>4</td>\n",
       "    </tr>\n",
       "    <tr>\n",
       "      <th>1</th>\n",
       "      <td>8e7cebf9a234c064b75016249f2ac65e</td>\n",
       "      <td>6</td>\n",
       "    </tr>\n",
       "    <tr>\n",
       "      <th>2</th>\n",
       "      <td>8e7cebf9a234c064b75016249f2ac65e</td>\n",
       "      <td>14</td>\n",
       "    </tr>\n",
       "    <tr>\n",
       "      <th>3</th>\n",
       "      <td>8e7cebf9a234c064b75016249f2ac65e</td>\n",
       "      <td>15</td>\n",
       "    </tr>\n",
       "    <tr>\n",
       "      <th>4</th>\n",
       "      <td>8e7cebf9a234c064b75016249f2ac65e</td>\n",
       "      <td>21</td>\n",
       "    </tr>\n",
       "  </tbody>\n",
       "</table>\n",
       "</div>"
      ],
      "text/plain": [
       "                             userid personality_id\n",
       "0  8e7cebf9a234c064b75016249f2ac65e              4\n",
       "1  8e7cebf9a234c064b75016249f2ac65e              6\n",
       "2  8e7cebf9a234c064b75016249f2ac65e             14\n",
       "3  8e7cebf9a234c064b75016249f2ac65e             15\n",
       "4  8e7cebf9a234c064b75016249f2ac65e             21"
      ]
     },
     "metadata": {},
     "output_type": "display_data"
    }
   ],
   "source": [
    "df_personality_degree_explode = df_personality_degree.explode('personality_list')\n",
    "df_personality_degree_explode.columns = ['userid', 'personality_id']\n",
    "print(f\"Shape (before): {df_personality_degree_explode.shape}\")\n",
    "\n",
    "df_personality_degree_explode = df_personality_degree_explode.drop_duplicates(ignore_index=True)\n",
    "print(f\"Shape (after): {df_personality_degree_explode.shape}\")\n",
    "display(df_personality_degree_explode.head())"
   ]
  },
  {
   "cell_type": "markdown",
   "metadata": {},
   "source": [
    "Save user personality data for RapidMiner processing."
   ]
  },
  {
   "cell_type": "code",
   "execution_count": 69,
   "metadata": {},
   "outputs": [],
   "source": [
    "df_personality_degree_explode.to_csv('output/user_personality.csv', index=False)"
   ]
  },
  {
   "cell_type": "code",
   "execution_count": null,
   "metadata": {},
   "outputs": [],
   "source": []
  }
 ],
 "metadata": {
  "kernelspec": {
   "display_name": "Python 3",
   "language": "python",
   "name": "python3"
  },
  "language_info": {
   "codemirror_mode": {
    "name": "ipython",
    "version": 3
   },
   "file_extension": ".py",
   "mimetype": "text/x-python",
   "name": "python",
   "nbconvert_exporter": "python",
   "pygments_lexer": "ipython3",
   "version": "3.8.3"
  }
 },
 "nbformat": 4,
 "nbformat_minor": 4
}
